{
 "cells": [
  {
   "cell_type": "code",
   "execution_count": 62,
   "metadata": {},
   "outputs": [
    {
     "name": "stderr",
     "output_type": "stream",
     "text": [
      "ERROR:root:Line magic function `%mathplotlib` not found.\n"
     ]
    }
   ],
   "source": [
    "from datascience import *\n",
    "import numpy as np\n",
    "import math\n",
    "%mathplotlib inline"
   ]
  },
  {
   "cell_type": "code",
   "execution_count": 47,
   "metadata": {},
   "outputs": [],
   "source": [
    "UCB_data = Table.read_table('UCOP.csv')\n",
    "professors = UCB_data.where(\"Title\", are.equal_to(\"PROF-AY\"))"
   ]
  },
  {
   "cell_type": "code",
   "execution_count": 52,
   "metadata": {},
   "outputs": [],
   "source": [
    "professors = professors.select(2,3,4,5).sort(3, descending=True)"
   ]
  },
  {
   "cell_type": "code",
   "execution_count": 54,
   "metadata": {
    "scrolled": true
   },
   "outputs": [
    {
     "data": {
      "text/html": [
       "<table border=\"1\" class=\"dataframe\">\n",
       "    <thead>\n",
       "        <tr>\n",
       "            <th>First Name</th> <th>Last Name</th> <th>Title</th> <th>Gross Pay</th>\n",
       "        </tr>\n",
       "    </thead>\n",
       "    <tbody>\n",
       "        <tr>\n",
       "            <td> STEPHEN  </td> <td>SHORTELL  </td> <td>PROF-AY</td> <td>465004   </td>\n",
       "        </tr>\n",
       "    </tbody>\n",
       "        <tr>\n",
       "            <td> ROBERT   </td> <td>BIRGENEAU </td> <td>PROF-AY</td> <td>451845   </td>\n",
       "        </tr>\n",
       "    </tbody>\n",
       "        <tr>\n",
       "            <td> BIN      </td> <td>YU        </td> <td>PROF-AY</td> <td>382058   </td>\n",
       "        </tr>\n",
       "    </tbody>\n",
       "        <tr>\n",
       "            <td> OMAR     </td> <td>YAGHI     </td> <td>PROF-AY</td> <td>368771   </td>\n",
       "        </tr>\n",
       "    </tbody>\n",
       "        <tr>\n",
       "            <td> MARK     </td> <td>D'ESPOSITO</td> <td>PROF-AY</td> <td>363704   </td>\n",
       "        </tr>\n",
       "    </tbody>\n",
       "        <tr>\n",
       "            <td> JOHN     </td> <td>HARTWIG   </td> <td>PROF-AY</td> <td>354461   </td>\n",
       "        </tr>\n",
       "    </tbody>\n",
       "        <tr>\n",
       "            <td> JASJEET  </td> <td>SEKHON    </td> <td>PROF-AY</td> <td>344879   </td>\n",
       "        </tr>\n",
       "    </tbody>\n",
       "        <tr>\n",
       "            <td> TROND    </td> <td>PETERSEN  </td> <td>PROF-AY</td> <td>337817   </td>\n",
       "        </tr>\n",
       "    </tbody>\n",
       "        <tr>\n",
       "            <td> ALEXANDER</td> <td>PINES     </td> <td>PROF-AY</td> <td>327886   </td>\n",
       "        </tr>\n",
       "    </tbody>\n",
       "        <tr>\n",
       "            <td> SAUL     </td> <td>PERLMUTTER</td> <td>PROF-AY</td> <td>327861   </td>\n",
       "        </tr>\n",
       "    </tbody>\n",
       "</table>\n",
       "<p>... (549 rows omitted)</p"
      ],
      "text/plain": [
       "First Name | Last Name  | Title   | Gross Pay\n",
       " STEPHEN   | SHORTELL   | PROF-AY | 465004\n",
       " ROBERT    | BIRGENEAU  | PROF-AY | 451845\n",
       " BIN       | YU         | PROF-AY | 382058\n",
       " OMAR      | YAGHI      | PROF-AY | 368771\n",
       " MARK      | D'ESPOSITO | PROF-AY | 363704\n",
       " JOHN      | HARTWIG    | PROF-AY | 354461\n",
       " JASJEET   | SEKHON     | PROF-AY | 344879\n",
       " TROND     | PETERSEN   | PROF-AY | 337817\n",
       " ALEXANDER | PINES      | PROF-AY | 327886\n",
       " SAUL      | PERLMUTTER | PROF-AY | 327861\n",
       "... (549 rows omitted)"
      ]
     },
     "execution_count": 54,
     "metadata": {},
     "output_type": "execute_result"
    }
   ],
   "source": [
    "professors"
   ]
  },
  {
   "cell_type": "code",
   "execution_count": 60,
   "metadata": {},
   "outputs": [],
   "source": [
    "professors.select(3).hist()"
   ]
  },
  {
   "cell_type": "code",
   "execution_count": null,
   "metadata": {
    "collapsed": true
   },
   "outputs": [],
   "source": []
  }
 ],
 "metadata": {
  "kernelspec": {
   "display_name": "Python 3",
   "language": "python",
   "name": "python3"
  },
  "language_info": {
   "codemirror_mode": {
    "name": "ipython",
    "version": 3
   },
   "file_extension": ".py",
   "mimetype": "text/x-python",
   "name": "python",
   "nbconvert_exporter": "python",
   "pygments_lexer": "ipython3",
   "version": "3.6.1"
  }
 },
 "nbformat": 4,
 "nbformat_minor": 2
}
