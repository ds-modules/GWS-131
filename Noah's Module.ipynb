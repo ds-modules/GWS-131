{
 "cells": [
  {
   "cell_type": "code",
   "execution_count": 2,
   "metadata": {
    "collapsed": true
   },
   "outputs": [],
   "source": [
    "from datascience import *\n",
    "import numpy as np\n",
    "import math\n",
    "%matplotlib inline"
   ]
  },
  {
   "cell_type": "code",
   "execution_count": 3,
   "metadata": {
    "collapsed": true
   },
   "outputs": [],
   "source": [
    "UCB_data = Table.read_table('data/UCOP.csv')\n",
    "rd = UCB_data.select(2,3,4,5).sort(3, descending=True)\n",
    "professors = rd.where(\"Title\", are.equal_to(\"PROF-AY\"))"
   ]
  },
  {
   "cell_type": "code",
   "execution_count": 14,
   "metadata": {},
   "outputs": [
    {
     "data": {
      "text/html": [
       "<table border=\"1\" class=\"dataframe\">\n",
       "    <thead>\n",
       "        <tr>\n",
       "            <th>Year</th> <th>Location</th> <th>First Name</th> <th>Last Name</th> <th>Title</th> <th>Gross Pay</th> <th>Regular Pay</th> <th>Overtime Pay</th> <th>Other Pay</th>\n",
       "        </tr>\n",
       "    </thead>\n",
       "    <tbody>\n",
       "        <tr>\n",
       "            <td>2015</td> <td>Berkeley</td> <td> BARIKA   </td> <td>BURTON   </td> <td>ACAD ACHIEVEMENT CNSLR 2</td> <td>54861    </td> <td>52541      </td> <td>0           </td> <td>2320     </td>\n",
       "        </tr>\n",
       "    </tbody>\n",
       "        <tr>\n",
       "            <td>2015</td> <td>Berkeley</td> <td> MAYRA    </td> <td>GONZALEZ </td> <td>ACAD ACHIEVEMENT CNSLR 2</td> <td>51624    </td> <td>51624      </td> <td>0           </td> <td>0        </td>\n",
       "        </tr>\n",
       "    </tbody>\n",
       "        <tr>\n",
       "            <td>2015</td> <td>Berkeley</td> <td> DIANA    </td> <td>FLORES   </td> <td>ACAD ACHIEVEMENT CNSLR 2</td> <td>48880    </td> <td>47593      </td> <td>787         </td> <td>500      </td>\n",
       "        </tr>\n",
       "    </tbody>\n",
       "        <tr>\n",
       "            <td>2015</td> <td>Berkeley</td> <td> KATHERINE</td> <td>CASTRO   </td> <td>ACAD ACHIEVEMENT CNSLR 2</td> <td>48646    </td> <td>48371      </td> <td>275         </td> <td>0        </td>\n",
       "        </tr>\n",
       "    </tbody>\n",
       "        <tr>\n",
       "            <td>2015</td> <td>Berkeley</td> <td> LILIANA  </td> <td>IGLESIAS </td> <td>ACAD ACHIEVEMENT CNSLR 2</td> <td>47080    </td> <td>47080      </td> <td>0           </td> <td>0        </td>\n",
       "        </tr>\n",
       "    </tbody>\n",
       "        <tr>\n",
       "            <td>2015</td> <td>Berkeley</td> <td> BRIANA   </td> <td>STARKS   </td> <td>ACAD ACHIEVEMENT CNSLR 2</td> <td>41739    </td> <td>41739      </td> <td>0           </td> <td>0        </td>\n",
       "        </tr>\n",
       "    </tbody>\n",
       "        <tr>\n",
       "            <td>2015</td> <td>Berkeley</td> <td> TOMIE    </td> <td>LENEAR II</td> <td>ACAD ACHIEVEMENT CNSLR 2</td> <td>28980    </td> <td>28980      </td> <td>0           </td> <td>0        </td>\n",
       "        </tr>\n",
       "    </tbody>\n",
       "        <tr>\n",
       "            <td>2015</td> <td>Berkeley</td> <td> STEVEN   </td> <td>NGUYEN   </td> <td>ACAD ACHIEVEMENT CNSLR 2</td> <td>24312    </td> <td>24312      </td> <td>0           </td> <td>0        </td>\n",
       "        </tr>\n",
       "    </tbody>\n",
       "        <tr>\n",
       "            <td>2015</td> <td>Berkeley</td> <td> STEVEN   </td> <td>CZIFRA   </td> <td>ACAD ACHIEVEMENT CNSLR 2</td> <td>16560    </td> <td>16560      </td> <td>0           </td> <td>0        </td>\n",
       "        </tr>\n",
       "    </tbody>\n",
       "        <tr>\n",
       "            <td>2015</td> <td>Berkeley</td> <td> MINDA    </td> <td>MURPHY   </td> <td>ACAD ACHIEVEMENT CNSLR 2</td> <td>9046     </td> <td>4906       </td> <td>0           </td> <td>4140     </td>\n",
       "        </tr>\n",
       "    </tbody>\n",
       "</table>\n",
       "<p>... (35363 rows omitted)</p"
      ],
      "text/plain": [
       "Year | Location | First Name | Last Name | Title                    | Gross Pay | Regular Pay | Overtime Pay | Other Pay\n",
       "2015 | Berkeley |  BARIKA    | BURTON    | ACAD ACHIEVEMENT CNSLR 2 | 54861     | 52541       | 0            | 2320\n",
       "2015 | Berkeley |  MAYRA     | GONZALEZ  | ACAD ACHIEVEMENT CNSLR 2 | 51624     | 51624       | 0            | 0\n",
       "2015 | Berkeley |  DIANA     | FLORES    | ACAD ACHIEVEMENT CNSLR 2 | 48880     | 47593       | 787          | 500\n",
       "2015 | Berkeley |  KATHERINE | CASTRO    | ACAD ACHIEVEMENT CNSLR 2 | 48646     | 48371       | 275          | 0\n",
       "2015 | Berkeley |  LILIANA   | IGLESIAS  | ACAD ACHIEVEMENT CNSLR 2 | 47080     | 47080       | 0            | 0\n",
       "2015 | Berkeley |  BRIANA    | STARKS    | ACAD ACHIEVEMENT CNSLR 2 | 41739     | 41739       | 0            | 0\n",
       "2015 | Berkeley |  TOMIE     | LENEAR II | ACAD ACHIEVEMENT CNSLR 2 | 28980     | 28980       | 0            | 0\n",
       "2015 | Berkeley |  STEVEN    | NGUYEN    | ACAD ACHIEVEMENT CNSLR 2 | 24312     | 24312       | 0            | 0\n",
       "2015 | Berkeley |  STEVEN    | CZIFRA    | ACAD ACHIEVEMENT CNSLR 2 | 16560     | 16560       | 0            | 0\n",
       "2015 | Berkeley |  MINDA     | MURPHY    | ACAD ACHIEVEMENT CNSLR 2 | 9046      | 4906        | 0            | 4140\n",
       "... (35363 rows omitted)"
      ]
     },
     "execution_count": 14,
     "metadata": {},
     "output_type": "execute_result"
    }
   ],
   "source": [
    "UCB_data"
   ]
  },
  {
   "cell_type": "code",
   "execution_count": 4,
   "metadata": {
    "scrolled": true
   },
   "outputs": [
    {
     "data": {
      "text/html": [
       "<table border=\"1\" class=\"dataframe\">\n",
       "    <thead>\n",
       "        <tr>\n",
       "            <th>First Name</th> <th>Last Name</th> <th>Title</th> <th>Gross Pay</th>\n",
       "        </tr>\n",
       "    </thead>\n",
       "    <tbody>\n",
       "        <tr>\n",
       "            <td> STEPHEN  </td> <td>SHORTELL    </td> <td>PROF-AY</td> <td>465004   </td>\n",
       "        </tr>\n",
       "    </tbody>\n",
       "        <tr>\n",
       "            <td> ROBERT   </td> <td>BIRGENEAU   </td> <td>PROF-AY</td> <td>451845   </td>\n",
       "        </tr>\n",
       "    </tbody>\n",
       "        <tr>\n",
       "            <td> BIN      </td> <td>YU          </td> <td>PROF-AY</td> <td>382058   </td>\n",
       "        </tr>\n",
       "    </tbody>\n",
       "        <tr>\n",
       "            <td> OMAR     </td> <td>YAGHI       </td> <td>PROF-AY</td> <td>368771   </td>\n",
       "        </tr>\n",
       "    </tbody>\n",
       "        <tr>\n",
       "            <td> MARK     </td> <td>D'ESPOSITO  </td> <td>PROF-AY</td> <td>363704   </td>\n",
       "        </tr>\n",
       "    </tbody>\n",
       "        <tr>\n",
       "            <td> JOHN     </td> <td>HARTWIG     </td> <td>PROF-AY</td> <td>354461   </td>\n",
       "        </tr>\n",
       "    </tbody>\n",
       "        <tr>\n",
       "            <td> JASJEET  </td> <td>SEKHON      </td> <td>PROF-AY</td> <td>344879   </td>\n",
       "        </tr>\n",
       "    </tbody>\n",
       "        <tr>\n",
       "            <td> TROND    </td> <td>PETERSEN    </td> <td>PROF-AY</td> <td>337817   </td>\n",
       "        </tr>\n",
       "    </tbody>\n",
       "        <tr>\n",
       "            <td> ALEXANDER</td> <td>PINES       </td> <td>PROF-AY</td> <td>327886   </td>\n",
       "        </tr>\n",
       "    </tbody>\n",
       "        <tr>\n",
       "            <td> SAUL     </td> <td>PERLMUTTER  </td> <td>PROF-AY</td> <td>327861   </td>\n",
       "        </tr>\n",
       "    </tbody>\n",
       "        <tr>\n",
       "            <td> THAD     </td> <td>DUNNING     </td> <td>PROF-AY</td> <td>322936   </td>\n",
       "        </tr>\n",
       "    </tbody>\n",
       "        <tr>\n",
       "            <td> ERAN     </td> <td>RABANI      </td> <td>PROF-AY</td> <td>313601   </td>\n",
       "        </tr>\n",
       "    </tbody>\n",
       "        <tr>\n",
       "            <td> PEIDONG  </td> <td>YANG        </td> <td>PROF-AY</td> <td>309751   </td>\n",
       "        </tr>\n",
       "    </tbody>\n",
       "        <tr>\n",
       "            <td> MARK     </td> <td>VAN DER LAAN</td> <td>PROF-AY</td> <td>309459   </td>\n",
       "        </tr>\n",
       "    </tbody>\n",
       "        <tr>\n",
       "            <td> ROBERT   </td> <td>KNIGHT      </td> <td>PROF-AY</td> <td>307701   </td>\n",
       "        </tr>\n",
       "    </tbody>\n",
       "        <tr>\n",
       "            <td> STEVEN   </td> <td>BECKWITH    </td> <td>PROF-AY</td> <td>307188   </td>\n",
       "        </tr>\n",
       "    </tbody>\n",
       "        <tr>\n",
       "            <td> ALAN     </td> <td>SCHOENFELD  </td> <td>PROF-AY</td> <td>305994   </td>\n",
       "        </tr>\n",
       "    </tbody>\n",
       "        <tr>\n",
       "            <td> RODNEY   </td> <td>HERO        </td> <td>PROF-AY</td> <td>303635   </td>\n",
       "        </tr>\n",
       "    </tbody>\n",
       "        <tr>\n",
       "            <td> STEVEN   </td> <td>RAPHAEL     </td> <td>PROF-AY</td> <td>302761   </td>\n",
       "        </tr>\n",
       "    </tbody>\n",
       "        <tr>\n",
       "            <td> ERIC     </td> <td>SCHICKLER   </td> <td>PROF-AY</td> <td>301554   </td>\n",
       "        </tr>\n",
       "    </tbody>\n",
       "</table>\n",
       "<p>... (539 rows omitted)</p"
      ],
      "text/plain": [
       "<IPython.core.display.HTML object>"
      ]
     },
     "metadata": {},
     "output_type": "display_data"
    }
   ],
   "source": [
    "professors.show(20)"
   ]
  },
  {
   "cell_type": "code",
   "execution_count": 5,
   "metadata": {},
   "outputs": [
    {
     "data": {
      "image/png": "[encoded data removed]",
      "text/plain": [
       "<matplotlib.figure.Figure at 0x1d2980053c8>"
      ]
     },
     "metadata": {},
     "output_type": "display_data"
    }
   ],
   "source": [
    "professors.select(3).hist()"
   ]
  },
  {
   "cell_type": "markdown",
   "metadata": {},
   "source": [
    "### Lecturers with Job Security"
   ]
  },
  {
   "cell_type": "code",
   "execution_count": 6,
   "metadata": {},
   "outputs": [
    {
     "data": {
      "text/html": [
       "<table border=\"1\" class=\"dataframe\">\n",
       "    <thead>\n",
       "        <tr>\n",
       "            <th>First Name</th> <th>Last Name</th> <th>Title</th> <th>Gross Pay</th>\n",
       "        </tr>\n",
       "    </thead>\n",
       "    <tbody>\n",
       "        <tr>\n",
       "            <td> PAUL     </td> <td>HILFINGER</td> <td>SR LECT SOE-AY</td> <td>125772   </td>\n",
       "        </tr>\n",
       "    </tbody>\n",
       "</table>"
      ],
      "text/plain": [
       "First Name | Last Name | Title          | Gross Pay\n",
       " PAUL      | HILFINGER | SR LECT SOE-AY | 125772"
      ]
     },
     "execution_count": 6,
     "metadata": {},
     "output_type": "execute_result"
    }
   ],
   "source": [
    "rd.where(0, are.containing(\"PROF\"))\n",
    "rd.where(2, are.containing(\"LECT\")).where(1, \"HILFINGER\")"
   ]
  },
  {
   "cell_type": "markdown",
   "metadata": {},
   "source": [
    "This is where all the stuff for different  job codes is. Hilfinger is apparently not a professor but a lectuerer with job security. http://ucop.edu/academic-personnel-programs/_files/acad-title-codes/academic-ttles-sorted-title-name.pdf"
   ]
  },
  {
   "cell_type": "code",
   "execution_count": 7,
   "metadata": {
    "scrolled": true
   },
   "outputs": [
    {
     "data": {
      "text/html": [
       "<table border=\"1\" class=\"dataframe\">\n",
       "    <thead>\n",
       "        <tr>\n",
       "            <th>First Name</th> <th>Last Name</th> <th>Title</th> <th>Gross Pay</th>\n",
       "        </tr>\n",
       "    </thead>\n",
       "    <tbody>\n",
       "        <tr>\n",
       "            <td> DANIEL   </td> <td>GARCIA   </td> <td>SR LECT SOE-AY</td> <td>172832   </td>\n",
       "        </tr>\n",
       "    </tbody>\n",
       "        <tr>\n",
       "            <td> SARA     </td> <td>BECKMAN  </td> <td>SR LECT SOE-AY</td> <td>166033   </td>\n",
       "        </tr>\n",
       "    </tbody>\n",
       "        <tr>\n",
       "            <td> JOAN     </td> <td>BIEDER   </td> <td>SR LECT SOE-AY</td> <td>137744   </td>\n",
       "        </tr>\n",
       "    </tbody>\n",
       "        <tr>\n",
       "            <td> DAVID    </td> <td>PRESTI   </td> <td>SR LECT SOE-AY</td> <td>136479   </td>\n",
       "        </tr>\n",
       "    </tbody>\n",
       "        <tr>\n",
       "            <td> PAUL     </td> <td>HILFINGER</td> <td>SR LECT SOE-AY</td> <td>125772   </td>\n",
       "        </tr>\n",
       "    </tbody>\n",
       "        <tr>\n",
       "            <td> BABAK    </td> <td>AYAZIFAR </td> <td>SR LECT SOE-AY</td> <td>120325   </td>\n",
       "        </tr>\n",
       "    </tbody>\n",
       "        <tr>\n",
       "            <td> ROBERT   </td> <td>CALO     </td> <td>SR LECT SOE-AY</td> <td>120325   </td>\n",
       "        </tr>\n",
       "    </tbody>\n",
       "        <tr>\n",
       "            <td> VIKRAM   </td> <td>CHANDRA  </td> <td>SR LECT SOE-AY</td> <td>118220   </td>\n",
       "        </tr>\n",
       "    </tbody>\n",
       "        <tr>\n",
       "            <td> ANINDITA </td> <td>ADHIKARI </td> <td>SR LECT SOE-AY</td> <td>107345   </td>\n",
       "        </tr>\n",
       "    </tbody>\n",
       "        <tr>\n",
       "            <td> PAUL     </td> <td>GRABOWICZ</td> <td>SR LECT SOE-AY</td> <td>85410    </td>\n",
       "        </tr>\n",
       "    </tbody>\n",
       "</table>"
      ],
      "text/plain": [
       "First Name | Last Name | Title          | Gross Pay\n",
       " DANIEL    | GARCIA    | SR LECT SOE-AY | 172832\n",
       " SARA      | BECKMAN   | SR LECT SOE-AY | 166033\n",
       " JOAN      | BIEDER    | SR LECT SOE-AY | 137744\n",
       " DAVID     | PRESTI    | SR LECT SOE-AY | 136479\n",
       " PAUL      | HILFINGER | SR LECT SOE-AY | 125772\n",
       " BABAK     | AYAZIFAR  | SR LECT SOE-AY | 120325\n",
       " ROBERT    | CALO      | SR LECT SOE-AY | 120325\n",
       " VIKRAM    | CHANDRA   | SR LECT SOE-AY | 118220\n",
       " ANINDITA  | ADHIKARI  | SR LECT SOE-AY | 107345\n",
       " PAUL      | GRABOWICZ | SR LECT SOE-AY | 85410"
      ]
     },
     "execution_count": 7,
     "metadata": {},
     "output_type": "execute_result"
    }
   ],
   "source": [
    "# SR LECT SOE-AY\n",
    "rd.where(2, \"SR LECT SOE-AY\")"
   ]
  },
  {
   "cell_type": "markdown",
   "metadata": {},
   "source": [
    "### Lecturers on track to job security"
   ]
  },
  {
   "cell_type": "code",
   "execution_count": 8,
   "metadata": {},
   "outputs": [
    {
     "data": {
      "text/html": [
       "<table border=\"1\" class=\"dataframe\">\n",
       "    <thead>\n",
       "        <tr>\n",
       "            <th>First Name</th> <th>Last Name</th> <th>Title</th> <th>Gross Pay</th>\n",
       "        </tr>\n",
       "    </thead>\n",
       "    <tbody>\n",
       "        <tr>\n",
       "            <td> JOHN     </td> <td>DENERO   </td> <td>LECT PSOE-AY-100%</td> <td>140449   </td>\n",
       "        </tr>\n",
       "    </tbody>\n",
       "</table>"
      ],
      "text/plain": [
       "First Name | Last Name | Title             | Gross Pay\n",
       " JOHN      | DENERO    | LECT PSOE-AY-100% | 140449"
      ]
     },
     "execution_count": 8,
     "metadata": {},
     "output_type": "execute_result"
    }
   ],
   "source": [
    "rd.where(1, \"DENERO\")"
   ]
  },
  {
   "cell_type": "code",
   "execution_count": 9,
   "metadata": {},
   "outputs": [
    {
     "data": {
      "text/html": [
       "<table border=\"1\" class=\"dataframe\">\n",
       "    <thead>\n",
       "        <tr>\n",
       "            <th>First Name</th> <th>Last Name</th> <th>Title</th> <th>Gross Pay</th>\n",
       "        </tr>\n",
       "    </thead>\n",
       "    <tbody>\n",
       "        <tr>\n",
       "            <td> JOHN     </td> <td>DENERO   </td> <td>LECT PSOE-AY-100%</td> <td>140449   </td>\n",
       "        </tr>\n",
       "    </tbody>\n",
       "        <tr>\n",
       "            <td> JOSHUA   </td> <td>HUG      </td> <td>LECT PSOE-AY-100%</td> <td>99909    </td>\n",
       "        </tr>\n",
       "    </tbody>\n",
       "        <tr>\n",
       "            <td> MATTHEW  </td> <td>HOUGH    </td> <td>LECT PSOE-AY-100%</td> <td>29730    </td>\n",
       "        </tr>\n",
       "    </tbody>\n",
       "</table>"
      ],
      "text/plain": [
       "First Name | Last Name | Title             | Gross Pay\n",
       " JOHN      | DENERO    | LECT PSOE-AY-100% | 140449\n",
       " JOSHUA    | HUG       | LECT PSOE-AY-100% | 99909\n",
       " MATTHEW   | HOUGH     | LECT PSOE-AY-100% | 29730"
      ]
     },
     "execution_count": 9,
     "metadata": {},
     "output_type": "execute_result"
    }
   ],
   "source": [
    "rd.where(2, are.containing(\"PSOE\"))"
   ]
  },
  {
   "cell_type": "markdown",
   "metadata": {},
   "source": [
    "Try finding Professor Balmer using .where and replace 'a' and 'b' in the paranthesis:"
   ]
  },
  {
   "cell_type": "code",
   "execution_count": 10,
   "metadata": {},
   "outputs": [
    {
     "data": {
      "text/html": [
       "<table border=\"1\" class=\"dataframe\">\n",
       "    <thead>\n",
       "        <tr>\n",
       "            <th>First Name</th> <th>Last Name</th> <th>Title</th> <th>Gross Pay</th>\n",
       "        </tr>\n",
       "    </thead>\n",
       "    <tbody>\n",
       "        <tr>\n",
       "            <td> RICHARD  </td> <td>BAMLER   </td> <td>ASST PROF-AY</td> <td>196836   </td>\n",
       "        </tr>\n",
       "    </tbody>\n",
       "</table>"
      ],
      "text/plain": [
       "First Name | Last Name | Title        | Gross Pay\n",
       " RICHARD   | BAMLER    | ASST PROF-AY | 196836"
      ]
     },
     "execution_count": 10,
     "metadata": {},
     "output_type": "execute_result"
    }
   ],
   "source": [
    "#Modify this code by replacing a and b\n",
    "rd.where(a, b)"
   ]
  },
  {
   "cell_type": "markdown",
   "metadata": {},
   "source": [
    "Display Assistant Professors, \"ASST PROF-AY\", but only the first 10 rows of the table. \n",
    "\n",
    "\n",
    "\n",
    "Modify the code below:"
   ]
  },
  {
   "cell_type": "code",
   "execution_count": 1,
   "metadata": {},
   "outputs": [
    {
     "ename": "NameError",
     "evalue": "name 'rd' is not defined",
     "output_type": "error",
     "traceback": [
      "\u001b[0;31m---------------------------------------------------------------------------\u001b[0m",
      "\u001b[0;31mNameError\u001b[0m                                 Traceback (most recent call last)",
      "\u001b[0;32m<ipython-input-1-c188f97bf0bb>\u001b[0m in \u001b[0;36m<module>\u001b[0;34m()\u001b[0m\n\u001b[1;32m      1\u001b[0m \u001b[0;31m#Modify the code by replacing a, b, c\u001b[0m\u001b[0;34m\u001b[0m\u001b[0;34m\u001b[0m\u001b[0m\n\u001b[0;32m----> 2\u001b[0;31m \u001b[0mrd\u001b[0m\u001b[0;34m.\u001b[0m\u001b[0mwhere\u001b[0m\u001b[0;34m(\u001b[0m\u001b[0ma\u001b[0m\u001b[0;34m,\u001b[0m \u001b[0mb\u001b[0m\u001b[0;34m)\u001b[0m\u001b[0;34m.\u001b[0m\u001b[0mshow\u001b[0m\u001b[0;34m(\u001b[0m\u001b[0mc\u001b[0m\u001b[0;34m)\u001b[0m\u001b[0;34m\u001b[0m\u001b[0m\n\u001b[0m",
      "\u001b[0;31mNameError\u001b[0m: name 'rd' is not defined"
     ]
    }
   ],
   "source": [
    "#Modify the code by replacing a, b, c\n",
    "rd.where(a, b).show(c)"
   ]
  },
  {
   "cell_type": "markdown",
   "metadata": {},
   "source": [
    "Find the Adjunct professors, \"ADJ PROF-AY\" using the code below:"
   ]
  },
  {
   "cell_type": "code",
   "execution_count": 12,
   "metadata": {},
   "outputs": [
    {
     "data": {
      "text/html": [
       "<table border=\"1\" class=\"dataframe\">\n",
       "    <thead>\n",
       "        <tr>\n",
       "            <th>First Name</th> <th>Last Name</th> <th>Title</th> <th>Gross Pay</th>\n",
       "        </tr>\n",
       "    </thead>\n",
       "    <tbody>\n",
       "        <tr>\n",
       "            <td> LAUREL   </td> <td>FLETCHER   </td> <td>ADJ PROF-AY</td> <td>242519   </td>\n",
       "        </tr>\n",
       "    </tbody>\n",
       "        <tr>\n",
       "            <td> ELISABETH</td> <td>SEMEL      </td> <td>ADJ PROF-AY</td> <td>237492   </td>\n",
       "        </tr>\n",
       "    </tbody>\n",
       "        <tr>\n",
       "            <td> DAVID    </td> <td>OPPENHEIMER</td> <td>ADJ PROF-AY</td> <td>235384   </td>\n",
       "        </tr>\n",
       "    </tbody>\n",
       "        <tr>\n",
       "            <td> JEFFREY  </td> <td>SELBIN     </td> <td>ADJ PROF-AY</td> <td>232283   </td>\n",
       "        </tr>\n",
       "    </tbody>\n",
       "        <tr>\n",
       "            <td> CAROL    </td> <td>GALANTE    </td> <td>ADJ PROF-AY</td> <td>204533   </td>\n",
       "        </tr>\n",
       "    </tbody>\n",
       "        <tr>\n",
       "            <td> ELLEN    </td> <td>EISEN      </td> <td>ADJ PROF-AY</td> <td>187962   </td>\n",
       "        </tr>\n",
       "    </tbody>\n",
       "        <tr>\n",
       "            <td> ERIC     </td> <td>STOVER     </td> <td>ADJ PROF-AY</td> <td>183117   </td>\n",
       "        </tr>\n",
       "    </tbody>\n",
       "        <tr>\n",
       "            <td> ANNE     </td> <td>BARANGER   </td> <td>ADJ PROF-AY</td> <td>164909   </td>\n",
       "        </tr>\n",
       "    </tbody>\n",
       "        <tr>\n",
       "            <td> MARY     </td> <td>FRAMPTON   </td> <td>ADJ PROF-AY</td> <td>161301   </td>\n",
       "        </tr>\n",
       "    </tbody>\n",
       "        <tr>\n",
       "            <td> JENNIFER </td> <td>GRANHOLM   </td> <td>ADJ PROF-AY</td> <td>156288   </td>\n",
       "        </tr>\n",
       "    </tbody>\n",
       "</table>\n",
       "<p>... (22 rows omitted)</p"
      ],
      "text/plain": [
       "First Name | Last Name   | Title       | Gross Pay\n",
       " LAUREL    | FLETCHER    | ADJ PROF-AY | 242519\n",
       " ELISABETH | SEMEL       | ADJ PROF-AY | 237492\n",
       " DAVID     | OPPENHEIMER | ADJ PROF-AY | 235384\n",
       " JEFFREY   | SELBIN      | ADJ PROF-AY | 232283\n",
       " CAROL     | GALANTE     | ADJ PROF-AY | 204533\n",
       " ELLEN     | EISEN       | ADJ PROF-AY | 187962\n",
       " ERIC      | STOVER      | ADJ PROF-AY | 183117\n",
       " ANNE      | BARANGER    | ADJ PROF-AY | 164909\n",
       " MARY      | FRAMPTON    | ADJ PROF-AY | 161301\n",
       " JENNIFER  | GRANHOLM    | ADJ PROF-AY | 156288\n",
       "... (22 rows omitted)"
      ]
     },
     "execution_count": 12,
     "metadata": {},
     "output_type": "execute_result"
    }
   ],
   "source": [
    "#Modify the code by replacing a, b\n",
    "rd.where(a, b)"
   ]
  },
  {
   "cell_type": "markdown",
   "metadata": {},
   "source": [
    "### Comparing the ratios of men to women in highest paying positions by title\n"
   ]
  },
  {
   "cell_type": "code",
   "execution_count": 13,
   "metadata": {},
   "outputs": [
    {
     "data": {
      "text/html": [
       "<table border=\"1\" class=\"dataframe\">\n",
       "    <thead>\n",
       "        <tr>\n",
       "            <th>Title</th> <th>Ratio</th>\n",
       "        </tr>\n",
       "    </thead>\n",
       "    <tbody>\n",
       "        <tr>\n",
       "            <td>PROF-AY          </td> <td>1    </td>\n",
       "        </tr>\n",
       "    </tbody>\n",
       "        <tr>\n",
       "            <td>ASST PROF-AY     </td> <td>1    </td>\n",
       "        </tr>\n",
       "    </tbody>\n",
       "        <tr>\n",
       "            <td>SR LECT SOE-AY   </td> <td>0.7  </td>\n",
       "        </tr>\n",
       "    </tbody>\n",
       "        <tr>\n",
       "            <td>LECT PSOE-AY-100%</td> <td>1    </td>\n",
       "        </tr>\n",
       "    </tbody>\n",
       "        <tr>\n",
       "            <td>ADJ PROF-AY      </td> <td>0.3  </td>\n",
       "        </tr>\n",
       "    </tbody>\n",
       "</table>"
      ],
      "text/plain": [
       "Title             | Ratio\n",
       "PROF-AY           | 1\n",
       "ASST PROF-AY      | 1\n",
       "SR LECT SOE-AY    | 0.7\n",
       "LECT PSOE-AY-100% | 1\n",
       "ADJ PROF-AY       | 0.3"
      ]
     },
     "execution_count": 13,
     "metadata": {},
     "output_type": "execute_result"
    }
   ],
   "source": [
    "titles = make_array(\"PROF-AY\", \"ASST PROF-AY\", \"SR LECT SOE-AY\", \"LECT PSOE-AY-100%\", \"ADJ PROF-AY\")\n",
    "ratios = make_array(1, 1, .7, 1, .3)\n",
    "stats = Table().with_columns(\n",
    "                \"Title\", titles,\n",
    "                \"Ratio\", ratios\n",
    "                            )\n",
    "stats"
   ]
  },
  {
   "cell_type": "markdown",
   "metadata": {},
   "source": [
    "Conclusions based on this data:\n",
    "Definitely seems like some departments have an unbalanced proportion of men to women in highest paying positions. There are some notable outliers in that higher paid Adjunct Professors tend to be women. WIll organize this further and add more in depth analysis."
   ]
  },
  {
   "cell_type": "code",
   "execution_count": null,
   "metadata": {
    "collapsed": true
   },
   "outputs": [],
   "source": []
  }
 ],
 "metadata": {
  "kernelspec": {
   "display_name": "Python 3",
   "language": "python",
   "name": "python3"
  },
  "language_info": {
   "codemirror_mode": {
    "name": "ipython",
    "version": 3
   },
   "file_extension": ".py",
   "mimetype": "text/x-python",
   "name": "python",
   "nbconvert_exporter": "python",
   "pygments_lexer": "ipython3",
   "version": "3.6.1"
  }
 },
 "nbformat": 4,
 "nbformat_minor": 2
}
