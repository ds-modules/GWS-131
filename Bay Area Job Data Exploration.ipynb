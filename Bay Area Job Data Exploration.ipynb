{
 "cells": [
  {
   "cell_type": "code",
   "execution_count": 3,
   "metadata": {
    "collapsed": true
   },
   "outputs": [],
   "source": [
    "from datascience import *\n",
    "import numpy as np\n",
    "import math\n",
    "%matplotlib inline"
   ]
  },
  {
   "cell_type": "code",
   "execution_count": 4,
   "metadata": {
    "collapsed": true
   },
   "outputs": [],
   "source": [
    "# SUJUDE RULES \n",
    "# old cleaning process to generate bay_area_data.csv\n",
    "# data = Table().read_table('data/cps_00002.csv')"
   ]
  },
  {
   "cell_type": "code",
   "execution_count": 5,
   "metadata": {
    "collapsed": true
   },
   "outputs": [],
   "source": [
    "# extract San Francisco Metropolitan Area\n",
    "#sf = data.where('METAREA', are.equal_to(7365))"
   ]
  },
  {
   "cell_type": "code",
   "execution_count": 6,
   "metadata": {
    "collapsed": true
   },
   "outputs": [],
   "source": [
    "# Extract Silicon Valley/San Jose Metropolitan Area\n",
    "#sv = data.where('METAREA', are.equal_to(7401))"
   ]
  },
  {
   "cell_type": "code",
   "execution_count": 7,
   "metadata": {
    "collapsed": true
   },
   "outputs": [],
   "source": [
    "# bay_area = sf.append(sv)"
   ]
  },
  {
   "cell_type": "code",
   "execution_count": 8,
   "metadata": {
    "collapsed": true
   },
   "outputs": [],
   "source": [
    "# bay_area.to_df().to_csv('bay_area_data.csv', index=False)"
   ]
  },
  {
   "cell_type": "code",
   "execution_count": 9,
   "metadata": {},
   "outputs": [
    {
     "data": {
      "text/html": [
       "<table border=\"1\" class=\"dataframe\">\n",
       "    <thead>\n",
       "        <tr>\n",
       "            <th>YEAR</th> <th>SERIAL</th> <th>HWTSUPP</th> <th>CPSID</th> <th>ASECFLAG</th> <th>HFLAG</th> <th>METAREA</th> <th>MONTH</th> <th>PERNUM</th> <th>CPSIDP</th> <th>WTSUPP</th> <th>SEX</th> <th>RACE</th> <th>OCC2010</th> <th>INCTOT</th>\n",
       "        </tr>\n",
       "    </thead>\n",
       "    <tbody>\n",
       "        <tr>\n",
       "            <td>2013</td> <td>92957 </td> <td>2862.21</td> <td>2.01112e+13</td> <td>1       </td> <td>nan  </td> <td>7365   </td> <td>3    </td> <td>1     </td> <td>2.01112e+13</td> <td>2862.21</td> <td>1   </td> <td>100 </td> <td>9620   </td> <td>25000   </td>\n",
       "        </tr>\n",
       "    </tbody>\n",
       "        <tr>\n",
       "            <td>2013</td> <td>92957 </td> <td>2862.21</td> <td>2.01112e+13</td> <td>1       </td> <td>nan  </td> <td>7365   </td> <td>3    </td> <td>2     </td> <td>2.01112e+13</td> <td>4541.27</td> <td>1   </td> <td>100 </td> <td>6260   </td> <td>12011   </td>\n",
       "        </tr>\n",
       "    </tbody>\n",
       "        <tr>\n",
       "            <td>2013</td> <td>92957 </td> <td>2862.21</td> <td>2.01112e+13</td> <td>1       </td> <td>nan  </td> <td>7365   </td> <td>3    </td> <td>3     </td> <td>2.01112e+13</td> <td>4513.16</td> <td>1   </td> <td>100 </td> <td>6420   </td> <td>25000   </td>\n",
       "        </tr>\n",
       "    </tbody>\n",
       "        <tr>\n",
       "            <td>2013</td> <td>92957 </td> <td>2862.21</td> <td>2.01112e+13</td> <td>1       </td> <td>nan  </td> <td>7365   </td> <td>3    </td> <td>4     </td> <td>2.01112e+13</td> <td>4513.16</td> <td>1   </td> <td>100 </td> <td>9130   </td> <td>10000   </td>\n",
       "        </tr>\n",
       "    </tbody>\n",
       "        <tr>\n",
       "            <td>2013</td> <td>92959 </td> <td>2385.98</td> <td>2.01212e+13</td> <td>1       </td> <td>nan  </td> <td>7365   </td> <td>3    </td> <td>1     </td> <td>2.01212e+13</td> <td>2385.98</td> <td>2   </td> <td>652 </td> <td>3530   </td> <td>53515   </td>\n",
       "        </tr>\n",
       "    </tbody>\n",
       "        <tr>\n",
       "            <td>2013</td> <td>92959 </td> <td>2385.98</td> <td>2.01212e+13</td> <td>1       </td> <td>nan  </td> <td>7365   </td> <td>3    </td> <td>2     </td> <td>2.01212e+13</td> <td>2385.98</td> <td>1   </td> <td>652 </td> <td>3110   </td> <td>71000   </td>\n",
       "        </tr>\n",
       "    </tbody>\n",
       "        <tr>\n",
       "            <td>2013</td> <td>92959 </td> <td>2385.98</td> <td>2.01212e+13</td> <td>1       </td> <td>nan  </td> <td>7365   </td> <td>3    </td> <td>3     </td> <td>2.01212e+13</td> <td>1661.4 </td> <td>2   </td> <td>652 </td> <td>9920   </td> <td>99999999</td>\n",
       "        </tr>\n",
       "    </tbody>\n",
       "        <tr>\n",
       "            <td>2013</td> <td>92963 </td> <td>3137.8 </td> <td>2.01112e+13</td> <td>1       </td> <td>nan  </td> <td>7365   </td> <td>3    </td> <td>1     </td> <td>2.01112e+13</td> <td>3137.8 </td> <td>2   </td> <td>100 </td> <td>430    </td> <td>77800   </td>\n",
       "        </tr>\n",
       "    </tbody>\n",
       "        <tr>\n",
       "            <td>2013</td> <td>92963 </td> <td>3137.8 </td> <td>2.01112e+13</td> <td>1       </td> <td>nan  </td> <td>7365   </td> <td>3    </td> <td>2     </td> <td>2.01112e+13</td> <td>3309.68</td> <td>1   </td> <td>100 </td> <td>4620   </td> <td>23520   </td>\n",
       "        </tr>\n",
       "    </tbody>\n",
       "        <tr>\n",
       "            <td>2013</td> <td>92963 </td> <td>3137.8 </td> <td>2.01112e+13</td> <td>1       </td> <td>nan  </td> <td>7365   </td> <td>3    </td> <td>3     </td> <td>2.01112e+13</td> <td>3309.68</td> <td>1   </td> <td>100 </td> <td>4700   </td> <td>14120   </td>\n",
       "        </tr>\n",
       "    </tbody>\n",
       "</table>\n",
       "<p>... (13100 rows omitted)</p"
      ],
      "text/plain": [
       "YEAR | SERIAL | HWTSUPP | CPSID       | ASECFLAG | HFLAG | METAREA | MONTH | PERNUM | CPSIDP      | WTSUPP  | SEX  | RACE | OCC2010 | INCTOT\n",
       "2013 | 92957  | 2862.21 | 2.01112e+13 | 1        | nan   | 7365    | 3     | 1      | 2.01112e+13 | 2862.21 | 1    | 100  | 9620    | 25000\n",
       "2013 | 92957  | 2862.21 | 2.01112e+13 | 1        | nan   | 7365    | 3     | 2      | 2.01112e+13 | 4541.27 | 1    | 100  | 6260    | 12011\n",
       "2013 | 92957  | 2862.21 | 2.01112e+13 | 1        | nan   | 7365    | 3     | 3      | 2.01112e+13 | 4513.16 | 1    | 100  | 6420    | 25000\n",
       "2013 | 92957  | 2862.21 | 2.01112e+13 | 1        | nan   | 7365    | 3     | 4      | 2.01112e+13 | 4513.16 | 1    | 100  | 9130    | 10000\n",
       "2013 | 92959  | 2385.98 | 2.01212e+13 | 1        | nan   | 7365    | 3     | 1      | 2.01212e+13 | 2385.98 | 2    | 652  | 3530    | 53515\n",
       "2013 | 92959  | 2385.98 | 2.01212e+13 | 1        | nan   | 7365    | 3     | 2      | 2.01212e+13 | 2385.98 | 1    | 652  | 3110    | 71000\n",
       "2013 | 92959  | 2385.98 | 2.01212e+13 | 1        | nan   | 7365    | 3     | 3      | 2.01212e+13 | 1661.4  | 2    | 652  | 9920    | 99999999\n",
       "2013 | 92963  | 3137.8  | 2.01112e+13 | 1        | nan   | 7365    | 3     | 1      | 2.01112e+13 | 3137.8  | 2    | 100  | 430     | 77800\n",
       "2013 | 92963  | 3137.8  | 2.01112e+13 | 1        | nan   | 7365    | 3     | 2      | 2.01112e+13 | 3309.68 | 1    | 100  | 4620    | 23520\n",
       "2013 | 92963  | 3137.8  | 2.01112e+13 | 1        | nan   | 7365    | 3     | 3      | 2.01112e+13 | 3309.68 | 1    | 100  | 4700    | 14120\n",
       "... (13100 rows omitted)"
      ]
     },
     "execution_count": 9,
     "metadata": {},
     "output_type": "execute_result"
    }
   ],
   "source": [
    "bay_area = Table().read_table('data/bay_area_data.csv')\n",
    "bay_area"
   ]
  },
  {
   "cell_type": "code",
   "execution_count": 10,
   "metadata": {},
   "outputs": [
    {
     "data": {
      "text/plain": [
       "int"
      ]
     },
     "execution_count": 10,
     "metadata": {},
     "output_type": "execute_result"
    }
   ],
   "source": [
    "# check to confirm that values are ints\n",
    "type(bay_area.column(13).item(3))"
   ]
  },
  {
   "cell_type": "markdown",
   "metadata": {},
   "source": [
    "Trying to make new table with only relevant jobs, then add corresponding Job Categories."
   ]
  },
  {
   "cell_type": "code",
   "execution_count": 11,
   "metadata": {
    "collapsed": true
   },
   "outputs": [],
   "source": [
    "# array of all relevant job codes\n",
    "# matching job categories are in Occupations spreadsheet in Google Drive\n",
    "job_codes = make_array(10, 20, 30, 100, 110, 120, 130, 140, 150, 160, 220, 300, 310, 330, 350, 360, 410, 420,\n",
    "                      620, 700, 710, 720, 730, 800, 820, 940, 950, 1000, 1010, 1020, 1050, 1060, 1100, 1200, 1220,\n",
    "                       1230, 1240, 1350, 1360, 1400, 1410, 1420, 1430, 1450, 1460, 1540, 1550, 1720, 1910, 1920,\n",
    "                       1980, 2840, 2900, 4000, 4010, 4030, 4050, 4060, 4110, 4120, 4130, 4140, 4150, 4200, 4210,\n",
    "                       4220, 4230, 4250, 4720, 5000, 7720, 7730, 7900, 8000, 8010, 8030, 8060, 8800, 8830, 7700,\n",
    "                       9620, 9630, 9640)"
   ]
  },
  {
   "cell_type": "code",
   "execution_count": 12,
   "metadata": {},
   "outputs": [
    {
     "data": {
      "text/plain": [
       "array([  10,   20,   30,  100,  110,  120,  130,  140,  150,  160,  220,\n",
       "        300,  310,  330,  350,  360,  410,  420,  620,  700,  710,  720,\n",
       "        730,  800,  820,  940,  950, 1000, 1010, 1020, 1050, 1060, 1100,\n",
       "       1200, 1220, 1230, 1240, 1350, 1360, 1400, 1410, 1420, 1430, 1450,\n",
       "       1460, 1540, 1550, 1720, 1910, 1920, 1980, 2840, 2900, 4000, 4010,\n",
       "       4030, 4050, 4060, 4110, 4120, 4130, 4140, 4150, 4200, 4210, 4220,\n",
       "       4230, 4250, 4720, 5000, 7720, 7730, 7900, 8000, 8010, 8030, 8060,\n",
       "       8800, 8830, 7700, 9620, 9630, 9640])"
      ]
     },
     "execution_count": 12,
     "metadata": {},
     "output_type": "execute_result"
    }
   ],
   "source": [
    "job_codes"
   ]
  },
  {
   "cell_type": "code",
   "execution_count": 13,
   "metadata": {},
   "outputs": [
    {
     "data": {
      "text/html": [
       "<table border=\"1\" class=\"dataframe\">\n",
       "    <thead>\n",
       "        <tr>\n",
       "            <th>Jobs</th>\n",
       "        </tr>\n",
       "    </thead>\n",
       "    <tbody>\n",
       "        <tr>\n",
       "            <td>10  </td>\n",
       "        </tr>\n",
       "    </tbody>\n",
       "        <tr>\n",
       "            <td>20  </td>\n",
       "        </tr>\n",
       "    </tbody>\n",
       "        <tr>\n",
       "            <td>30  </td>\n",
       "        </tr>\n",
       "    </tbody>\n",
       "        <tr>\n",
       "            <td>100 </td>\n",
       "        </tr>\n",
       "    </tbody>\n",
       "        <tr>\n",
       "            <td>110 </td>\n",
       "        </tr>\n",
       "    </tbody>\n",
       "        <tr>\n",
       "            <td>120 </td>\n",
       "        </tr>\n",
       "    </tbody>\n",
       "        <tr>\n",
       "            <td>130 </td>\n",
       "        </tr>\n",
       "    </tbody>\n",
       "        <tr>\n",
       "            <td>140 </td>\n",
       "        </tr>\n",
       "    </tbody>\n",
       "        <tr>\n",
       "            <td>150 </td>\n",
       "        </tr>\n",
       "    </tbody>\n",
       "        <tr>\n",
       "            <td>160 </td>\n",
       "        </tr>\n",
       "    </tbody>\n",
       "</table>\n",
       "<p>... (73 rows omitted)</p"
      ],
      "text/plain": [
       "Jobs\n",
       "10\n",
       "20\n",
       "30\n",
       "100\n",
       "110\n",
       "120\n",
       "130\n",
       "140\n",
       "150\n",
       "160\n",
       "... (73 rows omitted)"
      ]
     },
     "execution_count": 13,
     "metadata": {},
     "output_type": "execute_result"
    }
   ],
   "source": [
    "jobs = Table().with_column('Jobs', job_codes)\n",
    "jobs"
   ]
  },
  {
   "cell_type": "code",
   "execution_count": 14,
   "metadata": {},
   "outputs": [
    {
     "data": {
      "text/html": [
       "<table border=\"1\" class=\"dataframe\">\n",
       "    <thead>\n",
       "        <tr>\n",
       "            <th>YEAR</th> <th>SERIAL</th> <th>HWTSUPP</th> <th>CPSID</th> <th>ASECFLAG</th> <th>HFLAG</th> <th>METAREA</th> <th>MONTH</th> <th>PERNUM</th> <th>CPSIDP</th> <th>WTSUPP</th> <th>SEX</th> <th>RACE</th> <th>OCC2010</th> <th>INCTOT</th>\n",
       "        </tr>\n",
       "    </thead>\n",
       "    <tbody>\n",
       "        <tr>\n",
       "            <td>2013</td> <td>92957 </td> <td>2862.21</td> <td>2.01112e+13</td> <td>1       </td> <td>nan  </td> <td>7365   </td> <td>3    </td> <td>1     </td> <td>2.01112e+13</td> <td>2862.21</td> <td>1   </td> <td>100 </td> <td>9620   </td> <td>25000 </td>\n",
       "        </tr>\n",
       "    </tbody>\n",
       "        <tr>\n",
       "            <td>2013</td> <td>92966 </td> <td>1636.31</td> <td>2.01112e+13</td> <td>1       </td> <td>nan  </td> <td>7365   </td> <td>3    </td> <td>1     </td> <td>2.01112e+13</td> <td>1636.31</td> <td>1   </td> <td>100 </td> <td>220    </td> <td>74645 </td>\n",
       "        </tr>\n",
       "    </tbody>\n",
       "        <tr>\n",
       "            <td>2013</td> <td>92966 </td> <td>1636.31</td> <td>2.01112e+13</td> <td>1       </td> <td>nan  </td> <td>7365   </td> <td>3    </td> <td>3     </td> <td>2.01112e+13</td> <td>1589.28</td> <td>2   </td> <td>100 </td> <td>4110   </td> <td>6240  </td>\n",
       "        </tr>\n",
       "    </tbody>\n",
       "        <tr>\n",
       "            <td>2013</td> <td>92967 </td> <td>3141.2 </td> <td>2.01112e+13</td> <td>1       </td> <td>nan  </td> <td>7365   </td> <td>3    </td> <td>3     </td> <td>2.01112e+13</td> <td>3384.73</td> <td>1   </td> <td>100 </td> <td>1050   </td> <td>0     </td>\n",
       "        </tr>\n",
       "    </tbody>\n",
       "        <tr>\n",
       "            <td>2013</td> <td>92969 </td> <td>3068.09</td> <td>2.01112e+13</td> <td>1       </td> <td>nan  </td> <td>7365   </td> <td>3    </td> <td>1     </td> <td>2.01112e+13</td> <td>3068.09</td> <td>1   </td> <td>100 </td> <td>1410   </td> <td>115421</td>\n",
       "        </tr>\n",
       "    </tbody>\n",
       "        <tr>\n",
       "            <td>2013</td> <td>92970 </td> <td>2892.39</td> <td>2.01112e+13</td> <td>1       </td> <td>nan  </td> <td>7365   </td> <td>3    </td> <td>1     </td> <td>2.01112e+13</td> <td>2892.39</td> <td>1   </td> <td>100 </td> <td>1020   </td> <td>117865</td>\n",
       "        </tr>\n",
       "    </tbody>\n",
       "        <tr>\n",
       "            <td>2013</td> <td>92973 </td> <td>1562.79</td> <td>2.01112e+13</td> <td>1       </td> <td>nan  </td> <td>7365   </td> <td>3    </td> <td>1     </td> <td>2.01112e+13</td> <td>1562.79</td> <td>1   </td> <td>100 </td> <td>4220   </td> <td>29017 </td>\n",
       "        </tr>\n",
       "    </tbody>\n",
       "        <tr>\n",
       "            <td>2013</td> <td>92976 </td> <td>1748.64</td> <td>2.01112e+13</td> <td>1       </td> <td>nan  </td> <td>7365   </td> <td>3    </td> <td>1     </td> <td>2.01112e+13</td> <td>1748.64</td> <td>2   </td> <td>651 </td> <td>350    </td> <td>130030</td>\n",
       "        </tr>\n",
       "    </tbody>\n",
       "        <tr>\n",
       "            <td>2013</td> <td>92980 </td> <td>1684.33</td> <td>2.01112e+13</td> <td>1       </td> <td>nan  </td> <td>7365   </td> <td>3    </td> <td>3     </td> <td>2.01112e+13</td> <td>2157.3 </td> <td>2   </td> <td>651 </td> <td>720    </td> <td>571   </td>\n",
       "        </tr>\n",
       "    </tbody>\n",
       "        <tr>\n",
       "            <td>2013</td> <td>92983 </td> <td>3266.71</td> <td>2.01112e+13</td> <td>1       </td> <td>nan  </td> <td>7365   </td> <td>3    </td> <td>2     </td> <td>2.01112e+13</td> <td>3406.81</td> <td>1   </td> <td>100 </td> <td>9620   </td> <td>19825 </td>\n",
       "        </tr>\n",
       "    </tbody>\n",
       "</table>\n",
       "<p>... (2540 rows omitted)</p"
      ],
      "text/plain": [
       "YEAR | SERIAL | HWTSUPP | CPSID       | ASECFLAG | HFLAG | METAREA | MONTH | PERNUM | CPSIDP      | WTSUPP  | SEX  | RACE | OCC2010 | INCTOT\n",
       "2013 | 92957  | 2862.21 | 2.01112e+13 | 1        | nan   | 7365    | 3     | 1      | 2.01112e+13 | 2862.21 | 1    | 100  | 9620    | 25000\n",
       "2013 | 92966  | 1636.31 | 2.01112e+13 | 1        | nan   | 7365    | 3     | 1      | 2.01112e+13 | 1636.31 | 1    | 100  | 220     | 74645\n",
       "2013 | 92966  | 1636.31 | 2.01112e+13 | 1        | nan   | 7365    | 3     | 3      | 2.01112e+13 | 1589.28 | 2    | 100  | 4110    | 6240\n",
       "2013 | 92967  | 3141.2  | 2.01112e+13 | 1        | nan   | 7365    | 3     | 3      | 2.01112e+13 | 3384.73 | 1    | 100  | 1050    | 0\n",
       "2013 | 92969  | 3068.09 | 2.01112e+13 | 1        | nan   | 7365    | 3     | 1      | 2.01112e+13 | 3068.09 | 1    | 100  | 1410    | 115421\n",
       "2013 | 92970  | 2892.39 | 2.01112e+13 | 1        | nan   | 7365    | 3     | 1      | 2.01112e+13 | 2892.39 | 1    | 100  | 1020    | 117865\n",
       "2013 | 92973  | 1562.79 | 2.01112e+13 | 1        | nan   | 7365    | 3     | 1      | 2.01112e+13 | 1562.79 | 1    | 100  | 4220    | 29017\n",
       "2013 | 92976  | 1748.64 | 2.01112e+13 | 1        | nan   | 7365    | 3     | 1      | 2.01112e+13 | 1748.64 | 2    | 651  | 350     | 130030\n",
       "2013 | 92980  | 1684.33 | 2.01112e+13 | 1        | nan   | 7365    | 3     | 3      | 2.01112e+13 | 2157.3  | 2    | 651  | 720     | 571\n",
       "2013 | 92983  | 3266.71 | 2.01112e+13 | 1        | nan   | 7365    | 3     | 2      | 2.01112e+13 | 3406.81 | 1    | 100  | 9620    | 19825\n",
       "... (2540 rows omitted)"
      ]
     },
     "execution_count": 14,
     "metadata": {},
     "output_type": "execute_result"
    }
   ],
   "source": [
    "import pandas as pd\n",
    "\n",
    "df = bay_area.to_df()\n",
    "bay_area = Table.from_df(df.loc[df['OCC2010'].isin(job_codes)])\n",
    "bay_area"
   ]
  },
  {
   "cell_type": "code",
   "execution_count": 15,
   "metadata": {},
   "outputs": [
    {
     "data": {
      "text/plain": [
       "datascience.tables.Table"
      ]
     },
     "execution_count": 15,
     "metadata": {},
     "output_type": "execute_result"
    }
   ],
   "source": [
    "type(bay_area)"
   ]
  },
  {
   "cell_type": "code",
   "execution_count": 16,
   "metadata": {},
   "outputs": [
    {
     "data": {
      "text/html": [
       "<table border=\"1\" class=\"dataframe\">\n",
       "    <thead>\n",
       "        <tr>\n",
       "            <th>YEAR</th> <th>SERIAL</th> <th>METAREA</th> <th>SEX</th> <th>RACE</th> <th>OCC2010</th> <th>INCTOT</th>\n",
       "        </tr>\n",
       "    </thead>\n",
       "    <tbody>\n",
       "        <tr>\n",
       "            <td>2013</td> <td>92957 </td> <td>7365   </td> <td>1   </td> <td>100 </td> <td>9620   </td> <td>25000 </td>\n",
       "        </tr>\n",
       "    </tbody>\n",
       "        <tr>\n",
       "            <td>2013</td> <td>92966 </td> <td>7365   </td> <td>1   </td> <td>100 </td> <td>220    </td> <td>74645 </td>\n",
       "        </tr>\n",
       "    </tbody>\n",
       "        <tr>\n",
       "            <td>2013</td> <td>92966 </td> <td>7365   </td> <td>2   </td> <td>100 </td> <td>4110   </td> <td>6240  </td>\n",
       "        </tr>\n",
       "    </tbody>\n",
       "        <tr>\n",
       "            <td>2013</td> <td>92967 </td> <td>7365   </td> <td>1   </td> <td>100 </td> <td>1050   </td> <td>0     </td>\n",
       "        </tr>\n",
       "    </tbody>\n",
       "        <tr>\n",
       "            <td>2013</td> <td>92969 </td> <td>7365   </td> <td>1   </td> <td>100 </td> <td>1410   </td> <td>115421</td>\n",
       "        </tr>\n",
       "    </tbody>\n",
       "        <tr>\n",
       "            <td>2013</td> <td>92970 </td> <td>7365   </td> <td>1   </td> <td>100 </td> <td>1020   </td> <td>117865</td>\n",
       "        </tr>\n",
       "    </tbody>\n",
       "        <tr>\n",
       "            <td>2013</td> <td>92973 </td> <td>7365   </td> <td>1   </td> <td>100 </td> <td>4220   </td> <td>29017 </td>\n",
       "        </tr>\n",
       "    </tbody>\n",
       "        <tr>\n",
       "            <td>2013</td> <td>92976 </td> <td>7365   </td> <td>2   </td> <td>651 </td> <td>350    </td> <td>130030</td>\n",
       "        </tr>\n",
       "    </tbody>\n",
       "        <tr>\n",
       "            <td>2013</td> <td>92980 </td> <td>7365   </td> <td>2   </td> <td>651 </td> <td>720    </td> <td>571   </td>\n",
       "        </tr>\n",
       "    </tbody>\n",
       "        <tr>\n",
       "            <td>2013</td> <td>92983 </td> <td>7365   </td> <td>1   </td> <td>100 </td> <td>9620   </td> <td>19825 </td>\n",
       "        </tr>\n",
       "    </tbody>\n",
       "</table>\n",
       "<p>... (2540 rows omitted)</p"
      ],
      "text/plain": [
       "YEAR | SERIAL | METAREA | SEX  | RACE | OCC2010 | INCTOT\n",
       "2013 | 92957  | 7365    | 1    | 100  | 9620    | 25000\n",
       "2013 | 92966  | 7365    | 1    | 100  | 220     | 74645\n",
       "2013 | 92966  | 7365    | 2    | 100  | 4110    | 6240\n",
       "2013 | 92967  | 7365    | 1    | 100  | 1050    | 0\n",
       "2013 | 92969  | 7365    | 1    | 100  | 1410    | 115421\n",
       "2013 | 92970  | 7365    | 1    | 100  | 1020    | 117865\n",
       "2013 | 92973  | 7365    | 1    | 100  | 4220    | 29017\n",
       "2013 | 92976  | 7365    | 2    | 651  | 350     | 130030\n",
       "2013 | 92980  | 7365    | 2    | 651  | 720     | 571\n",
       "2013 | 92983  | 7365    | 1    | 100  | 9620    | 19825\n",
       "... (2540 rows omitted)"
      ]
     },
     "execution_count": 16,
     "metadata": {},
     "output_type": "execute_result"
    }
   ],
   "source": [
    "cut_bay_area= bay_area.drop(\"CPSID\",\"ASECFLAG\",\"HWTSUPP\", \"HFLAG\", \"MONTH\", \"PERNUM\", \"CPSIDP\",\"WTSUPP\")\n",
    "cut_bay_area"
   ]
  },
  {
   "cell_type": "code",
   "execution_count": 30,
   "metadata": {
    "collapsed": true
   },
   "outputs": [],
   "source": [
    "STEM_codes= make_array(700, 1000, 1010, 1020, 1050, 1220, 1230, 1240, 1350, 1360, 1400, 1410, 1420, 1430,\n",
    "    1450,1460, 1540, 1550, 1720, 1910, 1920, 1980,2840, 2900,7720, 7730, 7900, 8000, 8010,8030,\n",
    "    8060, 8800, 8830)\n",
    "SERVICE_codes= make_array(7700, 9620, 9630, 9640, 4000, 4010, 4030, 4050, 4060, 4110, 4120, 4130, 4140, 4150, 4720, \n",
    "    7700,9620,9630,9640)\n",
    "FINANCIAL_codes= make_array(120, 800, 820, 940, 950)\n",
    "CUSTODIAL_codes= make_array(4200, 4210, 4220, 4230, 4250)\n",
    "MANAGEMENT_codes= make_array(130, 150, 160, 220, 30, 100, 410, 420)\n",
    "STEM_MANAGER_codes=make_array(140,300,330, 350, 360, 1060, 1100)\n",
    "ADMINISTRATOR_codes= make_array(10,20)\n",
    "def job_categories(x): \n",
    "    if x in STEM_codes.any: \n",
    "        return \"STEM\"\n",
    "    elif x in SERVICE_codes.any:\n",
    "        return \"SERVICE\"\n",
    "    elif x in FINANCIAL_codes.any:\n",
    "        return \"FINANCIAL\"\n",
    "    elif x in CUSTODIAL_codes.any:\n",
    "        return \"CUSTODIAL\"\n",
    "    elif x in MANAGEMENT_codes.any:\n",
    "        return \"MANAGEMENT\"\n",
    "    elif x in ADMINISTRATOR_codes.any:\n",
    "        return \"ADMINISTRATOR\"\n",
    "    elif x in STEM_MANAGER_codes.any:\n",
    "        return \"STEM MANAGER\"\n",
    "    else: \n",
    "        return \"UNKNOWN\"\n",
    "   \n",
    "    "
   ]
  },
  {
   "cell_type": "code",
   "execution_count": 31,
   "metadata": {},
   "outputs": [
    {
     "ename": "TypeError",
     "evalue": "argument of type 'builtin_function_or_method' is not iterable",
     "output_type": "error",
     "traceback": [
      "\u001b[0;31m---------------------------------------------------------------------------\u001b[0m",
      "\u001b[0;31mTypeError\u001b[0m                                 Traceback (most recent call last)",
      "\u001b[0;32m<ipython-input-31-f7c44e432564>\u001b[0m in \u001b[0;36m<module>\u001b[0;34m()\u001b[0m\n\u001b[0;32m----> 1\u001b[0;31m \u001b[0mjob_categories\u001b[0m\u001b[0;34m(\u001b[0m\u001b[0;36m1100\u001b[0m\u001b[0;34m)\u001b[0m\u001b[0;34m\u001b[0m\u001b[0m\n\u001b[0m\u001b[1;32m      2\u001b[0m \u001b[0;31m#job_categories(cut_bay_area.column(\"OCC2010\"))\u001b[0m\u001b[0;34m\u001b[0m\u001b[0;34m\u001b[0m\u001b[0m\n",
      "\u001b[0;32m<ipython-input-30-989796f0bfe2>\u001b[0m in \u001b[0;36mjob_categories\u001b[0;34m(x)\u001b[0m\n\u001b[1;32m     10\u001b[0m \u001b[0mADMINISTRATOR_codes\u001b[0m\u001b[0;34m=\u001b[0m \u001b[0mmake_array\u001b[0m\u001b[0;34m(\u001b[0m\u001b[0;36m10\u001b[0m\u001b[0;34m,\u001b[0m\u001b[0;36m20\u001b[0m\u001b[0;34m)\u001b[0m\u001b[0;34m\u001b[0m\u001b[0m\n\u001b[1;32m     11\u001b[0m \u001b[0;32mdef\u001b[0m \u001b[0mjob_categories\u001b[0m\u001b[0;34m(\u001b[0m\u001b[0mx\u001b[0m\u001b[0;34m)\u001b[0m\u001b[0;34m:\u001b[0m\u001b[0;34m\u001b[0m\u001b[0m\n\u001b[0;32m---> 12\u001b[0;31m     \u001b[0;32mif\u001b[0m \u001b[0mx\u001b[0m \u001b[0;32min\u001b[0m \u001b[0mSTEM_codes\u001b[0m\u001b[0;34m.\u001b[0m\u001b[0many\u001b[0m\u001b[0;34m:\u001b[0m\u001b[0;34m\u001b[0m\u001b[0m\n\u001b[0m\u001b[1;32m     13\u001b[0m         \u001b[0;32mreturn\u001b[0m \u001b[0;34m\"STEM\"\u001b[0m\u001b[0;34m\u001b[0m\u001b[0m\n\u001b[1;32m     14\u001b[0m     \u001b[0;32melif\u001b[0m \u001b[0mx\u001b[0m \u001b[0;32min\u001b[0m \u001b[0mSERVICE_codes\u001b[0m\u001b[0;34m.\u001b[0m\u001b[0many\u001b[0m\u001b[0;34m:\u001b[0m\u001b[0;34m\u001b[0m\u001b[0m\n",
      "\u001b[0;31mTypeError\u001b[0m: argument of type 'builtin_function_or_method' is not iterable"
     ]
    }
   ],
   "source": [
    "#job_categories(1100)\n",
    "#job_categories(cut_bay_area.column(\"OCC2010\"))"
   ]
  },
  {
   "cell_type": "code",
   "execution_count": null,
   "metadata": {
    "collapsed": true
   },
   "outputs": [],
   "source": []
  },
  {
   "cell_type": "code",
   "execution_count": null,
   "metadata": {
    "collapsed": true
   },
   "outputs": [],
   "source": []
  },
  {
   "cell_type": "code",
   "execution_count": null,
   "metadata": {
    "collapsed": true
   },
   "outputs": [],
   "source": []
  }
 ],
 "metadata": {
  "anaconda-cloud": {},
  "kernelspec": {
   "display_name": "Python 3",
   "language": "python",
   "name": "python3"
  },
  "language_info": {
   "codemirror_mode": {
    "name": "ipython",
    "version": 3
   },
   "file_extension": ".py",
   "mimetype": "text/x-python",
   "name": "python",
   "nbconvert_exporter": "python",
   "pygments_lexer": "ipython3",
   "version": "3.6.1"
  }
 },
 "nbformat": 4,
 "nbformat_minor": 2
}
