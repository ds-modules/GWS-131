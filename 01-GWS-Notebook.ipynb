{
 "cells": [
  {
   "cell_type": "markdown",
   "metadata": {},
   "source": [
    "Run the code cell below with the ▶| button above to set up this notebook, or type `SHIFT-ENTER`:"
   ]
  },
  {
   "cell_type": "code",
   "execution_count": 3,
   "metadata": {
    "collapsed": true
   },
   "outputs": [],
   "source": [
    "from datascience import *\n",
    "import numpy as np\n",
    "import math\n",
    "import matplotlib.pyplot as plt\n",
    "from IPython.display import Image, display\n",
    "import ipywidgets as widgets\n",
    "from scipy import stats\n",
    "import pandas as pd\n",
    "from scripts.gws_module import *\n",
    "%matplotlib inline"
   ]
  },
  {
   "cell_type": "markdown",
   "metadata": {},
   "source": [
    "# Welcome to GWS-131's Data Science Module!"
   ]
  },
  {
   "cell_type": "markdown",
   "metadata": {},
   "source": [
    "# Part 1: Introduction to Python and Jupyter Notebooks:\n",
    "\n",
    "## 1. Cells, Arithmetic, and Code\n",
    "In a notebook, each rectangle containing text or code is called a *cell*.\n",
    "\n",
    "Cells (like this one) can be edited by double-clicking on them. This cell is a text cell, written in a simple format called [Markdown](http://daringfireball.net/projects/markdown/syntax) to add formatting and section headings.  You don't need to worry about Markdown today, but it's a pretty fun+easy tool to learn.\n",
    "\n",
    "After you edit a cell, click the \"run cell\" button at the top that looks like ▶| to confirm any changes. (Try not to delete the instructions.) You can also press `SHIFT-ENTER` to run any cell or progress from one cell to the next.\n",
    "\n",
    "Other cells contain code in the Python3 programming language.  Running a code cell will execute all of the code it contains.\n",
    "\n",
    "Try running this cell:"
   ]
  },
  {
   "cell_type": "code",
   "execution_count": 4,
   "metadata": {},
   "outputs": [
    {
     "name": "stdout",
     "output_type": "stream",
     "text": [
      "Hello, World!\n"
     ]
    }
   ],
   "source": [
    "print(\"Hello, World!\")"
   ]
  },
  {
   "cell_type": "markdown",
   "metadata": {},
   "source": [
    "We will now quickly go through some very basic functionality of Python, which we'll be using throughout the rest of this notebook.\n",
    "\n",
    "### 1.1 Arithmetic\n",
    "Quantitative information arises everywhere in data science. In addition to representing commands to print out lines, expressions can represent numbers and methods of combining numbers. \n",
    "\n",
    "The expression `3.2500` evaluates to the number 3.25. (Run the cell and see.)"
   ]
  },
  {
   "cell_type": "code",
   "execution_count": 5,
   "metadata": {},
   "outputs": [
    {
     "data": {
      "text/plain": [
       "3.25"
      ]
     },
     "execution_count": 5,
     "metadata": {},
     "output_type": "execute_result"
    }
   ],
   "source": [
    "3.2500"
   ]
  },
  {
   "cell_type": "markdown",
   "metadata": {},
   "source": [
    "We don't necessarily always need to say \"print\", because Jupyter always prints the last line in a code cell. If you want to print more than one line, though, do specify \"print\"."
   ]
  },
  {
   "cell_type": "code",
   "execution_count": 6,
   "metadata": {},
   "outputs": [
    {
     "name": "stdout",
     "output_type": "stream",
     "text": [
      "3\n"
     ]
    },
    {
     "data": {
      "text/plain": [
       "5"
      ]
     },
     "execution_count": 6,
     "metadata": {},
     "output_type": "execute_result"
    }
   ],
   "source": [
    "print(3)\n",
    "4\n",
    "5"
   ]
  },
  {
   "cell_type": "markdown",
   "metadata": {},
   "source": [
    "Many basic arithmetic operations are built in to Python, like `*` (multiplication), + (addition), - (subtraction), and / (division). There are many others, which you can find information about [here](http://www.inferentialthinking.com/chapters/03/1/expressions.html). Use parenthesis to specify the order of operations, which act according to PEMDAS, just as you may have learned in school. Use parentheses for a happy new year!"
   ]
  },
  {
   "cell_type": "code",
   "execution_count": 7,
   "metadata": {},
   "outputs": [
    {
     "data": {
      "text/plain": [
       "2017.0"
      ]
     },
     "execution_count": 7,
     "metadata": {},
     "output_type": "execute_result"
    }
   ],
   "source": [
    "1+(6*5-(6*3))**2*((2**3)/4*7)"
   ]
  },
  {
   "cell_type": "markdown",
   "metadata": {},
   "source": [
    "### 1.2 Variables\n",
    "\n",
    "We sometimes want to work with the result of some computation more than once. To be able to do that without repeating code everywhere we want to use it, we can store it in a variable with *assignment statements*, which have the variable name on the left, an equals sign, and the expression to be evaluated and stored on the right. In the cell below, `(3 * 11 + 5) / 2 - 9` evaluates to 10, and gets stored in the variable `twenty`."
   ]
  },
  {
   "cell_type": "code",
   "execution_count": 8,
   "metadata": {},
   "outputs": [
    {
     "data": {
      "text/plain": [
       "10.0"
      ]
     },
     "execution_count": 8,
     "metadata": {},
     "output_type": "execute_result"
    }
   ],
   "source": [
    "twenty = (3 * 11 + 5) / 2 - 9\n",
    "twenty"
   ]
  },
  {
   "cell_type": "code",
   "execution_count": 9,
   "metadata": {},
   "outputs": [
    {
     "data": {
      "text/plain": [
       "10.0"
      ]
     },
     "execution_count": 9,
     "metadata": {},
     "output_type": "execute_result"
    }
   ],
   "source": [
    "twenty"
   ]
  },
  {
   "cell_type": "markdown",
   "metadata": {},
   "source": [
    "## 2. Functions\n",
    "\n",
    "    \n",
    "One important form of an expression is the call expression, which first names a function and then describes its arguments. The function returns some value, based on its arguments. Some important mathematical functions are\n",
    "\n",
    "| Function | Description                                                   |\n",
    "|----------|---------------------------------------------------------------|\n",
    "| `abs`      | Returns the absolute value of its argument                    |\n",
    "| `max`      | Returns the maximum of all its arguments                      |\n",
    "| `min`      | Returns the minimum of all its arguments                      |\n",
    "| `round`    | Round its argument to the nearest integer                     |\n",
    "\n",
    "Here are two call expressions that both evaluate to 3\n",
    "\n",
    "```python\n",
    "abs(2 - 5)\n",
    "max(round(2.8), min(pow(2, 10), -1 * pow(2, 10)))\n",
    "```\n",
    "\n",
    "These function calls first evaluate the expressions in the arguments (inside the parentheses), then evaluate the function on the results. `abs(2-5)` evaluates first to `abs(3)`, then returns `3`.\n",
    "\n",
    "A **statement** is a whole line of code.  Some statements are just expressions, like the examples above, that can be broken down into its subexpressions which get evaluated individually before evaluating the statement as a whole.\n"
   ]
  },
  {
   "cell_type": "markdown",
   "metadata": {},
   "source": [
    "### 2.1 Calling functions\n",
    "\n",
    "The most common way to combine or manipulate values in Python is by calling functions. Python comes with many built-in functions that perform common operations.\n",
    "\n",
    "For example, the `abs` function takes a single number as its argument and returns the absolute value of that number.  The absolute value of a number is its distance from 0 on the number line, so `abs(5)` is 5 and `abs(-5)` is also 5."
   ]
  },
  {
   "cell_type": "code",
   "execution_count": 10,
   "metadata": {},
   "outputs": [
    {
     "data": {
      "text/plain": [
       "5"
      ]
     },
     "execution_count": 10,
     "metadata": {},
     "output_type": "execute_result"
    }
   ],
   "source": [
    "abs(5)"
   ]
  },
  {
   "cell_type": "code",
   "execution_count": 11,
   "metadata": {},
   "outputs": [
    {
     "data": {
      "text/plain": [
       "5"
      ]
     },
     "execution_count": 11,
     "metadata": {},
     "output_type": "execute_result"
    }
   ],
   "source": [
    "abs(-5)"
   ]
  },
  {
   "cell_type": "markdown",
   "metadata": {},
   "source": [
    "Functions can be called as above, putting the argument in parentheses at the end, or by using \"dot notation\", and calling the function after finding the arguments, as in the cell immediately below."
   ]
  },
  {
   "cell_type": "code",
   "execution_count": 12,
   "metadata": {},
   "outputs": [
    {
     "data": {
      "text/plain": [
       "5"
      ]
     },
     "execution_count": 12,
     "metadata": {},
     "output_type": "execute_result"
    }
   ],
   "source": [
    "nums = make_array(1,2,5) # a list of items, in this case, numbers\n",
    "nums.max()"
   ]
  },
  {
   "cell_type": "code",
   "execution_count": 13,
   "metadata": {},
   "outputs": [
    {
     "data": {
      "text/plain": [
       "5"
      ]
     },
     "execution_count": 13,
     "metadata": {},
     "output_type": "execute_result"
    }
   ],
   "source": [
    "max(nums)"
   ]
  },
  {
   "cell_type": "markdown",
   "metadata": {},
   "source": [
    "# Part 2: Tables\n",
    "\n",
    "Now it's time to work with tables and explore some real data. We've arranged the order of the datasets by geographic proximity."
   ]
  },
  {
   "cell_type": "markdown",
   "metadata": {},
   "source": [
    "## 1. UC Berkeley, Ladder Rank Equivalent Faculty\n",
    "\n",
    "We're going to start right here at UCB! These data are from Fall 2015. These data are from the *UC Corporate Personnel System*, and gives us the ratio of female ladder rank equivalent (LRE), which are tenure and tenure track faculty at Berkeley, in the respective divisions.\n",
    "\n",
    "**Note**: STEM includes engineering and computer science, life sciences, math, medicine, other health sciences and physical sciences.\n",
    "\n",
    "To read in a file to a table, we use the general syntax:\n",
    "\n",
    "```python\n",
    "Table.read_table(\"file_name\")\n",
    "```\n",
    "\n",
    "Most often, these file names end in `.csv` to show the data format. `.csv` format is popular for spreadsheets and can be imported/exported from programs such as Microsoft Excel, OpenOffice Calc, or Google spreadsheets."
   ]
  },
  {
   "cell_type": "code",
   "execution_count": 56,
   "metadata": {},
   "outputs": [
    {
     "data": {
      "text/html": [
       "<table border=\"1\" class=\"dataframe\">\n",
       "    <thead>\n",
       "        <tr>\n",
       "            <th>Discipline</th> <th>Fall 2000</th> <th>Fall 2005</th> <th>Fall 2010</th> <th>Fall 2015</th>\n",
       "        </tr>\n",
       "    </thead>\n",
       "    <tbody>\n",
       "        <tr>\n",
       "            <td>Intdisc & Other     </td> <td>0.39     </td> <td>0.42     </td> <td>0.45     </td> <td>0.43     </td>\n",
       "        </tr>\n",
       "    </tbody>\n",
       "        <tr>\n",
       "            <td>Arts & Humanities   </td> <td>0.37     </td> <td>0.41     </td> <td>0.43     </td> <td>0.45     </td>\n",
       "        </tr>\n",
       "    </tbody>\n",
       "        <tr>\n",
       "            <td>Oth Health Sci      </td> <td>0.35     </td> <td>0.39     </td> <td>0.45     </td> <td>0.44     </td>\n",
       "        </tr>\n",
       "    </tbody>\n",
       "        <tr>\n",
       "            <td>Soc Sci & Psych     </td> <td>0.3      </td> <td>0.35     </td> <td>0.38     </td> <td>0.41     </td>\n",
       "        </tr>\n",
       "    </tbody>\n",
       "        <tr>\n",
       "            <td>Professional        </td> <td>0.29     </td> <td>0.33     </td> <td>0.37     </td> <td>0.38     </td>\n",
       "        </tr>\n",
       "    </tbody>\n",
       "        <tr>\n",
       "            <td>Life Sci (STEM)     </td> <td>0.2      </td> <td>0.23     </td> <td>0.25     </td> <td>0.29     </td>\n",
       "        </tr>\n",
       "    </tbody>\n",
       "        <tr>\n",
       "            <td>Medicine            </td> <td>0.15     </td> <td>0.18     </td> <td>0.2      </td> <td>0.25     </td>\n",
       "        </tr>\n",
       "    </tbody>\n",
       "        <tr>\n",
       "            <td>Phys Sci/Math (STEM)</td> <td>0.1      </td> <td>0.13     </td> <td>0.17     </td> <td>0.18     </td>\n",
       "        </tr>\n",
       "    </tbody>\n",
       "        <tr>\n",
       "            <td>Eng & CS (STEM)     </td> <td>0.08     </td> <td>0.11     </td> <td>0.14     </td> <td>0.16     </td>\n",
       "        </tr>\n",
       "    </tbody>\n",
       "</table>"
      ],
      "text/plain": [
       "<IPython.core.display.HTML object>"
      ]
     },
     "metadata": {},
     "output_type": "display_data"
    }
   ],
   "source": [
    "UCB_LRE_female = Table.read_table('data/UCB-percent-female-LRE.csv').drop(1)\n",
    "UCB_LRE_female.show()"
   ]
  },
  {
   "cell_type": "markdown",
   "metadata": {},
   "source": [
    "That was easy! Now that we have these data stored in the `UCB_LRE_female` table, we can start getting some information from it.\n",
    "\n",
    "This notebook can calculate how large this table is with two functions: `num_rows` and `num_columns`. The general form for these functions are `<table>.num_rows` and `<table>.num_columns`. \n",
    "\n",
    "Let's use these on the table above. "
   ]
  },
  {
   "cell_type": "code",
   "execution_count": 57,
   "metadata": {},
   "outputs": [
    {
     "data": {
      "text/plain": [
       "9"
      ]
     },
     "execution_count": 57,
     "metadata": {},
     "output_type": "execute_result"
    }
   ],
   "source": [
    "UCB_LRE_female.num_rows"
   ]
  },
  {
   "cell_type": "code",
   "execution_count": 58,
   "metadata": {},
   "outputs": [
    {
     "data": {
      "text/plain": [
       "5"
      ]
     },
     "execution_count": 58,
     "metadata": {},
     "output_type": "execute_result"
    }
   ],
   "source": [
    "UCB_LRE_female.num_columns"
   ]
  },
  {
   "cell_type": "markdown",
   "metadata": {},
   "source": [
    "This table is `9x5`. This is a manageable size for a table.\n",
    "\n",
    "We can quickly plot these data on a bar graph using the `barh` function, so that we can best visually compare between disciplines over time."
   ]
  },
  {
   "cell_type": "code",
   "execution_count": 59,
   "metadata": {},
   "outputs": [
    {
     "data": {
      "image/png": "[encoded data removed]",
      "text/plain": [
       "<matplotlib.figure.Figure at 0x7f98a6d1f630>"
      ]
     },
     "metadata": {},
     "output_type": "display_data"
    }
   ],
   "source": [
    "UCB_LRE_female.barh('Discipline')"
   ]
  },
  {
   "cell_type": "markdown",
   "metadata": {},
   "source": [
    "#### Question: What do you notice about the proportions of female LRE faculty across disciplines? Discuss with the people around you, and write a few sentences about it below. "
   ]
  },
  {
   "cell_type": "raw",
   "metadata": {},
   "source": []
  },
  {
   "cell_type": "markdown",
   "metadata": {},
   "source": [
    "---\n",
    "\n",
    "We can use the `transpose` function to flip the rows and columns so we can get a better set up for time series data:"
   ]
  },
  {
   "cell_type": "code",
   "execution_count": 60,
   "metadata": {},
   "outputs": [
    {
     "data": {
      "text/html": [
       "<div>\n",
       "<table border=\"1\" class=\"dataframe\">\n",
       "  <thead>\n",
       "    <tr style=\"text-align: right;\">\n",
       "      <th>Discipline</th>\n",
       "      <th>Intdisc &amp; Other</th>\n",
       "      <th>Arts &amp; Humanities</th>\n",
       "      <th>Oth Health Sci</th>\n",
       "      <th>Soc Sci &amp; Psych</th>\n",
       "      <th>Professional</th>\n",
       "      <th>Life Sci (STEM)</th>\n",
       "      <th>Medicine</th>\n",
       "      <th>Phys Sci/Math (STEM)</th>\n",
       "      <th>Eng &amp; CS (STEM)</th>\n",
       "    </tr>\n",
       "  </thead>\n",
       "  <tbody>\n",
       "    <tr>\n",
       "      <th>Fall 2000</th>\n",
       "      <td>0.39</td>\n",
       "      <td>0.37</td>\n",
       "      <td>0.35</td>\n",
       "      <td>0.3</td>\n",
       "      <td>0.29</td>\n",
       "      <td>0.2</td>\n",
       "      <td>0.15</td>\n",
       "      <td>0.1</td>\n",
       "      <td>0.08</td>\n",
       "    </tr>\n",
       "    <tr>\n",
       "      <th>Fall 2005</th>\n",
       "      <td>0.42</td>\n",
       "      <td>0.41</td>\n",
       "      <td>0.39</td>\n",
       "      <td>0.35</td>\n",
       "      <td>0.33</td>\n",
       "      <td>0.23</td>\n",
       "      <td>0.18</td>\n",
       "      <td>0.13</td>\n",
       "      <td>0.11</td>\n",
       "    </tr>\n",
       "    <tr>\n",
       "      <th>Fall 2010</th>\n",
       "      <td>0.45</td>\n",
       "      <td>0.43</td>\n",
       "      <td>0.45</td>\n",
       "      <td>0.38</td>\n",
       "      <td>0.37</td>\n",
       "      <td>0.25</td>\n",
       "      <td>0.2</td>\n",
       "      <td>0.17</td>\n",
       "      <td>0.14</td>\n",
       "    </tr>\n",
       "    <tr>\n",
       "      <th>Fall 2015</th>\n",
       "      <td>0.43</td>\n",
       "      <td>0.45</td>\n",
       "      <td>0.44</td>\n",
       "      <td>0.41</td>\n",
       "      <td>0.38</td>\n",
       "      <td>0.29</td>\n",
       "      <td>0.25</td>\n",
       "      <td>0.18</td>\n",
       "      <td>0.16</td>\n",
       "    </tr>\n",
       "  </tbody>\n",
       "</table>\n",
       "</div>"
      ],
      "text/plain": [
       "Discipline Intdisc & Other Arts & Humanities Oth Health Sci Soc Sci & Psych  \\\n",
       "Fall 2000             0.39              0.37           0.35             0.3   \n",
       "Fall 2005             0.42              0.41           0.39            0.35   \n",
       "Fall 2010             0.45              0.43           0.45            0.38   \n",
       "Fall 2015             0.43              0.45           0.44            0.41   \n",
       "\n",
       "Discipline Professional Life Sci (STEM) Medicine Phys Sci/Math (STEM)  \\\n",
       "Fall 2000          0.29             0.2     0.15                  0.1   \n",
       "Fall 2005          0.33            0.23     0.18                 0.13   \n",
       "Fall 2010          0.37            0.25      0.2                 0.17   \n",
       "Fall 2015          0.38            0.29     0.25                 0.18   \n",
       "\n",
       "Discipline Eng & CS (STEM)  \n",
       "Fall 2000             0.08  \n",
       "Fall 2005             0.11  \n",
       "Fall 2010             0.14  \n",
       "Fall 2015             0.16  "
      ]
     },
     "execution_count": 60,
     "metadata": {},
     "output_type": "execute_result"
    }
   ],
   "source": [
    "transposed_table = transpose(UCB_LRE_female)\n",
    "transposed_table"
   ]
  },
  {
   "cell_type": "markdown",
   "metadata": {},
   "source": [
    "Then we can add the `.plot()` method to plot a line graph to see how the ratio of female faculty has changed over time by discipline:"
   ]
  },
  {
   "cell_type": "code",
   "execution_count": 61,
   "metadata": {},
   "outputs": [
    {
     "data": {
      "text/plain": [
       "<matplotlib.axes._subplots.AxesSubplot at 0x7f98a72f0080>"
      ]
     },
     "execution_count": 61,
     "metadata": {},
     "output_type": "execute_result"
    },
    {
     "data": {
      "image/png": "[encoded data removed]",
      "text/plain": [
       "<matplotlib.figure.Figure at 0x7f98a72cda20>"
      ]
     },
     "metadata": {},
     "output_type": "display_data"
    }
   ],
   "source": [
    "transposed_table.plot()"
   ]
  },
  {
   "cell_type": "markdown",
   "metadata": {},
   "source": [
    "We can also take the average across disciplines for each year and add that to our table:"
   ]
  },
  {
   "cell_type": "code",
   "execution_count": 62,
   "metadata": {},
   "outputs": [
    {
     "data": {
      "text/html": [
       "<div>\n",
       "<table border=\"1\" class=\"dataframe\">\n",
       "  <thead>\n",
       "    <tr style=\"text-align: right;\">\n",
       "      <th>Discipline</th>\n",
       "      <th>Intdisc &amp; Other</th>\n",
       "      <th>Arts &amp; Humanities</th>\n",
       "      <th>Oth Health Sci</th>\n",
       "      <th>Soc Sci &amp; Psych</th>\n",
       "      <th>Professional</th>\n",
       "      <th>Life Sci (STEM)</th>\n",
       "      <th>Medicine</th>\n",
       "      <th>Phys Sci/Math (STEM)</th>\n",
       "      <th>Eng &amp; CS (STEM)</th>\n",
       "      <th>average</th>\n",
       "    </tr>\n",
       "  </thead>\n",
       "  <tbody>\n",
       "    <tr>\n",
       "      <th>Fall 2000</th>\n",
       "      <td>0.39</td>\n",
       "      <td>0.37</td>\n",
       "      <td>0.35</td>\n",
       "      <td>0.3</td>\n",
       "      <td>0.29</td>\n",
       "      <td>0.2</td>\n",
       "      <td>0.15</td>\n",
       "      <td>0.1</td>\n",
       "      <td>0.08</td>\n",
       "      <td>0.23000</td>\n",
       "    </tr>\n",
       "    <tr>\n",
       "      <th>Fall 2005</th>\n",
       "      <td>0.42</td>\n",
       "      <td>0.41</td>\n",
       "      <td>0.39</td>\n",
       "      <td>0.35</td>\n",
       "      <td>0.33</td>\n",
       "      <td>0.23</td>\n",
       "      <td>0.18</td>\n",
       "      <td>0.13</td>\n",
       "      <td>0.11</td>\n",
       "      <td>0.26625</td>\n",
       "    </tr>\n",
       "    <tr>\n",
       "      <th>Fall 2010</th>\n",
       "      <td>0.45</td>\n",
       "      <td>0.43</td>\n",
       "      <td>0.45</td>\n",
       "      <td>0.38</td>\n",
       "      <td>0.37</td>\n",
       "      <td>0.25</td>\n",
       "      <td>0.2</td>\n",
       "      <td>0.17</td>\n",
       "      <td>0.14</td>\n",
       "      <td>0.29875</td>\n",
       "    </tr>\n",
       "    <tr>\n",
       "      <th>Fall 2015</th>\n",
       "      <td>0.43</td>\n",
       "      <td>0.45</td>\n",
       "      <td>0.44</td>\n",
       "      <td>0.41</td>\n",
       "      <td>0.38</td>\n",
       "      <td>0.29</td>\n",
       "      <td>0.25</td>\n",
       "      <td>0.18</td>\n",
       "      <td>0.16</td>\n",
       "      <td>0.32000</td>\n",
       "    </tr>\n",
       "  </tbody>\n",
       "</table>\n",
       "</div>"
      ],
      "text/plain": [
       "Discipline Intdisc & Other Arts & Humanities Oth Health Sci Soc Sci & Psych  \\\n",
       "Fall 2000             0.39              0.37           0.35             0.3   \n",
       "Fall 2005             0.42              0.41           0.39            0.35   \n",
       "Fall 2010             0.45              0.43           0.45            0.38   \n",
       "Fall 2015             0.43              0.45           0.44            0.41   \n",
       "\n",
       "Discipline Professional Life Sci (STEM) Medicine Phys Sci/Math (STEM)  \\\n",
       "Fall 2000          0.29             0.2     0.15                  0.1   \n",
       "Fall 2005          0.33            0.23     0.18                 0.13   \n",
       "Fall 2010          0.37            0.25      0.2                 0.17   \n",
       "Fall 2015          0.38            0.29     0.25                 0.18   \n",
       "\n",
       "Discipline Eng & CS (STEM)  average  \n",
       "Fall 2000             0.08  0.23000  \n",
       "Fall 2005             0.11  0.26625  \n",
       "Fall 2010             0.14  0.29875  \n",
       "Fall 2015             0.16  0.32000  "
      ]
     },
     "execution_count": 62,
     "metadata": {},
     "output_type": "execute_result"
    }
   ],
   "source": [
    "transposed_table[\"average\"] = transposed_table[transposed_table.columns[1:]].mean(axis=1)\n",
    "transposed_table"
   ]
  },
  {
   "cell_type": "markdown",
   "metadata": {},
   "source": [
    "Then we can plot that like above:"
   ]
  },
  {
   "cell_type": "code",
   "execution_count": 63,
   "metadata": {},
   "outputs": [
    {
     "data": {
      "text/plain": [
       "<matplotlib.axes._subplots.AxesSubplot at 0x7f98a746bbe0>"
      ]
     },
     "execution_count": 63,
     "metadata": {},
     "output_type": "execute_result"
    },
    {
     "data": {
      "image/png": "[encoded data removed]",
      "text/plain": [
       "<matplotlib.figure.Figure at 0x7f98a7409cf8>"
      ]
     },
     "metadata": {},
     "output_type": "display_data"
    }
   ],
   "source": [
    "transposed_table['average'].plot()"
   ]
  },
  {
   "cell_type": "markdown",
   "metadata": {},
   "source": [
    "#### Tables Essentials!\n",
    "\n",
    "For your reference, here's a table of all the useful `Table` functions:\n",
    "\n",
    "|Name|Example|Purpose|\n",
    "|-|-|-|\n",
    "|`Table`|`Table()`|Create an empty table, usually to extend with data|\n",
    "|`Table.read_table`|`Table.read_table(\"my_data.csv\")`|Create a table from a data file|\n",
    "|`show` | `tbl.show(5)` | Show the first *N* rows of the table |\n",
    "|`with_columns`|`tbl = Table().with_columns(\"N\", np.arange(5), \"2*N\", np.arange(0, 10, 2))`|Create a copy of a table with more columns|\n",
    "|`column`|`tbl.column(\"N\")`|Create an array containing the elements of a column|\n",
    "|`sort`|`tbl.sort(\"N\")`|Create a copy of a table sorted by the values in a column|\n",
    "|`where`|`tbl.where(\"N\", are.above(2))`|Create a copy of a table with only the rows that match some *predicate*|\n",
    "|`num_rows`|`tbl.num_rows`|Compute the number of rows in a table|\n",
    "|`num_columns`|`tbl.num_columns`|Compute the number of columns in a table|\n",
    "|`select`|`tbl.select(\"N\")`|Create a copy of a table with only some of the columns|\n",
    "|`drop`|`tbl.drop(\"2*N\")`|Create a copy of a table without some of the columns|\n",
    "|`take`|`tbl.take(np.arange(0, 6, 2))`|Create a copy of the table with only the rows whose indices are in the given array|"
   ]
  },
  {
   "cell_type": "markdown",
   "metadata": {},
   "source": [
    "**Visualizations**\n",
    "\n",
    "These are the different methods you can call on a table to plot data within that table. Insert the column names as the arguments `x column` and `y column` when calling these methods. \n",
    "\n",
    "|Plotting type | | Call structure |\n",
    "|-|-|-|\n",
    "|Scatter | | `table.scatter(\"x column\", \"y column\")` |\n",
    "|Line | | `table.plot(\"x column\", \"y column\")` |\n",
    "|Bar | | `table.bar(\"x column\", \"y column\")` |\n",
    "|Horiz. Bar | | `table.barh(\"x column\", \"y column\")` |\n",
    "|Histogram | | `table.hist(\"x axis\", bins(optional), unit(optional))` |"
   ]
  },
  {
   "cell_type": "markdown",
   "metadata": {
    "collapsed": true
   },
   "source": [
    "---\n",
    "\n",
    "## 2. UCOP Payroll Dataset\n",
    "\n",
    "Let's look at another dataset that has the payroll for all UC empoloyees:"
   ]
  },
  {
   "cell_type": "code",
   "execution_count": 64,
   "metadata": {},
   "outputs": [
    {
     "data": {
      "text/html": [
       "<table border=\"1\" class=\"dataframe\">\n",
       "    <thead>\n",
       "        <tr>\n",
       "            <th>Year</th> <th>Location</th> <th>First Name</th> <th>Last Name</th> <th>Title</th> <th>Gross Pay</th> <th>Regular Pay</th> <th>Overtime Pay</th> <th>Other Pay</th>\n",
       "        </tr>\n",
       "    </thead>\n",
       "    <tbody>\n",
       "        <tr>\n",
       "            <td>2015</td> <td>Berkeley</td> <td> BARIKA   </td> <td>BURTON   </td> <td>ACAD ACHIEVEMENT CNSLR 2</td> <td>54861    </td> <td>52541      </td> <td>0           </td> <td>2320     </td>\n",
       "        </tr>\n",
       "    </tbody>\n",
       "        <tr>\n",
       "            <td>2015</td> <td>Berkeley</td> <td> MAYRA    </td> <td>GONZALEZ </td> <td>ACAD ACHIEVEMENT CNSLR 2</td> <td>51624    </td> <td>51624      </td> <td>0           </td> <td>0        </td>\n",
       "        </tr>\n",
       "    </tbody>\n",
       "        <tr>\n",
       "            <td>2015</td> <td>Berkeley</td> <td> DIANA    </td> <td>FLORES   </td> <td>ACAD ACHIEVEMENT CNSLR 2</td> <td>48880    </td> <td>47593      </td> <td>787         </td> <td>500      </td>\n",
       "        </tr>\n",
       "    </tbody>\n",
       "        <tr>\n",
       "            <td>2015</td> <td>Berkeley</td> <td> KATHERINE</td> <td>CASTRO   </td> <td>ACAD ACHIEVEMENT CNSLR 2</td> <td>48646    </td> <td>48371      </td> <td>275         </td> <td>0        </td>\n",
       "        </tr>\n",
       "    </tbody>\n",
       "        <tr>\n",
       "            <td>2015</td> <td>Berkeley</td> <td> LILIANA  </td> <td>IGLESIAS </td> <td>ACAD ACHIEVEMENT CNSLR 2</td> <td>47080    </td> <td>47080      </td> <td>0           </td> <td>0        </td>\n",
       "        </tr>\n",
       "    </tbody>\n",
       "</table>\n",
       "<p>... (35368 rows omitted)</p"
      ],
      "text/plain": [
       "<IPython.core.display.HTML object>"
      ]
     },
     "metadata": {},
     "output_type": "display_data"
    }
   ],
   "source": [
    "UCB_data = Table.read_table('data/UCOP.csv')\n",
    "UCB_data.show(5)"
   ]
  },
  {
   "cell_type": "markdown",
   "metadata": {},
   "source": [
    "Let's look only at professors. To do this, we need to use a new function `where`. The general form of this function is:\n",
    "\n",
    "```python\n",
    "table.where(\"column_name\", \"predicate\")\n",
    "```"
   ]
  },
  {
   "cell_type": "code",
   "execution_count": 65,
   "metadata": {
    "scrolled": true
   },
   "outputs": [
    {
     "data": {
      "text/html": [
       "<table border=\"1\" class=\"dataframe\">\n",
       "    <thead>\n",
       "        <tr>\n",
       "            <th>First Name</th> <th>Last Name</th> <th>Title</th> <th>Gross Pay</th>\n",
       "        </tr>\n",
       "    </thead>\n",
       "    <tbody>\n",
       "        <tr>\n",
       "            <td> STEPHEN  </td> <td>SHORTELL  </td> <td>PROF-AY</td> <td>465004   </td>\n",
       "        </tr>\n",
       "    </tbody>\n",
       "        <tr>\n",
       "            <td> ROBERT   </td> <td>BIRGENEAU </td> <td>PROF-AY</td> <td>451845   </td>\n",
       "        </tr>\n",
       "    </tbody>\n",
       "        <tr>\n",
       "            <td> BIN      </td> <td>YU        </td> <td>PROF-AY</td> <td>382058   </td>\n",
       "        </tr>\n",
       "    </tbody>\n",
       "        <tr>\n",
       "            <td> OMAR     </td> <td>YAGHI     </td> <td>PROF-AY</td> <td>368771   </td>\n",
       "        </tr>\n",
       "    </tbody>\n",
       "        <tr>\n",
       "            <td> MARK     </td> <td>D'ESPOSITO</td> <td>PROF-AY</td> <td>363704   </td>\n",
       "        </tr>\n",
       "    </tbody>\n",
       "</table>\n",
       "<p>... (554 rows omitted)</p"
      ],
      "text/plain": [
       "<IPython.core.display.HTML object>"
      ]
     },
     "metadata": {},
     "output_type": "display_data"
    }
   ],
   "source": [
    "rd = UCB_data.select(2,3,4,5).sort(3, descending=True)\n",
    "professors = rd.where(\"Title\", are.equal_to(\"PROF-AY\"))\n",
    "professors.show(5)"
   ]
  },
  {
   "cell_type": "markdown",
   "metadata": {},
   "source": [
    "Big money!\n",
    "\n",
    "We can visualize the distribution of pay with a histogram, but the histogram (counting frequencies of a specific pay level) will change depending upon the \"bin size\" of these pay levels. We can make an interactive slider to see this:"
   ]
  },
  {
   "cell_type": "code",
   "execution_count": 66,
   "metadata": {},
   "outputs": [
    {
     "data": {
      "image/png": "[encoded data removed]",
      "text/plain": [
       "<matplotlib.figure.Figure at 0x7f98a6bb3f98>"
      ]
     },
     "metadata": {},
     "output_type": "display_data"
    }
   ],
   "source": [
    "def hist_bins(bin_size=1):\n",
    "    professors.select(3).hist(bins=np.arange(0,500000,bin_size*2000))\n",
    "\n",
    "slider = widgets.IntSlider(min=1,max=10,step=1,value=5)\n",
    "display(widgets.interactive(hist_bins, bin_size=slider))"
   ]
  },
  {
   "cell_type": "markdown",
   "metadata": {},
   "source": [
    "#### Question: What are the drawbacks and advantages of different bin sizes?"
   ]
  },
  {
   "cell_type": "raw",
   "metadata": {},
   "source": []
  },
  {
   "cell_type": "markdown",
   "metadata": {},
   "source": [
    "### Salary for males vs. females on the UC payroll\n",
    "\n",
    "While we don't have gender data in this dataset, we can use a pre-trained machine learning model to predict gender based on first name (we will forget for a moment that creating binary categories of male and female is problematic to begin with). While this is ***certainly not 100% accurate***, it is more like around 80%, we can use it to get a better idea of salaries for different genders.\n",
    "\n",
    "Here is an example of what the classification model can do:"
   ]
  },
  {
   "cell_type": "code",
   "execution_count": 67,
   "metadata": {},
   "outputs": [
    {
     "name": "stdout",
     "output_type": "stream",
     "text": [
      "[nltk_data] Downloading package names to /srv/app/nltk_data...\n",
      "[nltk_data]   Package names is already up-to-date!\n"
     ]
    },
    {
     "data": {
      "text/plain": [
       "('MALE', 'FEMALE', 'MALE', 'FEMALE')"
      ]
     },
     "execution_count": 67,
     "metadata": {},
     "output_type": "execute_result"
    }
   ],
   "source": [
    "from scripts.gender import classify_gender\n",
    "\n",
    "classify_gender(\"Daniel\"), classify_gender(\"Charis\"), classify_gender(\"Niklaus\"), classify_gender(\"Maureen\")"
   ]
  },
  {
   "cell_type": "markdown",
   "metadata": {},
   "source": [
    "We can add a new column to our professors table with the gender classification output by the model for each professor's name."
   ]
  },
  {
   "cell_type": "code",
   "execution_count": 68,
   "metadata": {},
   "outputs": [
    {
     "data": {
      "text/html": [
       "<table border=\"1\" class=\"dataframe\">\n",
       "    <thead>\n",
       "        <tr>\n",
       "            <th>First Name</th> <th>Last Name</th> <th>Title</th> <th>Gross Pay</th> <th>Gender</th>\n",
       "        </tr>\n",
       "    </thead>\n",
       "    <tbody>\n",
       "        <tr>\n",
       "            <td> STEPHEN  </td> <td>SHORTELL  </td> <td>PROF-AY</td> <td>465004   </td> <td>MALE  </td>\n",
       "        </tr>\n",
       "    </tbody>\n",
       "        <tr>\n",
       "            <td> ROBERT   </td> <td>BIRGENEAU </td> <td>PROF-AY</td> <td>451845   </td> <td>MALE  </td>\n",
       "        </tr>\n",
       "    </tbody>\n",
       "        <tr>\n",
       "            <td> BIN      </td> <td>YU        </td> <td>PROF-AY</td> <td>382058   </td> <td>MALE  </td>\n",
       "        </tr>\n",
       "    </tbody>\n",
       "        <tr>\n",
       "            <td> OMAR     </td> <td>YAGHI     </td> <td>PROF-AY</td> <td>368771   </td> <td>MALE  </td>\n",
       "        </tr>\n",
       "    </tbody>\n",
       "        <tr>\n",
       "            <td> MARK     </td> <td>D'ESPOSITO</td> <td>PROF-AY</td> <td>363704   </td> <td>MALE  </td>\n",
       "        </tr>\n",
       "    </tbody>\n",
       "        <tr>\n",
       "            <td> JOHN     </td> <td>HARTWIG   </td> <td>PROF-AY</td> <td>354461   </td> <td>MALE  </td>\n",
       "        </tr>\n",
       "    </tbody>\n",
       "        <tr>\n",
       "            <td> JASJEET  </td> <td>SEKHON    </td> <td>PROF-AY</td> <td>344879   </td> <td>MALE  </td>\n",
       "        </tr>\n",
       "    </tbody>\n",
       "        <tr>\n",
       "            <td> TROND    </td> <td>PETERSEN  </td> <td>PROF-AY</td> <td>337817   </td> <td>MALE  </td>\n",
       "        </tr>\n",
       "    </tbody>\n",
       "        <tr>\n",
       "            <td> ALEXANDER</td> <td>PINES     </td> <td>PROF-AY</td> <td>327886   </td> <td>MALE  </td>\n",
       "        </tr>\n",
       "    </tbody>\n",
       "        <tr>\n",
       "            <td> SAUL     </td> <td>PERLMUTTER</td> <td>PROF-AY</td> <td>327861   </td> <td>MALE  </td>\n",
       "        </tr>\n",
       "    </tbody>\n",
       "</table>\n",
       "<p>... (549 rows omitted)</p"
      ],
      "text/plain": [
       "<IPython.core.display.HTML object>"
      ]
     },
     "metadata": {},
     "output_type": "display_data"
    }
   ],
   "source": [
    "professors.append_column(\"Gender\", [classify_gender(name) for name in professors['First Name']])\n",
    "professors.show(10)"
   ]
  },
  {
   "cell_type": "markdown",
   "metadata": {},
   "source": [
    "Notice the incorrect classification of Bin Yu. These models aren't perfect! They were like trained on common English names, and so take these results with a grain of salt. But either way, we see in the top 10 salaries that 9 are male!"
   ]
  },
  {
   "cell_type": "markdown",
   "metadata": {},
   "source": [
    "**Challenge**\n",
    "\n",
    "Now let's investigate the average salary amounts for female vs. male professors, try to use what you've learned so far to get the `mean` of `Gross Pay` by gender from the `professors` table, and then make a `bar` plot (refresh yourself on how to use this in the table at the top of the section!):"
   ]
  },
  {
   "cell_type": "code",
   "execution_count": 69,
   "metadata": {
    "collapsed": true
   },
   "outputs": [],
   "source": [
    "# task"
   ]
  },
  {
   "cell_type": "markdown",
   "metadata": {},
   "source": [
    "#### Question: What can we conclude from this analysis?"
   ]
  },
  {
   "cell_type": "raw",
   "metadata": {},
   "source": []
  },
  {
   "cell_type": "markdown",
   "metadata": {
    "collapsed": true
   },
   "source": [
    "---\n",
    "\n",
    "## 3. Silicon Valley\n",
    "\n",
    "These data are compiled from EEO-1 reports from Apple, Twitter, Salesforce, Facebook, Microsoft, and Intel. The EEO-1 is a document required by the federal government that provides the raw numbers of employees in each of the categories below. We summed the most recent data (all from 2014-16) for these companies to get the table below."
   ]
  },
  {
   "cell_type": "code",
   "execution_count": 70,
   "metadata": {
    "scrolled": false
   },
   "outputs": [
    {
     "data": {
      "text/html": [
       "<table border=\"1\" class=\"dataframe\">\n",
       "    <thead>\n",
       "        <tr>\n",
       "            <th>Job Categories</th> <th>Hispanic or Latino Male</th> <th>Hispanic or Latino Female</th> <th>White Male</th> <th>Black or African American Male</th> <th>Native Hawaiian or Pacific Islander Male</th> <th>Asian Male</th> <th>American Indian or Alaska Native Male</th> <th>Two or More Races Male</th> <th>White Female</th> <th>Black or African American Female</th> <th>Native Hawaiian or Pacific Islander Female</th> <th>Asian Female</th> <th>American Indian or Alaska Native Female</th> <th>Two or More Races Female</th> <th>All Male</th> <th>All Female</th>\n",
       "        </tr>\n",
       "    </thead>\n",
       "    <tbody>\n",
       "        <tr>\n",
       "            <td>Executive/Senior Officials and Managers</td> <td>21                     </td> <td>21                       </td> <td>554       </td> <td>10                            </td> <td>1                                       </td> <td>117       </td> <td>2                                    </td> <td>6                     </td> <td>140         </td> <td>4                               </td> <td>0                                         </td> <td>34          </td> <td>0                                      </td> <td>2                       </td> <td>1422    </td> <td>402       </td>\n",
       "        </tr>\n",
       "    </tbody>\n",
       "        <tr>\n",
       "            <td>First/mid Officials and Managers       </td> <td>1160                   </td> <td>1160                     </td> <td>14628     </td> <td>494                           </td> <td>31                                      </td> <td>5320      </td> <td>71                                   </td> <td>197                   </td> <td>4807        </td> <td>245                             </td> <td>21                                        </td> <td>1640        </td> <td>13                                     </td> <td>95                      </td> <td>43802   </td> <td>15962     </td>\n",
       "        </tr>\n",
       "    </tbody>\n",
       "        <tr>\n",
       "            <td>Professionals                          </td> <td>4789                   </td> <td>4789                     </td> <td>50183     </td> <td>2330                          </td> <td>165                                     </td> <td>33459     </td> <td>325                                  </td> <td>1200                  </td> <td>14440       </td> <td>1034                            </td> <td>77                                        </td> <td>12771       </td> <td>118                                    </td> <td>546                     </td> <td>184902  </td> <td>67550     </td>\n",
       "        </tr>\n",
       "    </tbody>\n",
       "        <tr>\n",
       "            <td>Technicians                            </td> <td>2868                   </td> <td>2868                     </td> <td>12444     </td> <td>1891                          </td> <td>93                                      </td> <td>1585      </td> <td>159                                  </td> <td>414                   </td> <td>3314        </td> <td>1296                            </td> <td>32                                        </td> <td>576         </td> <td>49                                     </td> <td>233                     </td> <td>38908   </td> <td>16736     </td>\n",
       "        </tr>\n",
       "    </tbody>\n",
       "        <tr>\n",
       "            <td>Sales Workers                          </td> <td>3008                   </td> <td>3008                     </td> <td>13491     </td> <td>2349                          </td> <td>125                                     </td> <td>1559      </td> <td>68                                   </td> <td>502                   </td> <td>5807        </td> <td>1268                            </td> <td>62                                        </td> <td>896         </td> <td>42                                     </td> <td>310                     </td> <td>42204   </td> <td>22786     </td>\n",
       "        </tr>\n",
       "    </tbody>\n",
       "        <tr>\n",
       "            <td>Administrative Support                 </td> <td>703                    </td> <td>703                      </td> <td>2140      </td> <td>358                           </td> <td>31                                      </td> <td>411       </td> <td>14                                   </td> <td>90                    </td> <td>3339        </td> <td>530                             </td> <td>40                                        </td> <td>762         </td> <td>34                                     </td> <td>155                     </td> <td>7494    </td> <td>11126     </td>\n",
       "        </tr>\n",
       "    </tbody>\n",
       "        <tr>\n",
       "            <td>Craft Workers                          </td> <td>89                     </td> <td>89                       </td> <td>398       </td> <td>26                            </td> <td>0                                       </td> <td>34        </td> <td>9                                    </td> <td>7                     </td> <td>23          </td> <td>3                               </td> <td>0                                         </td> <td>2           </td> <td>2                                      </td> <td>0                       </td> <td>1126    </td> <td>238       </td>\n",
       "        </tr>\n",
       "    </tbody>\n",
       "        <tr>\n",
       "            <td>Operatives                             </td> <td>0                      </td> <td>0                        </td> <td>0         </td> <td>0                             </td> <td>0                                       </td> <td>0         </td> <td>0                                    </td> <td>0                     </td> <td>0           </td> <td>0                               </td> <td>0                                         </td> <td>0           </td> <td>0                                      </td> <td>0                       </td> <td>0       </td> <td>0         </td>\n",
       "        </tr>\n",
       "    </tbody>\n",
       "        <tr>\n",
       "            <td>Laborers and Helpers                   </td> <td>0                      </td> <td>0                        </td> <td>0         </td> <td>1                             </td> <td>0                                       </td> <td>0         </td> <td>0                                    </td> <td>0                     </td> <td>0           </td> <td>0                               </td> <td>0                                         </td> <td>0           </td> <td>0                                      </td> <td>0                       </td> <td>2       </td> <td>0         </td>\n",
       "        </tr>\n",
       "    </tbody>\n",
       "        <tr>\n",
       "            <td>Service Workers                        </td> <td>133                    </td> <td>133                      </td> <td>76        </td> <td>12                            </td> <td>6                                       </td> <td>46        </td> <td>1                                    </td> <td>6                     </td> <td>27          </td> <td>12                              </td> <td>2                                         </td> <td>16          </td> <td>0                                      </td> <td>3                       </td> <td>560     </td> <td>386       </td>\n",
       "        </tr>\n",
       "    </tbody>\n",
       "        <tr>\n",
       "            <td>Total                                  </td> <td>12771                  </td> <td>12771                    </td> <td>93914     </td> <td>7471                          </td> <td>452                                     </td> <td>42531     </td> <td>649                                  </td> <td>2422                  </td> <td>31897       </td> <td>4392                            </td> <td>234                                       </td> <td>16697       </td> <td>258                                    </td> <td>1344                    </td> <td>320420  </td> <td>135186    </td>\n",
       "        </tr>\n",
       "    </tbody>\n",
       "        <tr>\n",
       "            <td>Previous Report Total                  </td> <td>11843                  </td> <td>11843                    </td> <td>89740     </td> <td>6879                          </td> <td>425                                     </td> <td>36825     </td> <td>609                                  </td> <td>2059                  </td> <td>29584       </td> <td>3705                            </td> <td>218                                       </td> <td>14157       </td> <td>257                                    </td> <td>1046                    </td> <td>296760  </td> <td>121620    </td>\n",
       "        </tr>\n",
       "    </tbody>\n",
       "</table>"
      ],
      "text/plain": [
       "<IPython.core.display.HTML object>"
      ]
     },
     "metadata": {},
     "output_type": "display_data"
    }
   ],
   "source": [
    "tech_data = Table.read_table('data/eeo-aggregate.csv')\n",
    "tech_data.show()"
   ]
  },
  {
   "cell_type": "markdown",
   "metadata": {},
   "source": [
    "We can look at a basic bar chart of all males and females by job category:"
   ]
  },
  {
   "cell_type": "code",
   "execution_count": 71,
   "metadata": {},
   "outputs": [
    {
     "data": {
      "image/png": "[encoded data removed]",
      "text/plain": [
       "<matplotlib.figure.Figure at 0x7f98a070f780>"
      ]
     },
     "metadata": {},
     "output_type": "display_data"
    }
   ],
   "source": [
    "tech_data.select(['Job Categories', 'All Male', 'All Female']).barh('Job Categories')"
   ]
  },
  {
   "cell_type": "markdown",
   "metadata": {},
   "source": [
    "We can also break down each gender by race:"
   ]
  },
  {
   "cell_type": "code",
   "execution_count": 72,
   "metadata": {},
   "outputs": [
    {
     "data": {
      "image/png": "[encoded data removed]",
      "text/plain": [
       "<matplotlib.figure.Figure at 0x7f98a066edd8>"
      ]
     },
     "metadata": {},
     "output_type": "display_data"
    }
   ],
   "source": [
    "females = [c for c in tech_data.to_df().columns if \"Female\" in c]\n",
    "tech_data.select(['Job Categories'] + females).barh('Job Categories')"
   ]
  },
  {
   "cell_type": "code",
   "execution_count": 73,
   "metadata": {},
   "outputs": [
    {
     "data": {
      "image/png": "[encoded data removed]",
      "text/plain": [
       "<matplotlib.figure.Figure at 0x7f98a05be6d8>"
      ]
     },
     "metadata": {},
     "output_type": "display_data"
    }
   ],
   "source": [
    "males = [c for c in tech_data.to_df().columns if \"Male\" in c]\n",
    "tech_data.select(['Job Categories'] + males).barh('Job Categories')"
   ]
  },
  {
   "cell_type": "markdown",
   "metadata": {},
   "source": [
    "#### Question: What do you see in this data? \n",
    "(**Note**: It might be a little hard to see since the bars are so small - zoom in!)"
   ]
  },
  {
   "cell_type": "raw",
   "metadata": {},
   "source": []
  },
  {
   "cell_type": "markdown",
   "metadata": {},
   "source": [
    "---\n",
    "\n",
    "## 4. Bay Area Census data\n",
    "\n",
    "Let's read in a CSV file with Bay Area employment data:"
   ]
  },
  {
   "cell_type": "code",
   "execution_count": 74,
   "metadata": {},
   "outputs": [
    {
     "data": {
      "text/html": [
       "<table border=\"1\" class=\"dataframe\">\n",
       "    <thead>\n",
       "        <tr>\n",
       "            <th>YEAR</th> <th>SERIAL</th> <th>HWTSUPP</th> <th>CPSID</th> <th>ASECFLAG</th> <th>HFLAG</th> <th>METAREA</th> <th>MONTH</th> <th>PERNUM</th> <th>CPSIDP</th> <th>WTSUPP</th> <th>SEX</th> <th>RACE</th> <th>OCC2010</th> <th>INCTOT</th>\n",
       "        </tr>\n",
       "    </thead>\n",
       "    <tbody>\n",
       "        <tr>\n",
       "            <td>2013</td> <td>92957 </td> <td>2862.21</td> <td>2.01112e+13</td> <td>1       </td> <td>nan  </td> <td>7365   </td> <td>3    </td> <td>1     </td> <td>2.01112e+13</td> <td>2862.21</td> <td>1   </td> <td>100 </td> <td>9620   </td> <td>25000 </td>\n",
       "        </tr>\n",
       "    </tbody>\n",
       "        <tr>\n",
       "            <td>2013</td> <td>92957 </td> <td>2862.21</td> <td>2.01112e+13</td> <td>1       </td> <td>nan  </td> <td>7365   </td> <td>3    </td> <td>2     </td> <td>2.01112e+13</td> <td>4541.27</td> <td>1   </td> <td>100 </td> <td>6260   </td> <td>12011 </td>\n",
       "        </tr>\n",
       "    </tbody>\n",
       "        <tr>\n",
       "            <td>2013</td> <td>92957 </td> <td>2862.21</td> <td>2.01112e+13</td> <td>1       </td> <td>nan  </td> <td>7365   </td> <td>3    </td> <td>3     </td> <td>2.01112e+13</td> <td>4513.16</td> <td>1   </td> <td>100 </td> <td>6420   </td> <td>25000 </td>\n",
       "        </tr>\n",
       "    </tbody>\n",
       "        <tr>\n",
       "            <td>2013</td> <td>92957 </td> <td>2862.21</td> <td>2.01112e+13</td> <td>1       </td> <td>nan  </td> <td>7365   </td> <td>3    </td> <td>4     </td> <td>2.01112e+13</td> <td>4513.16</td> <td>1   </td> <td>100 </td> <td>9130   </td> <td>10000 </td>\n",
       "        </tr>\n",
       "    </tbody>\n",
       "        <tr>\n",
       "            <td>2013</td> <td>92959 </td> <td>2385.98</td> <td>2.01212e+13</td> <td>1       </td> <td>nan  </td> <td>7365   </td> <td>3    </td> <td>1     </td> <td>2.01212e+13</td> <td>2385.98</td> <td>2   </td> <td>652 </td> <td>3530   </td> <td>53515 </td>\n",
       "        </tr>\n",
       "    </tbody>\n",
       "</table>\n",
       "<p>... (13105 rows omitted)</p"
      ],
      "text/plain": [
       "<IPython.core.display.HTML object>"
      ]
     },
     "metadata": {},
     "output_type": "display_data"
    }
   ],
   "source": [
    "bay_area = Table().read_table('data/bay_area_data.csv')\n",
    "bay_area.show(5)"
   ]
  },
  {
   "cell_type": "markdown",
   "metadata": {},
   "source": [
    "### Job code subset\n",
    "\n",
    "As you can see above, this table has a lot of information. The variables are in the columns and each row represents an individual. First, we will subset this table to only include the occupations we want to analyze. Job codes are listed in the column `OCC2010`. We're going to focus on management and stem jobs. We'll zoom back out at the end to get a big picture conclusion."
   ]
  },
  {
   "cell_type": "code",
   "execution_count": 75,
   "metadata": {},
   "outputs": [
    {
     "data": {
      "text/html": [
       "<table border=\"1\" class=\"dataframe\">\n",
       "    <thead>\n",
       "        <tr>\n",
       "            <th>YEAR</th> <th>SERIAL</th> <th>HWTSUPP</th> <th>CPSID</th> <th>ASECFLAG</th> <th>HFLAG</th> <th>METAREA</th> <th>MONTH</th> <th>PERNUM</th> <th>CPSIDP</th> <th>WTSUPP</th> <th>SEX</th> <th>RACE</th> <th>OCC2010</th> <th>INCTOT</th>\n",
       "        </tr>\n",
       "    </thead>\n",
       "    <tbody>\n",
       "        <tr>\n",
       "            <td>2013</td> <td>92957 </td> <td>2862.21</td> <td>2.01112e+13</td> <td>1       </td> <td>nan  </td> <td>7365   </td> <td>3    </td> <td>1     </td> <td>2.01112e+13</td> <td>2862.21</td> <td>1   </td> <td>100 </td> <td>9620   </td> <td>25000 </td>\n",
       "        </tr>\n",
       "    </tbody>\n",
       "        <tr>\n",
       "            <td>2013</td> <td>92966 </td> <td>1636.31</td> <td>2.01112e+13</td> <td>1       </td> <td>nan  </td> <td>7365   </td> <td>3    </td> <td>1     </td> <td>2.01112e+13</td> <td>1636.31</td> <td>1   </td> <td>100 </td> <td>220    </td> <td>74645 </td>\n",
       "        </tr>\n",
       "    </tbody>\n",
       "        <tr>\n",
       "            <td>2013</td> <td>92966 </td> <td>1636.31</td> <td>2.01112e+13</td> <td>1       </td> <td>nan  </td> <td>7365   </td> <td>3    </td> <td>3     </td> <td>2.01112e+13</td> <td>1589.28</td> <td>2   </td> <td>100 </td> <td>4110   </td> <td>6240  </td>\n",
       "        </tr>\n",
       "    </tbody>\n",
       "        <tr>\n",
       "            <td>2013</td> <td>92967 </td> <td>3141.2 </td> <td>2.01112e+13</td> <td>1       </td> <td>nan  </td> <td>7365   </td> <td>3    </td> <td>3     </td> <td>2.01112e+13</td> <td>3384.73</td> <td>1   </td> <td>100 </td> <td>1050   </td> <td>0     </td>\n",
       "        </tr>\n",
       "    </tbody>\n",
       "        <tr>\n",
       "            <td>2013</td> <td>92969 </td> <td>3068.09</td> <td>2.01112e+13</td> <td>1       </td> <td>nan  </td> <td>7365   </td> <td>3    </td> <td>1     </td> <td>2.01112e+13</td> <td>3068.09</td> <td>1   </td> <td>100 </td> <td>1410   </td> <td>115421</td>\n",
       "        </tr>\n",
       "    </tbody>\n",
       "</table>\n",
       "<p>... (2545 rows omitted)</p"
      ],
      "text/plain": [
       "<IPython.core.display.HTML object>"
      ]
     },
     "metadata": {},
     "output_type": "display_data"
    }
   ],
   "source": [
    "job_codes = [10, 20, 30, 100, 110, 120, 130, 140, 150, 160, 220, 300, 310, 330, 350, 360, 410, 420,\n",
    "             620, 700, 710, 720, 730, 800, 820, 940, 950, 1000, 1010, 1020, 1050, 1060, 1100, 1200, 1220,\n",
    "             1230, 1240, 1350, 1360, 1400, 1410, 1420, 1430, 1450, 1460, 1540, 1550, 1720, 1910, 1920,\n",
    "             1980, 2840, 2900, 4000, 4010, 4030, 4050, 4060, 4110, 4120, 4130, 4140, 4150, 4200, 4210,\n",
    "             4220, 4230, 4250, 4720, 5000, 7720, 7730, 7900, 8000, 8010, 8030, 8060, 8800, 8830, 7700,\n",
    "             9620, 9630, 9640]\n",
    "\n",
    "df = bay_area.to_df()\n",
    "bay_area_cut = Table.from_df(df.loc[df['OCC2010'].isin(job_codes)])\n",
    "bay_area_cut.show(5)"
   ]
  },
  {
   "cell_type": "markdown",
   "metadata": {},
   "source": [
    "Although still large, a table with 13110 rows has now decreased to 2550 by selecting rows that match our `job_codes` array. Let's subset this further by picking out specific variables we want to look at:"
   ]
  },
  {
   "cell_type": "code",
   "execution_count": 76,
   "metadata": {},
   "outputs": [
    {
     "data": {
      "text/html": [
       "<table border=\"1\" class=\"dataframe\">\n",
       "    <thead>\n",
       "        <tr>\n",
       "            <th>YEAR</th> <th>SERIAL</th> <th>METAREA</th> <th>SEX</th> <th>RACE</th> <th>OCC2010</th> <th>INCTOT</th>\n",
       "        </tr>\n",
       "    </thead>\n",
       "    <tbody>\n",
       "        <tr>\n",
       "            <td>2013</td> <td>92957 </td> <td>7365   </td> <td>1   </td> <td>100 </td> <td>9620   </td> <td>25000 </td>\n",
       "        </tr>\n",
       "    </tbody>\n",
       "        <tr>\n",
       "            <td>2013</td> <td>92966 </td> <td>7365   </td> <td>1   </td> <td>100 </td> <td>220    </td> <td>74645 </td>\n",
       "        </tr>\n",
       "    </tbody>\n",
       "        <tr>\n",
       "            <td>2013</td> <td>92966 </td> <td>7365   </td> <td>2   </td> <td>100 </td> <td>4110   </td> <td>6240  </td>\n",
       "        </tr>\n",
       "    </tbody>\n",
       "        <tr>\n",
       "            <td>2013</td> <td>92967 </td> <td>7365   </td> <td>1   </td> <td>100 </td> <td>1050   </td> <td>0     </td>\n",
       "        </tr>\n",
       "    </tbody>\n",
       "        <tr>\n",
       "            <td>2013</td> <td>92969 </td> <td>7365   </td> <td>1   </td> <td>100 </td> <td>1410   </td> <td>115421</td>\n",
       "        </tr>\n",
       "    </tbody>\n",
       "</table>\n",
       "<p>... (2545 rows omitted)</p"
      ],
      "text/plain": [
       "<IPython.core.display.HTML object>"
      ]
     },
     "metadata": {},
     "output_type": "display_data"
    }
   ],
   "source": [
    "cut_bay_area= bay_area_cut.drop(\"CPSID\",\"ASECFLAG\",\"HWTSUPP\", \"HFLAG\", \"MONTH\", \"PERNUM\", \"CPSIDP\",\"WTSUPP\")\n",
    "cut_bay_area.show(5)"
   ]
  },
  {
   "cell_type": "markdown",
   "metadata": {},
   "source": [
    "The column of job codes in \"OCC2010\" still does not paint a picture of who is doing which jobs. The code cell below is a bit complicated, but all it does is create a new column for us with the `job_categories` mapping the job codes, so we can collapse some of these jobs into useful categories:"
   ]
  },
  {
   "cell_type": "code",
   "execution_count": 77,
   "metadata": {
    "collapsed": true
   },
   "outputs": [],
   "source": [
    "job_categories = {\"STEM\": [700, 1000, 1010, 1020, 1050, 1220, 1230, 1240, 1350, 1360, 1400, 1410, 1420, 1430, 1450, \\\n",
    "                           1460, 1540, 1550, 1720, 1910, 1920, 1980,2840, 2900,7720, 7730, 7900, 8000, 8010,8030, \\\n",
    "                           8060, 8800, 8830],\n",
    "                  \"SERVICE\": [7700, 9620, 9630, 9640, 4000, 4010, 4030, 4050, 4060, 4110, 4120, 4130, 4140, 4150, 4720],\n",
    "                  \"FINANCIAL\": [120, 800, 820, 940, 950],\n",
    "                  \"CUSTODIAL\": [4200, 4210, 4220, 4230, 4250],\n",
    "                  \"MANAGEMENT\": [130, 150, 160, 220, 30, 100, 410, 420],\n",
    "                  \"STEM_MANAGER\": [140,300,330, 350, 360, 1060, 1100],\n",
    "                  \"ADMINISTRATOR\": [10,20]}\n",
    "\n",
    "job_categories = dict((v,k) for k in job_categories for v in job_categories[k])\n",
    "\n",
    "sectors = []\n",
    "for job in cut_bay_area.column(\"OCC2010\"):\n",
    "    try:\n",
    "        sectors.append(job_categories[job])\n",
    "    except:\n",
    "        sectors.append(\"UNKNOWN\")"
   ]
  },
  {
   "cell_type": "markdown",
   "metadata": {},
   "source": [
    "Now we can add the sector of each individual's job into a column by using the `with_column` function as seen below. "
   ]
  },
  {
   "cell_type": "code",
   "execution_count": 78,
   "metadata": {},
   "outputs": [
    {
     "data": {
      "text/html": [
       "<table border=\"1\" class=\"dataframe\">\n",
       "    <thead>\n",
       "        <tr>\n",
       "            <th>YEAR</th> <th>SERIAL</th> <th>METAREA</th> <th>SEX</th> <th>RACE</th> <th>OCC2010</th> <th>INCTOT</th> <th>SECTOR</th>\n",
       "        </tr>\n",
       "    </thead>\n",
       "    <tbody>\n",
       "        <tr>\n",
       "            <td>2013</td> <td>92957 </td> <td>7365   </td> <td>1   </td> <td>100 </td> <td>9620   </td> <td>25000 </td> <td>SERVICE     </td>\n",
       "        </tr>\n",
       "    </tbody>\n",
       "        <tr>\n",
       "            <td>2013</td> <td>92966 </td> <td>7365   </td> <td>1   </td> <td>100 </td> <td>220    </td> <td>74645 </td> <td>MANAGEMENT  </td>\n",
       "        </tr>\n",
       "    </tbody>\n",
       "        <tr>\n",
       "            <td>2013</td> <td>92966 </td> <td>7365   </td> <td>2   </td> <td>100 </td> <td>4110   </td> <td>6240  </td> <td>SERVICE     </td>\n",
       "        </tr>\n",
       "    </tbody>\n",
       "        <tr>\n",
       "            <td>2013</td> <td>92967 </td> <td>7365   </td> <td>1   </td> <td>100 </td> <td>1050   </td> <td>0     </td> <td>STEM        </td>\n",
       "        </tr>\n",
       "    </tbody>\n",
       "        <tr>\n",
       "            <td>2013</td> <td>92969 </td> <td>7365   </td> <td>1   </td> <td>100 </td> <td>1410   </td> <td>115421</td> <td>STEM        </td>\n",
       "        </tr>\n",
       "    </tbody>\n",
       "        <tr>\n",
       "            <td>2013</td> <td>92970 </td> <td>7365   </td> <td>1   </td> <td>100 </td> <td>1020   </td> <td>117865</td> <td>STEM        </td>\n",
       "        </tr>\n",
       "    </tbody>\n",
       "        <tr>\n",
       "            <td>2013</td> <td>92973 </td> <td>7365   </td> <td>1   </td> <td>100 </td> <td>4220   </td> <td>29017 </td> <td>CUSTODIAL   </td>\n",
       "        </tr>\n",
       "    </tbody>\n",
       "        <tr>\n",
       "            <td>2013</td> <td>92976 </td> <td>7365   </td> <td>2   </td> <td>651 </td> <td>350    </td> <td>130030</td> <td>STEM_MANAGER</td>\n",
       "        </tr>\n",
       "    </tbody>\n",
       "        <tr>\n",
       "            <td>2013</td> <td>92980 </td> <td>7365   </td> <td>2   </td> <td>651 </td> <td>720    </td> <td>571   </td> <td>UNKNOWN     </td>\n",
       "        </tr>\n",
       "    </tbody>\n",
       "        <tr>\n",
       "            <td>2013</td> <td>92983 </td> <td>7365   </td> <td>1   </td> <td>100 </td> <td>9620   </td> <td>19825 </td> <td>SERVICE     </td>\n",
       "        </tr>\n",
       "    </tbody>\n",
       "</table>\n",
       "<p>... (2540 rows omitted)</p"
      ],
      "text/plain": [
       "YEAR | SERIAL | METAREA | SEX  | RACE | OCC2010 | INCTOT | SECTOR\n",
       "2013 | 92957  | 7365    | 1    | 100  | 9620    | 25000  | SERVICE\n",
       "2013 | 92966  | 7365    | 1    | 100  | 220     | 74645  | MANAGEMENT\n",
       "2013 | 92966  | 7365    | 2    | 100  | 4110    | 6240   | SERVICE\n",
       "2013 | 92967  | 7365    | 1    | 100  | 1050    | 0      | STEM\n",
       "2013 | 92969  | 7365    | 1    | 100  | 1410    | 115421 | STEM\n",
       "2013 | 92970  | 7365    | 1    | 100  | 1020    | 117865 | STEM\n",
       "2013 | 92973  | 7365    | 1    | 100  | 4220    | 29017  | CUSTODIAL\n",
       "2013 | 92976  | 7365    | 2    | 651  | 350     | 130030 | STEM_MANAGER\n",
       "2013 | 92980  | 7365    | 2    | 651  | 720     | 571    | UNKNOWN\n",
       "2013 | 92983  | 7365    | 1    | 100  | 9620    | 19825  | SERVICE\n",
       "... (2540 rows omitted)"
      ]
     },
     "execution_count": 78,
     "metadata": {},
     "output_type": "execute_result"
    }
   ],
   "source": [
    "with_sector = cut_bay_area.with_column('SECTOR', sectors)\n",
    "with_sector"
   ]
  },
  {
   "cell_type": "markdown",
   "metadata": {},
   "source": [
    "You might have noticed this earlier but race in this table is listed as a number. To make analyis more intuitive, let's change the race codes into what they mean. The census documentation tells use that we can map races to the followin codes:"
   ]
  },
  {
   "cell_type": "code",
   "execution_count": 79,
   "metadata": {},
   "outputs": [
    {
     "data": {
      "text/html": [
       "<table border=\"1\" class=\"dataframe\">\n",
       "    <thead>\n",
       "        <tr>\n",
       "            <th>YEAR</th> <th>SERIAL</th> <th>METAREA</th> <th>SEX</th> <th>RACE</th> <th>OCC2010</th> <th>INCTOT</th> <th>SECTOR</th>\n",
       "        </tr>\n",
       "    </thead>\n",
       "    <tbody>\n",
       "        <tr>\n",
       "            <td>2013</td> <td>92957 </td> <td>7365   </td> <td>MALE  </td> <td>White</td> <td>9620   </td> <td>25000 </td> <td>SERVICE   </td>\n",
       "        </tr>\n",
       "    </tbody>\n",
       "        <tr>\n",
       "            <td>2013</td> <td>92966 </td> <td>7365   </td> <td>MALE  </td> <td>White</td> <td>220    </td> <td>74645 </td> <td>MANAGEMENT</td>\n",
       "        </tr>\n",
       "    </tbody>\n",
       "        <tr>\n",
       "            <td>2013</td> <td>92966 </td> <td>7365   </td> <td>FEMALE</td> <td>White</td> <td>4110   </td> <td>6240  </td> <td>SERVICE   </td>\n",
       "        </tr>\n",
       "    </tbody>\n",
       "        <tr>\n",
       "            <td>2013</td> <td>92967 </td> <td>7365   </td> <td>MALE  </td> <td>White</td> <td>1050   </td> <td>0     </td> <td>STEM      </td>\n",
       "        </tr>\n",
       "    </tbody>\n",
       "        <tr>\n",
       "            <td>2013</td> <td>92969 </td> <td>7365   </td> <td>MALE  </td> <td>White</td> <td>1410   </td> <td>115421</td> <td>STEM      </td>\n",
       "        </tr>\n",
       "    </tbody>\n",
       "</table>\n",
       "<p>... (2545 rows omitted)</p"
      ],
      "text/plain": [
       "<IPython.core.display.HTML object>"
      ]
     },
     "metadata": {},
     "output_type": "display_data"
    }
   ],
   "source": [
    "race_dict = {'White': list(range(100,200)),\n",
    "             'Black': list(range(200,300)),\n",
    "             'Indigenous': list(range(300,400)),\n",
    "             'Asian': list(range(400,500)),\n",
    "             'Pacific Islander': list(range(500,600)),\n",
    "             'Other': list(range(600,700)),\n",
    "             'NA': list(range(700,900))}\n",
    "\n",
    "race_dict = dict((v,k) for k in race_dict for v in race_dict[k])\n",
    "\n",
    "with_race = Table.from_df(with_sector.to_df().replace({\"RACE\": race_dict, \"SEX\": {1: \"MALE\", 2: \"FEMALE\"}}))\n",
    "with_race.show(5)"
   ]
  },
  {
   "cell_type": "markdown",
   "metadata": {},
   "source": [
    "Let's make a quick bar chart for the races in our sample:"
   ]
  },
  {
   "cell_type": "code",
   "execution_count": 80,
   "metadata": {},
   "outputs": [
    {
     "data": {
      "text/plain": [
       "<matplotlib.axes._subplots.AxesSubplot at 0x7f98a6f70630>"
      ]
     },
     "execution_count": 80,
     "metadata": {},
     "output_type": "execute_result"
    },
    {
     "data": {
      "image/png": "[encoded data removed]",
      "text/plain": [
       "<matplotlib.figure.Figure at 0x7f98a6f70f28>"
      ]
     },
     "metadata": {},
     "output_type": "display_data"
    }
   ],
   "source": [
    "with_race.to_df()['RACE'].value_counts().plot.bar()"
   ]
  },
  {
   "cell_type": "markdown",
   "metadata": {},
   "source": [
    "As you can see, \"White\" is a pretty big ethnicity group, this may be due to the fact that \"White\" encompasses a lot according to the 2010 U.S. Census. The definitions of White include Middle Easterners, North Africans and the majority of Hispanic people in the United States. \n",
    "\n",
    "Let's try looking at job `SECTOR` by `SEX`:"
   ]
  },
  {
   "cell_type": "code",
   "execution_count": 81,
   "metadata": {},
   "outputs": [
    {
     "data": {
      "text/plain": [
       "<matplotlib.axes._subplots.AxesSubplot at 0x7f98a0065630>"
      ]
     },
     "execution_count": 81,
     "metadata": {},
     "output_type": "execute_result"
    },
    {
     "data": {
      "image/png": "[encoded data removed]",
      "text/plain": [
       "<matplotlib.figure.Figure at 0x7f98a0065f28>"
      ]
     },
     "metadata": {},
     "output_type": "display_data"
    }
   ],
   "source": [
    "with_race.to_df().groupby(['SECTOR', 'SEX'])['SEX'].count().unstack().plot.bar(stacked=True)"
   ]
  },
  {
   "cell_type": "markdown",
   "metadata": {},
   "source": [
    "#### Challenge\n",
    "Copy the code above but change `SEX` to `RACE` to see the same analysis breakdown by `RACE`:"
   ]
  },
  {
   "cell_type": "code",
   "execution_count": 82,
   "metadata": {
    "collapsed": true
   },
   "outputs": [],
   "source": [
    "# task"
   ]
  },
  {
   "cell_type": "markdown",
   "metadata": {},
   "source": [
    "We can write a short `for` loop to print out bar charts for each `SECTOR` broken down by `SEX`:"
   ]
  },
  {
   "cell_type": "code",
   "execution_count": 83,
   "metadata": {},
   "outputs": [
    {
     "data": {
      "image/png": "[encoded data removed]",
      "text/plain": [
       "<matplotlib.figure.Figure at 0x7f989ff6d8d0>"
      ]
     },
     "metadata": {},
     "output_type": "display_data"
    },
    {
     "data": {
      "image/png": "[encoded data removed]",
      "text/plain": [
       "<matplotlib.figure.Figure at 0x7f989ffa8da0>"
      ]
     },
     "metadata": {},
     "output_type": "display_data"
    },
    {
     "data": {
      "image/png": "[encoded data removed]",
      "text/plain": [
       "<matplotlib.figure.Figure at 0x7f989fe1bcf8>"
      ]
     },
     "metadata": {},
     "output_type": "display_data"
    },
    {
     "data": {
      "image/png": "[encoded data removed]",
      "text/plain": [
       "<matplotlib.figure.Figure at 0x7f989fd62358>"
      ]
     },
     "metadata": {},
     "output_type": "display_data"
    },
    {
     "data": {
      "image/png": "[encoded data removed]",
      "text/plain": [
       "<matplotlib.figure.Figure at 0x7f989fc99b70>"
      ]
     },
     "metadata": {},
     "output_type": "display_data"
    },
    {
     "data": {
      "image/png": "[encoded data removed]",
      "text/plain": [
       "<matplotlib.figure.Figure at 0x7f989fc4d278>"
      ]
     },
     "metadata": {},
     "output_type": "display_data"
    },
    {
     "data": {
      "image/png": "[encoded data removed]",
      "text/plain": [
       "<matplotlib.figure.Figure at 0x7f989fb842e8>"
      ]
     },
     "metadata": {},
     "output_type": "display_data"
    },
    {
     "data": {
      "image/png": "[encoded data removed]",
      "text/plain": [
       "<matplotlib.figure.Figure at 0x7f989faf4e10>"
      ]
     },
     "metadata": {},
     "output_type": "display_data"
    }
   ],
   "source": [
    "for s in set(sectors):\n",
    "    df = with_race.to_df()\n",
    "    df[df['SECTOR'] == s].groupby(['RACE', 'SEX'])['SEX'].count().unstack().plot.bar(stacked=True, title=s)"
   ]
  },
  {
   "cell_type": "markdown",
   "metadata": {
    "collapsed": true
   },
   "source": [
    "By looking at the average mean of each part of the sample, we see some differences. "
   ]
  },
  {
   "cell_type": "markdown",
   "metadata": {},
   "source": [
    "### Income by race and gender\n",
    "\n",
    "**Challenge**\n",
    "\n",
    "Use our table `with_race` to get `groupby` `SEX` and then get the mean of `INCTOT`, then plot this:"
   ]
  },
  {
   "cell_type": "code",
   "execution_count": 84,
   "metadata": {
    "collapsed": true,
    "scrolled": true
   },
   "outputs": [],
   "source": [
    "# task"
   ]
  },
  {
   "cell_type": "markdown",
   "metadata": {},
   "source": [
    "Do the same for `RACE`:"
   ]
  },
  {
   "cell_type": "code",
   "execution_count": 85,
   "metadata": {
    "collapsed": true,
    "scrolled": true
   },
   "outputs": [],
   "source": [
    "# task"
   ]
  },
  {
   "cell_type": "markdown",
   "metadata": {},
   "source": [
    "---\n",
    "\n",
    "This type of comparison isn't very reliable. We will perform a p-value test to determine if the change of income across races/ sex is statistically significant. To do this we first need to bootstrap our sample to make a 95% confidence interval of the estimated population mean.  We have a pre-defined function called `bootstrap_median` that we can use to do this. The following block of code computes and plots the median confidence interval for each sex using `bootstrap_median`."
   ]
  },
  {
   "cell_type": "markdown",
   "metadata": {},
   "source": [
    "Let's look at `MALE` vs. `FEMALE`:"
   ]
  },
  {
   "cell_type": "code",
   "execution_count": 86,
   "metadata": {},
   "outputs": [
    {
     "name": "stdout",
     "output_type": "stream",
     "text": [
      "The median 95% Confidence Interval for MALE is [ 70000.  80000.]\n",
      "The median 95% Confidence Interval for FEMALE is [ 37000.  41600.]\n"
     ]
    },
    {
     "data": {
      "text/plain": [
       "<matplotlib.text.Text at 0x7f989f8b0710>"
      ]
     },
     "execution_count": 86,
     "metadata": {},
     "output_type": "execute_result"
    },
    {
     "data": {
      "image/png": "[encoded data removed]",
      "text/plain": [
       "<matplotlib.figure.Figure at 0x7f989f895e80>"
      ]
     },
     "metadata": {},
     "output_type": "display_data"
    }
   ],
   "source": [
    "from scripts.gws_module import bootstrap_median # Importing the bootstrap_median function\n",
    "\n",
    "median_dict = {}\n",
    "for i, s in enumerate(['MALE', 'FEMALE']):\n",
    "    subset = Table.from_df(df[df['SEX'] == s])\n",
    "    medians = bootstrap_median(subset, \"INCTOT\", 1000) # Using bootstrap_median here\n",
    "    median_dict[s] = medians\n",
    "    left = percentile(2.5, medians)\n",
    "    right = percentile(97.5, medians)\n",
    "    CI = make_array(left, right)\n",
    "    print(\"The median 95% Confidence Interval for \" + s + \" is\", CI)\n",
    "    plt.plot(CI, make_array(i, i), lw=10, label=s)\n",
    "plt.legend(bbox_to_anchor=(1.01, 1), loc='upper left', ncol=1)\n",
    "plt.title('Bootstrap Median Income Confidence Intervals')"
   ]
  },
  {
   "cell_type": "markdown",
   "metadata": {},
   "source": [
    "We can calculate the p-value from the median samples to determine whether the difference is significant:"
   ]
  },
  {
   "cell_type": "code",
   "execution_count": 87,
   "metadata": {},
   "outputs": [
    {
     "data": {
      "text/plain": [
       "Ttest_indResult(statistic=390.1855811974699, pvalue=0.0)"
      ]
     },
     "execution_count": 87,
     "metadata": {},
     "output_type": "execute_result"
    }
   ],
   "source": [
    "stats.ttest_ind(median_dict['MALE'], median_dict['FEMALE'])"
   ]
  },
  {
   "cell_type": "markdown",
   "metadata": {},
   "source": [
    "We can also look at `RACE`:"
   ]
  },
  {
   "cell_type": "code",
   "execution_count": 88,
   "metadata": {},
   "outputs": [
    {
     "name": "stdout",
     "output_type": "stream",
     "text": [
      "The median 95% Confidence Interval for Black is [ 40100.  60645.]\n",
      "The median 95% Confidence Interval for White is [ 43300.  52600.]\n",
      "The median 95% Confidence Interval for NA is [ 40000.  73475.]\n",
      "The median 95% Confidence Interval for Indigenous is [ 18003.  32060.]\n",
      "The median 95% Confidence Interval for Other is [ 66008.  80000.]\n"
     ]
    },
    {
     "data": {
      "text/plain": [
       "<matplotlib.text.Text at 0x7f989fa88320>"
      ]
     },
     "execution_count": 88,
     "metadata": {},
     "output_type": "execute_result"
    },
    {
     "data": {
      "image/png": "[encoded data removed]",
      "text/plain": [
       "<matplotlib.figure.Figure at 0x7f989f82d320>"
      ]
     },
     "metadata": {},
     "output_type": "display_data"
    }
   ],
   "source": [
    "median_dict = {}\n",
    "for i, r in enumerate(set(df['RACE'])):\n",
    "    subset = Table.from_df(df[df['RACE'] == r])\n",
    "    medians= bootstrap_median(subset, \"INCTOT\", 1000) # Using bootstrap_median again\n",
    "    median_dict[r] = medians\n",
    "    left = percentile(2.5, medians)\n",
    "    right = percentile(97.5, medians)\n",
    "    CI = make_array(left, right)\n",
    "    print(\"The median 95% Confidence Interval for \" + r + \" is\", CI)\n",
    "    plt.plot(CI, make_array(i, i), lw=10, label=r)\n",
    "plt.legend(bbox_to_anchor=(1.01, 1), loc='upper left', ncol=1)\n",
    "plt.title('Bootstrap Median Income Confidence Intervals')"
   ]
  },
  {
   "cell_type": "markdown",
   "metadata": {},
   "source": [
    "We can do a one way F test to see if there is significance in the difference between the median samples:"
   ]
  },
  {
   "cell_type": "code",
   "execution_count": 89,
   "metadata": {},
   "outputs": [
    {
     "data": {
      "text/plain": [
       "F_onewayResult(statistic=11008.508375011059, pvalue=0.0)"
      ]
     },
     "execution_count": 89,
     "metadata": {},
     "output_type": "execute_result"
    }
   ],
   "source": [
    "stats.f_oneway(median_dict['NA'], median_dict['Other'], median_dict['Indigenous'], median_dict['White'], median_dict['Black'])"
   ]
  },
  {
   "cell_type": "markdown",
   "metadata": {},
   "source": [
    "We can use a fancy tool to give us all the combinations of `SEX` and `RACE` and then get the confidence intervals for those:"
   ]
  },
  {
   "cell_type": "code",
   "execution_count": 90,
   "metadata": {},
   "outputs": [
    {
     "data": {
      "text/plain": [
       "[('Black', 'MALE'),\n",
       " ('Black', 'FEMALE'),\n",
       " ('White', 'MALE'),\n",
       " ('White', 'FEMALE'),\n",
       " ('NA', 'MALE'),\n",
       " ('NA', 'FEMALE'),\n",
       " ('Indigenous', 'MALE'),\n",
       " ('Indigenous', 'FEMALE'),\n",
       " ('Other', 'MALE'),\n",
       " ('Other', 'FEMALE')]"
      ]
     },
     "execution_count": 90,
     "metadata": {},
     "output_type": "execute_result"
    }
   ],
   "source": [
    "import itertools\n",
    "\n",
    "combos = [i for i in itertools.product(set(df['RACE']), ['MALE', 'FEMALE'])]\n",
    "combos"
   ]
  },
  {
   "cell_type": "code",
   "execution_count": 91,
   "metadata": {},
   "outputs": [
    {
     "name": "stdout",
     "output_type": "stream",
     "text": [
      "The median 95% Confidence Interval for Black MALE is [ 38620.  82001.]\n",
      "The median 95% Confidence Interval for Black FEMALE is [ 32000.  60576.]\n",
      "The median 95% Confidence Interval for White MALE is [ 60014.  75010.]\n",
      "The median 95% Confidence Interval for White FEMALE is [ 27500.  35422.]\n",
      "The median 95% Confidence Interval for NA MALE is [  30000.  101700.]\n",
      "The median 95% Confidence Interval for NA FEMALE is [ 30000.  50577.]\n",
      "The median 95% Confidence Interval for Indigenous MALE is [ 14000.  43682.]\n",
      "The median 95% Confidence Interval for Indigenous FEMALE is [ 15000.  35000.]\n",
      "The median 95% Confidence Interval for Other MALE is [ 80000.  92000.]\n",
      "The median 95% Confidence Interval for Other FEMALE is [ 48000.  63610.]\n"
     ]
    },
    {
     "data": {
      "text/plain": [
       "<matplotlib.text.Text at 0x7f989fbd6f98>"
      ]
     },
     "execution_count": 91,
     "metadata": {},
     "output_type": "execute_result"
    },
    {
     "data": {
      "image/png": "[encoded data removed]",
      "text/plain": [
       "<matplotlib.figure.Figure at 0x7f989f8345f8>"
      ]
     },
     "metadata": {},
     "output_type": "display_data"
    }
   ],
   "source": [
    "for i, c in enumerate(combos):\n",
    "    subset = df[df['RACE'] == c[0]]\n",
    "    subset = Table.from_df(subset[subset['SEX'] == c[1]])\n",
    "    medians= bootstrap_median(subset, \"INCTOT\", 1000)\n",
    "    left = percentile(2.5, medians)\n",
    "    right = percentile(97.5, medians)\n",
    "    CI = make_array(left, right)\n",
    "    print(\"The median 95% Confidence Interval for \" + c[0] + ' ' + c[1] + \" is\", CI)\n",
    "    plt.plot(CI, make_array(i, i), lw=10, label=c[0] + ' ' + c[1])\n",
    "plt.legend(bbox_to_anchor=(1.01, 1), loc='upper left', ncol=1)\n",
    "plt.title('Bootstrap Median Income Confidence Intervals')"
   ]
  },
  {
   "cell_type": "markdown",
   "metadata": {},
   "source": [
    "#### Task: Discuss this plot with the people around you and write a response below."
   ]
  },
  {
   "cell_type": "raw",
   "metadata": {},
   "source": []
  },
  {
   "cell_type": "markdown",
   "metadata": {
    "collapsed": true
   },
   "source": [
    "---\n",
    "\n",
    "## 5. Compared to entire Bay Area census sample\n",
    "\n",
    "So how does our tech-biased subset compare to the entire census subset of the Bay Area? First we'll do some quick processing to get out non-responses and relabel the Bay Area subset: "
   ]
  },
  {
   "cell_type": "code",
   "execution_count": 92,
   "metadata": {},
   "outputs": [
    {
     "data": {
      "text/html": [
       "<div>\n",
       "<table border=\"1\" class=\"dataframe\">\n",
       "  <thead>\n",
       "    <tr style=\"text-align: right;\">\n",
       "      <th></th>\n",
       "      <th>YEAR</th>\n",
       "      <th>SERIAL</th>\n",
       "      <th>HWTSUPP</th>\n",
       "      <th>CPSID</th>\n",
       "      <th>ASECFLAG</th>\n",
       "      <th>HFLAG</th>\n",
       "      <th>METAREA</th>\n",
       "      <th>MONTH</th>\n",
       "      <th>PERNUM</th>\n",
       "      <th>CPSIDP</th>\n",
       "      <th>WTSUPP</th>\n",
       "      <th>SEX</th>\n",
       "      <th>RACE</th>\n",
       "      <th>OCC2010</th>\n",
       "      <th>INCTOT</th>\n",
       "    </tr>\n",
       "  </thead>\n",
       "  <tbody>\n",
       "    <tr>\n",
       "      <th>0</th>\n",
       "      <td>2013</td>\n",
       "      <td>92957</td>\n",
       "      <td>2862.21</td>\n",
       "      <td>2.011120e+13</td>\n",
       "      <td>1</td>\n",
       "      <td>NaN</td>\n",
       "      <td>7365</td>\n",
       "      <td>3</td>\n",
       "      <td>1</td>\n",
       "      <td>2.011120e+13</td>\n",
       "      <td>2862.21</td>\n",
       "      <td>MALE</td>\n",
       "      <td>White</td>\n",
       "      <td>9620</td>\n",
       "      <td>25000</td>\n",
       "    </tr>\n",
       "    <tr>\n",
       "      <th>1</th>\n",
       "      <td>2013</td>\n",
       "      <td>92957</td>\n",
       "      <td>2862.21</td>\n",
       "      <td>2.011120e+13</td>\n",
       "      <td>1</td>\n",
       "      <td>NaN</td>\n",
       "      <td>7365</td>\n",
       "      <td>3</td>\n",
       "      <td>2</td>\n",
       "      <td>2.011120e+13</td>\n",
       "      <td>4541.27</td>\n",
       "      <td>MALE</td>\n",
       "      <td>White</td>\n",
       "      <td>6260</td>\n",
       "      <td>12011</td>\n",
       "    </tr>\n",
       "    <tr>\n",
       "      <th>2</th>\n",
       "      <td>2013</td>\n",
       "      <td>92957</td>\n",
       "      <td>2862.21</td>\n",
       "      <td>2.011120e+13</td>\n",
       "      <td>1</td>\n",
       "      <td>NaN</td>\n",
       "      <td>7365</td>\n",
       "      <td>3</td>\n",
       "      <td>3</td>\n",
       "      <td>2.011120e+13</td>\n",
       "      <td>4513.16</td>\n",
       "      <td>MALE</td>\n",
       "      <td>White</td>\n",
       "      <td>6420</td>\n",
       "      <td>25000</td>\n",
       "    </tr>\n",
       "    <tr>\n",
       "      <th>3</th>\n",
       "      <td>2013</td>\n",
       "      <td>92957</td>\n",
       "      <td>2862.21</td>\n",
       "      <td>2.011120e+13</td>\n",
       "      <td>1</td>\n",
       "      <td>NaN</td>\n",
       "      <td>7365</td>\n",
       "      <td>3</td>\n",
       "      <td>4</td>\n",
       "      <td>2.011120e+13</td>\n",
       "      <td>4513.16</td>\n",
       "      <td>MALE</td>\n",
       "      <td>White</td>\n",
       "      <td>9130</td>\n",
       "      <td>10000</td>\n",
       "    </tr>\n",
       "    <tr>\n",
       "      <th>4</th>\n",
       "      <td>2013</td>\n",
       "      <td>92959</td>\n",
       "      <td>2385.98</td>\n",
       "      <td>2.012120e+13</td>\n",
       "      <td>1</td>\n",
       "      <td>NaN</td>\n",
       "      <td>7365</td>\n",
       "      <td>3</td>\n",
       "      <td>1</td>\n",
       "      <td>2.012120e+13</td>\n",
       "      <td>2385.98</td>\n",
       "      <td>FEMALE</td>\n",
       "      <td>Other</td>\n",
       "      <td>3530</td>\n",
       "      <td>53515</td>\n",
       "    </tr>\n",
       "    <tr>\n",
       "      <th>5</th>\n",
       "      <td>2013</td>\n",
       "      <td>92959</td>\n",
       "      <td>2385.98</td>\n",
       "      <td>2.012120e+13</td>\n",
       "      <td>1</td>\n",
       "      <td>NaN</td>\n",
       "      <td>7365</td>\n",
       "      <td>3</td>\n",
       "      <td>2</td>\n",
       "      <td>2.012120e+13</td>\n",
       "      <td>2385.98</td>\n",
       "      <td>MALE</td>\n",
       "      <td>Other</td>\n",
       "      <td>3110</td>\n",
       "      <td>71000</td>\n",
       "    </tr>\n",
       "    <tr>\n",
       "      <th>7</th>\n",
       "      <td>2013</td>\n",
       "      <td>92963</td>\n",
       "      <td>3137.80</td>\n",
       "      <td>2.011120e+13</td>\n",
       "      <td>1</td>\n",
       "      <td>NaN</td>\n",
       "      <td>7365</td>\n",
       "      <td>3</td>\n",
       "      <td>1</td>\n",
       "      <td>2.011120e+13</td>\n",
       "      <td>3137.80</td>\n",
       "      <td>FEMALE</td>\n",
       "      <td>White</td>\n",
       "      <td>430</td>\n",
       "      <td>77800</td>\n",
       "    </tr>\n",
       "    <tr>\n",
       "      <th>8</th>\n",
       "      <td>2013</td>\n",
       "      <td>92963</td>\n",
       "      <td>3137.80</td>\n",
       "      <td>2.011120e+13</td>\n",
       "      <td>1</td>\n",
       "      <td>NaN</td>\n",
       "      <td>7365</td>\n",
       "      <td>3</td>\n",
       "      <td>2</td>\n",
       "      <td>2.011120e+13</td>\n",
       "      <td>3309.68</td>\n",
       "      <td>MALE</td>\n",
       "      <td>White</td>\n",
       "      <td>4620</td>\n",
       "      <td>23520</td>\n",
       "    </tr>\n",
       "    <tr>\n",
       "      <th>9</th>\n",
       "      <td>2013</td>\n",
       "      <td>92963</td>\n",
       "      <td>3137.80</td>\n",
       "      <td>2.011120e+13</td>\n",
       "      <td>1</td>\n",
       "      <td>NaN</td>\n",
       "      <td>7365</td>\n",
       "      <td>3</td>\n",
       "      <td>3</td>\n",
       "      <td>2.011120e+13</td>\n",
       "      <td>3309.68</td>\n",
       "      <td>MALE</td>\n",
       "      <td>White</td>\n",
       "      <td>4700</td>\n",
       "      <td>14120</td>\n",
       "    </tr>\n",
       "    <tr>\n",
       "      <th>10</th>\n",
       "      <td>2013</td>\n",
       "      <td>92964</td>\n",
       "      <td>2342.21</td>\n",
       "      <td>2.011120e+13</td>\n",
       "      <td>1</td>\n",
       "      <td>NaN</td>\n",
       "      <td>7365</td>\n",
       "      <td>3</td>\n",
       "      <td>1</td>\n",
       "      <td>2.011120e+13</td>\n",
       "      <td>2342.21</td>\n",
       "      <td>FEMALE</td>\n",
       "      <td>NA</td>\n",
       "      <td>5700</td>\n",
       "      <td>49000</td>\n",
       "    </tr>\n",
       "    <tr>\n",
       "      <th>11</th>\n",
       "      <td>2013</td>\n",
       "      <td>92964</td>\n",
       "      <td>2342.21</td>\n",
       "      <td>2.011120e+13</td>\n",
       "      <td>1</td>\n",
       "      <td>NaN</td>\n",
       "      <td>7365</td>\n",
       "      <td>3</td>\n",
       "      <td>2</td>\n",
       "      <td>2.011120e+13</td>\n",
       "      <td>2342.21</td>\n",
       "      <td>MALE</td>\n",
       "      <td>NA</td>\n",
       "      <td>9920</td>\n",
       "      <td>77000</td>\n",
       "    </tr>\n",
       "    <tr>\n",
       "      <th>12</th>\n",
       "      <td>2013</td>\n",
       "      <td>92965</td>\n",
       "      <td>3108.06</td>\n",
       "      <td>2.011120e+13</td>\n",
       "      <td>1</td>\n",
       "      <td>NaN</td>\n",
       "      <td>7365</td>\n",
       "      <td>3</td>\n",
       "      <td>1</td>\n",
       "      <td>2.011120e+13</td>\n",
       "      <td>3108.06</td>\n",
       "      <td>MALE</td>\n",
       "      <td>White</td>\n",
       "      <td>9920</td>\n",
       "      <td>34715</td>\n",
       "    </tr>\n",
       "    <tr>\n",
       "      <th>13</th>\n",
       "      <td>2013</td>\n",
       "      <td>92965</td>\n",
       "      <td>3108.06</td>\n",
       "      <td>2.011120e+13</td>\n",
       "      <td>1</td>\n",
       "      <td>NaN</td>\n",
       "      <td>7365</td>\n",
       "      <td>3</td>\n",
       "      <td>2</td>\n",
       "      <td>2.011120e+13</td>\n",
       "      <td>3188.80</td>\n",
       "      <td>MALE</td>\n",
       "      <td>White</td>\n",
       "      <td>9920</td>\n",
       "      <td>18000</td>\n",
       "    </tr>\n",
       "    <tr>\n",
       "      <th>15</th>\n",
       "      <td>2013</td>\n",
       "      <td>92966</td>\n",
       "      <td>1636.31</td>\n",
       "      <td>2.011120e+13</td>\n",
       "      <td>1</td>\n",
       "      <td>NaN</td>\n",
       "      <td>7365</td>\n",
       "      <td>3</td>\n",
       "      <td>1</td>\n",
       "      <td>2.011120e+13</td>\n",
       "      <td>1636.31</td>\n",
       "      <td>MALE</td>\n",
       "      <td>White</td>\n",
       "      <td>220</td>\n",
       "      <td>74645</td>\n",
       "    </tr>\n",
       "    <tr>\n",
       "      <th>16</th>\n",
       "      <td>2013</td>\n",
       "      <td>92966</td>\n",
       "      <td>1636.31</td>\n",
       "      <td>2.011120e+13</td>\n",
       "      <td>1</td>\n",
       "      <td>NaN</td>\n",
       "      <td>7365</td>\n",
       "      <td>3</td>\n",
       "      <td>2</td>\n",
       "      <td>2.011120e+13</td>\n",
       "      <td>1636.31</td>\n",
       "      <td>FEMALE</td>\n",
       "      <td>White</td>\n",
       "      <td>9920</td>\n",
       "      <td>12000</td>\n",
       "    </tr>\n",
       "    <tr>\n",
       "      <th>17</th>\n",
       "      <td>2013</td>\n",
       "      <td>92966</td>\n",
       "      <td>1636.31</td>\n",
       "      <td>2.011120e+13</td>\n",
       "      <td>1</td>\n",
       "      <td>NaN</td>\n",
       "      <td>7365</td>\n",
       "      <td>3</td>\n",
       "      <td>3</td>\n",
       "      <td>2.011120e+13</td>\n",
       "      <td>1589.28</td>\n",
       "      <td>FEMALE</td>\n",
       "      <td>White</td>\n",
       "      <td>4110</td>\n",
       "      <td>6240</td>\n",
       "    </tr>\n",
       "    <tr>\n",
       "      <th>23</th>\n",
       "      <td>2013</td>\n",
       "      <td>92967</td>\n",
       "      <td>3141.20</td>\n",
       "      <td>2.011120e+13</td>\n",
       "      <td>1</td>\n",
       "      <td>NaN</td>\n",
       "      <td>7365</td>\n",
       "      <td>3</td>\n",
       "      <td>1</td>\n",
       "      <td>2.011120e+13</td>\n",
       "      <td>3141.20</td>\n",
       "      <td>FEMALE</td>\n",
       "      <td>White</td>\n",
       "      <td>5110</td>\n",
       "      <td>26593</td>\n",
       "    </tr>\n",
       "    <tr>\n",
       "      <th>24</th>\n",
       "      <td>2013</td>\n",
       "      <td>92967</td>\n",
       "      <td>3141.20</td>\n",
       "      <td>2.011120e+13</td>\n",
       "      <td>1</td>\n",
       "      <td>NaN</td>\n",
       "      <td>7365</td>\n",
       "      <td>3</td>\n",
       "      <td>2</td>\n",
       "      <td>2.011120e+13</td>\n",
       "      <td>3141.20</td>\n",
       "      <td>MALE</td>\n",
       "      <td>White</td>\n",
       "      <td>9920</td>\n",
       "      <td>36388</td>\n",
       "    </tr>\n",
       "    <tr>\n",
       "      <th>26</th>\n",
       "      <td>2013</td>\n",
       "      <td>92968</td>\n",
       "      <td>3075.86</td>\n",
       "      <td>2.011120e+13</td>\n",
       "      <td>1</td>\n",
       "      <td>NaN</td>\n",
       "      <td>7365</td>\n",
       "      <td>3</td>\n",
       "      <td>1</td>\n",
       "      <td>2.011120e+13</td>\n",
       "      <td>3075.86</td>\n",
       "      <td>FEMALE</td>\n",
       "      <td>White</td>\n",
       "      <td>9920</td>\n",
       "      <td>63828</td>\n",
       "    </tr>\n",
       "    <tr>\n",
       "      <th>27</th>\n",
       "      <td>2013</td>\n",
       "      <td>92968</td>\n",
       "      <td>3075.86</td>\n",
       "      <td>2.011120e+13</td>\n",
       "      <td>1</td>\n",
       "      <td>NaN</td>\n",
       "      <td>7365</td>\n",
       "      <td>3</td>\n",
       "      <td>2</td>\n",
       "      <td>2.011120e+13</td>\n",
       "      <td>3075.86</td>\n",
       "      <td>MALE</td>\n",
       "      <td>White</td>\n",
       "      <td>9920</td>\n",
       "      <td>3028</td>\n",
       "    </tr>\n",
       "    <tr>\n",
       "      <th>28</th>\n",
       "      <td>2013</td>\n",
       "      <td>92969</td>\n",
       "      <td>3068.09</td>\n",
       "      <td>2.011120e+13</td>\n",
       "      <td>1</td>\n",
       "      <td>NaN</td>\n",
       "      <td>7365</td>\n",
       "      <td>3</td>\n",
       "      <td>1</td>\n",
       "      <td>2.011120e+13</td>\n",
       "      <td>3068.09</td>\n",
       "      <td>MALE</td>\n",
       "      <td>White</td>\n",
       "      <td>1410</td>\n",
       "      <td>115421</td>\n",
       "    </tr>\n",
       "    <tr>\n",
       "      <th>29</th>\n",
       "      <td>2013</td>\n",
       "      <td>92969</td>\n",
       "      <td>3068.09</td>\n",
       "      <td>2.011120e+13</td>\n",
       "      <td>1</td>\n",
       "      <td>NaN</td>\n",
       "      <td>7365</td>\n",
       "      <td>3</td>\n",
       "      <td>2</td>\n",
       "      <td>2.011120e+13</td>\n",
       "      <td>3068.09</td>\n",
       "      <td>FEMALE</td>\n",
       "      <td>White</td>\n",
       "      <td>2330</td>\n",
       "      <td>22921</td>\n",
       "    </tr>\n",
       "    <tr>\n",
       "      <th>30</th>\n",
       "      <td>2013</td>\n",
       "      <td>92970</td>\n",
       "      <td>2892.39</td>\n",
       "      <td>2.011120e+13</td>\n",
       "      <td>1</td>\n",
       "      <td>NaN</td>\n",
       "      <td>7365</td>\n",
       "      <td>3</td>\n",
       "      <td>1</td>\n",
       "      <td>2.011120e+13</td>\n",
       "      <td>2892.39</td>\n",
       "      <td>MALE</td>\n",
       "      <td>White</td>\n",
       "      <td>1020</td>\n",
       "      <td>117865</td>\n",
       "    </tr>\n",
       "    <tr>\n",
       "      <th>31</th>\n",
       "      <td>2013</td>\n",
       "      <td>92970</td>\n",
       "      <td>2892.39</td>\n",
       "      <td>2.011120e+13</td>\n",
       "      <td>1</td>\n",
       "      <td>NaN</td>\n",
       "      <td>7365</td>\n",
       "      <td>3</td>\n",
       "      <td>2</td>\n",
       "      <td>2.011120e+13</td>\n",
       "      <td>3447.39</td>\n",
       "      <td>FEMALE</td>\n",
       "      <td>White</td>\n",
       "      <td>5400</td>\n",
       "      <td>23840</td>\n",
       "    </tr>\n",
       "    <tr>\n",
       "      <th>32</th>\n",
       "      <td>2013</td>\n",
       "      <td>92971</td>\n",
       "      <td>3279.06</td>\n",
       "      <td>2.011120e+13</td>\n",
       "      <td>1</td>\n",
       "      <td>NaN</td>\n",
       "      <td>7365</td>\n",
       "      <td>3</td>\n",
       "      <td>1</td>\n",
       "      <td>2.011120e+13</td>\n",
       "      <td>3279.06</td>\n",
       "      <td>FEMALE</td>\n",
       "      <td>White</td>\n",
       "      <td>4600</td>\n",
       "      <td>64083</td>\n",
       "    </tr>\n",
       "    <tr>\n",
       "      <th>33</th>\n",
       "      <td>2013</td>\n",
       "      <td>92972</td>\n",
       "      <td>1803.52</td>\n",
       "      <td>2.011120e+13</td>\n",
       "      <td>1</td>\n",
       "      <td>NaN</td>\n",
       "      <td>7365</td>\n",
       "      <td>3</td>\n",
       "      <td>1</td>\n",
       "      <td>2.011120e+13</td>\n",
       "      <td>1803.52</td>\n",
       "      <td>MALE</td>\n",
       "      <td>Black</td>\n",
       "      <td>9920</td>\n",
       "      <td>15599</td>\n",
       "    </tr>\n",
       "    <tr>\n",
       "      <th>34</th>\n",
       "      <td>2013</td>\n",
       "      <td>92973</td>\n",
       "      <td>1562.79</td>\n",
       "      <td>2.011120e+13</td>\n",
       "      <td>1</td>\n",
       "      <td>NaN</td>\n",
       "      <td>7365</td>\n",
       "      <td>3</td>\n",
       "      <td>1</td>\n",
       "      <td>2.011120e+13</td>\n",
       "      <td>1562.79</td>\n",
       "      <td>MALE</td>\n",
       "      <td>White</td>\n",
       "      <td>4220</td>\n",
       "      <td>29017</td>\n",
       "    </tr>\n",
       "    <tr>\n",
       "      <th>35</th>\n",
       "      <td>2013</td>\n",
       "      <td>92973</td>\n",
       "      <td>1562.79</td>\n",
       "      <td>2.011120e+13</td>\n",
       "      <td>1</td>\n",
       "      <td>NaN</td>\n",
       "      <td>7365</td>\n",
       "      <td>3</td>\n",
       "      <td>2</td>\n",
       "      <td>2.011120e+13</td>\n",
       "      <td>1562.79</td>\n",
       "      <td>FEMALE</td>\n",
       "      <td>White</td>\n",
       "      <td>2600</td>\n",
       "      <td>45000</td>\n",
       "    </tr>\n",
       "    <tr>\n",
       "      <th>38</th>\n",
       "      <td>2013</td>\n",
       "      <td>92973</td>\n",
       "      <td>1562.79</td>\n",
       "      <td>2.011120e+13</td>\n",
       "      <td>1</td>\n",
       "      <td>NaN</td>\n",
       "      <td>7365</td>\n",
       "      <td>3</td>\n",
       "      <td>5</td>\n",
       "      <td>2.011120e+13</td>\n",
       "      <td>1844.14</td>\n",
       "      <td>MALE</td>\n",
       "      <td>White</td>\n",
       "      <td>7840</td>\n",
       "      <td>75766</td>\n",
       "    </tr>\n",
       "    <tr>\n",
       "      <th>39</th>\n",
       "      <td>2013</td>\n",
       "      <td>92974</td>\n",
       "      <td>1863.82</td>\n",
       "      <td>2.011120e+13</td>\n",
       "      <td>1</td>\n",
       "      <td>NaN</td>\n",
       "      <td>7365</td>\n",
       "      <td>3</td>\n",
       "      <td>1</td>\n",
       "      <td>2.011120e+13</td>\n",
       "      <td>1863.82</td>\n",
       "      <td>FEMALE</td>\n",
       "      <td>Black</td>\n",
       "      <td>9920</td>\n",
       "      <td>38400</td>\n",
       "    </tr>\n",
       "    <tr>\n",
       "      <th>...</th>\n",
       "      <td>...</td>\n",
       "      <td>...</td>\n",
       "      <td>...</td>\n",
       "      <td>...</td>\n",
       "      <td>...</td>\n",
       "      <td>...</td>\n",
       "      <td>...</td>\n",
       "      <td>...</td>\n",
       "      <td>...</td>\n",
       "      <td>...</td>\n",
       "      <td>...</td>\n",
       "      <td>...</td>\n",
       "      <td>...</td>\n",
       "      <td>...</td>\n",
       "      <td>...</td>\n",
       "    </tr>\n",
       "    <tr>\n",
       "      <th>13065</th>\n",
       "      <td>2016</td>\n",
       "      <td>90985</td>\n",
       "      <td>1806.95</td>\n",
       "      <td>NaN</td>\n",
       "      <td>1</td>\n",
       "      <td>NaN</td>\n",
       "      <td>7401</td>\n",
       "      <td>3</td>\n",
       "      <td>1</td>\n",
       "      <td>NaN</td>\n",
       "      <td>1806.95</td>\n",
       "      <td>MALE</td>\n",
       "      <td>Other</td>\n",
       "      <td>850</td>\n",
       "      <td>72883</td>\n",
       "    </tr>\n",
       "    <tr>\n",
       "      <th>13066</th>\n",
       "      <td>2016</td>\n",
       "      <td>90985</td>\n",
       "      <td>1806.95</td>\n",
       "      <td>NaN</td>\n",
       "      <td>1</td>\n",
       "      <td>NaN</td>\n",
       "      <td>7401</td>\n",
       "      <td>3</td>\n",
       "      <td>2</td>\n",
       "      <td>NaN</td>\n",
       "      <td>1806.95</td>\n",
       "      <td>FEMALE</td>\n",
       "      <td>Other</td>\n",
       "      <td>840</td>\n",
       "      <td>34078</td>\n",
       "    </tr>\n",
       "    <tr>\n",
       "      <th>13069</th>\n",
       "      <td>2016</td>\n",
       "      <td>90986</td>\n",
       "      <td>1812.02</td>\n",
       "      <td>NaN</td>\n",
       "      <td>1</td>\n",
       "      <td>NaN</td>\n",
       "      <td>7401</td>\n",
       "      <td>3</td>\n",
       "      <td>1</td>\n",
       "      <td>NaN</td>\n",
       "      <td>1812.02</td>\n",
       "      <td>FEMALE</td>\n",
       "      <td>Other</td>\n",
       "      <td>9920</td>\n",
       "      <td>74929</td>\n",
       "    </tr>\n",
       "    <tr>\n",
       "      <th>13070</th>\n",
       "      <td>2016</td>\n",
       "      <td>90987</td>\n",
       "      <td>1680.48</td>\n",
       "      <td>NaN</td>\n",
       "      <td>1</td>\n",
       "      <td>NaN</td>\n",
       "      <td>7401</td>\n",
       "      <td>3</td>\n",
       "      <td>1</td>\n",
       "      <td>NaN</td>\n",
       "      <td>1680.48</td>\n",
       "      <td>FEMALE</td>\n",
       "      <td>White</td>\n",
       "      <td>9920</td>\n",
       "      <td>45255</td>\n",
       "    </tr>\n",
       "    <tr>\n",
       "      <th>13071</th>\n",
       "      <td>2016</td>\n",
       "      <td>90987</td>\n",
       "      <td>1680.48</td>\n",
       "      <td>NaN</td>\n",
       "      <td>1</td>\n",
       "      <td>NaN</td>\n",
       "      <td>7401</td>\n",
       "      <td>3</td>\n",
       "      <td>2</td>\n",
       "      <td>NaN</td>\n",
       "      <td>1680.48</td>\n",
       "      <td>MALE</td>\n",
       "      <td>White</td>\n",
       "      <td>430</td>\n",
       "      <td>146280</td>\n",
       "    </tr>\n",
       "    <tr>\n",
       "      <th>13074</th>\n",
       "      <td>2016</td>\n",
       "      <td>90988</td>\n",
       "      <td>1928.31</td>\n",
       "      <td>NaN</td>\n",
       "      <td>1</td>\n",
       "      <td>NaN</td>\n",
       "      <td>7401</td>\n",
       "      <td>3</td>\n",
       "      <td>1</td>\n",
       "      <td>NaN</td>\n",
       "      <td>1928.31</td>\n",
       "      <td>MALE</td>\n",
       "      <td>Other</td>\n",
       "      <td>1020</td>\n",
       "      <td>254000</td>\n",
       "    </tr>\n",
       "    <tr>\n",
       "      <th>13075</th>\n",
       "      <td>2016</td>\n",
       "      <td>90988</td>\n",
       "      <td>1928.31</td>\n",
       "      <td>NaN</td>\n",
       "      <td>1</td>\n",
       "      <td>NaN</td>\n",
       "      <td>7401</td>\n",
       "      <td>3</td>\n",
       "      <td>2</td>\n",
       "      <td>NaN</td>\n",
       "      <td>1928.31</td>\n",
       "      <td>FEMALE</td>\n",
       "      <td>Other</td>\n",
       "      <td>9920</td>\n",
       "      <td>57000</td>\n",
       "    </tr>\n",
       "    <tr>\n",
       "      <th>13076</th>\n",
       "      <td>2016</td>\n",
       "      <td>90989</td>\n",
       "      <td>1547.40</td>\n",
       "      <td>NaN</td>\n",
       "      <td>1</td>\n",
       "      <td>NaN</td>\n",
       "      <td>7401</td>\n",
       "      <td>3</td>\n",
       "      <td>1</td>\n",
       "      <td>NaN</td>\n",
       "      <td>1547.40</td>\n",
       "      <td>FEMALE</td>\n",
       "      <td>Other</td>\n",
       "      <td>430</td>\n",
       "      <td>43008</td>\n",
       "    </tr>\n",
       "    <tr>\n",
       "      <th>13077</th>\n",
       "      <td>2016</td>\n",
       "      <td>90989</td>\n",
       "      <td>1547.40</td>\n",
       "      <td>NaN</td>\n",
       "      <td>1</td>\n",
       "      <td>NaN</td>\n",
       "      <td>7401</td>\n",
       "      <td>3</td>\n",
       "      <td>2</td>\n",
       "      <td>NaN</td>\n",
       "      <td>1547.40</td>\n",
       "      <td>MALE</td>\n",
       "      <td>Other</td>\n",
       "      <td>7200</td>\n",
       "      <td>68244</td>\n",
       "    </tr>\n",
       "    <tr>\n",
       "      <th>13080</th>\n",
       "      <td>2016</td>\n",
       "      <td>90989</td>\n",
       "      <td>1547.40</td>\n",
       "      <td>NaN</td>\n",
       "      <td>1</td>\n",
       "      <td>NaN</td>\n",
       "      <td>7401</td>\n",
       "      <td>3</td>\n",
       "      <td>5</td>\n",
       "      <td>NaN</td>\n",
       "      <td>2423.14</td>\n",
       "      <td>FEMALE</td>\n",
       "      <td>Other</td>\n",
       "      <td>9920</td>\n",
       "      <td>22139</td>\n",
       "    </tr>\n",
       "    <tr>\n",
       "      <th>13081</th>\n",
       "      <td>2016</td>\n",
       "      <td>90989</td>\n",
       "      <td>1547.40</td>\n",
       "      <td>NaN</td>\n",
       "      <td>1</td>\n",
       "      <td>NaN</td>\n",
       "      <td>7401</td>\n",
       "      <td>3</td>\n",
       "      <td>6</td>\n",
       "      <td>NaN</td>\n",
       "      <td>2423.14</td>\n",
       "      <td>MALE</td>\n",
       "      <td>Other</td>\n",
       "      <td>4920</td>\n",
       "      <td>111158</td>\n",
       "    </tr>\n",
       "    <tr>\n",
       "      <th>13083</th>\n",
       "      <td>2016</td>\n",
       "      <td>90990</td>\n",
       "      <td>1906.13</td>\n",
       "      <td>NaN</td>\n",
       "      <td>1</td>\n",
       "      <td>NaN</td>\n",
       "      <td>7401</td>\n",
       "      <td>3</td>\n",
       "      <td>2</td>\n",
       "      <td>NaN</td>\n",
       "      <td>1906.13</td>\n",
       "      <td>MALE</td>\n",
       "      <td>Other</td>\n",
       "      <td>1000</td>\n",
       "      <td>155702</td>\n",
       "    </tr>\n",
       "    <tr>\n",
       "      <th>13087</th>\n",
       "      <td>2016</td>\n",
       "      <td>90991</td>\n",
       "      <td>1697.40</td>\n",
       "      <td>NaN</td>\n",
       "      <td>1</td>\n",
       "      <td>NaN</td>\n",
       "      <td>7401</td>\n",
       "      <td>3</td>\n",
       "      <td>1</td>\n",
       "      <td>NaN</td>\n",
       "      <td>1697.40</td>\n",
       "      <td>FEMALE</td>\n",
       "      <td>Other</td>\n",
       "      <td>620</td>\n",
       "      <td>44000</td>\n",
       "    </tr>\n",
       "    <tr>\n",
       "      <th>13088</th>\n",
       "      <td>2016</td>\n",
       "      <td>90991</td>\n",
       "      <td>1697.40</td>\n",
       "      <td>NaN</td>\n",
       "      <td>1</td>\n",
       "      <td>NaN</td>\n",
       "      <td>7401</td>\n",
       "      <td>3</td>\n",
       "      <td>2</td>\n",
       "      <td>NaN</td>\n",
       "      <td>2023.64</td>\n",
       "      <td>MALE</td>\n",
       "      <td>Other</td>\n",
       "      <td>5510</td>\n",
       "      <td>20001</td>\n",
       "    </tr>\n",
       "    <tr>\n",
       "      <th>13089</th>\n",
       "      <td>2016</td>\n",
       "      <td>90991</td>\n",
       "      <td>1697.40</td>\n",
       "      <td>NaN</td>\n",
       "      <td>1</td>\n",
       "      <td>NaN</td>\n",
       "      <td>7401</td>\n",
       "      <td>3</td>\n",
       "      <td>3</td>\n",
       "      <td>NaN</td>\n",
       "      <td>2569.13</td>\n",
       "      <td>MALE</td>\n",
       "      <td>Other</td>\n",
       "      <td>5240</td>\n",
       "      <td>23005</td>\n",
       "    </tr>\n",
       "    <tr>\n",
       "      <th>13090</th>\n",
       "      <td>2016</td>\n",
       "      <td>90992</td>\n",
       "      <td>1797.02</td>\n",
       "      <td>NaN</td>\n",
       "      <td>1</td>\n",
       "      <td>NaN</td>\n",
       "      <td>7401</td>\n",
       "      <td>3</td>\n",
       "      <td>1</td>\n",
       "      <td>NaN</td>\n",
       "      <td>1797.02</td>\n",
       "      <td>FEMALE</td>\n",
       "      <td>Other</td>\n",
       "      <td>4610</td>\n",
       "      <td>1000</td>\n",
       "    </tr>\n",
       "    <tr>\n",
       "      <th>13091</th>\n",
       "      <td>2016</td>\n",
       "      <td>90992</td>\n",
       "      <td>1797.02</td>\n",
       "      <td>NaN</td>\n",
       "      <td>1</td>\n",
       "      <td>NaN</td>\n",
       "      <td>7401</td>\n",
       "      <td>3</td>\n",
       "      <td>2</td>\n",
       "      <td>NaN</td>\n",
       "      <td>1797.02</td>\n",
       "      <td>MALE</td>\n",
       "      <td>Other</td>\n",
       "      <td>5550</td>\n",
       "      <td>60219</td>\n",
       "    </tr>\n",
       "    <tr>\n",
       "      <th>13092</th>\n",
       "      <td>2016</td>\n",
       "      <td>90992</td>\n",
       "      <td>1797.02</td>\n",
       "      <td>NaN</td>\n",
       "      <td>1</td>\n",
       "      <td>NaN</td>\n",
       "      <td>7401</td>\n",
       "      <td>3</td>\n",
       "      <td>3</td>\n",
       "      <td>NaN</td>\n",
       "      <td>1900.56</td>\n",
       "      <td>FEMALE</td>\n",
       "      <td>Other</td>\n",
       "      <td>1530</td>\n",
       "      <td>60932</td>\n",
       "    </tr>\n",
       "    <tr>\n",
       "      <th>13093</th>\n",
       "      <td>2016</td>\n",
       "      <td>90992</td>\n",
       "      <td>1797.02</td>\n",
       "      <td>NaN</td>\n",
       "      <td>1</td>\n",
       "      <td>NaN</td>\n",
       "      <td>7401</td>\n",
       "      <td>3</td>\n",
       "      <td>4</td>\n",
       "      <td>NaN</td>\n",
       "      <td>2029.92</td>\n",
       "      <td>FEMALE</td>\n",
       "      <td>Other</td>\n",
       "      <td>310</td>\n",
       "      <td>28020</td>\n",
       "    </tr>\n",
       "    <tr>\n",
       "      <th>13094</th>\n",
       "      <td>2016</td>\n",
       "      <td>90992</td>\n",
       "      <td>1797.02</td>\n",
       "      <td>NaN</td>\n",
       "      <td>1</td>\n",
       "      <td>NaN</td>\n",
       "      <td>7401</td>\n",
       "      <td>3</td>\n",
       "      <td>5</td>\n",
       "      <td>NaN</td>\n",
       "      <td>2246.43</td>\n",
       "      <td>MALE</td>\n",
       "      <td>Other</td>\n",
       "      <td>1050</td>\n",
       "      <td>55144</td>\n",
       "    </tr>\n",
       "    <tr>\n",
       "      <th>13095</th>\n",
       "      <td>2016</td>\n",
       "      <td>90992</td>\n",
       "      <td>1797.02</td>\n",
       "      <td>NaN</td>\n",
       "      <td>1</td>\n",
       "      <td>NaN</td>\n",
       "      <td>7401</td>\n",
       "      <td>3</td>\n",
       "      <td>6</td>\n",
       "      <td>NaN</td>\n",
       "      <td>2114.32</td>\n",
       "      <td>FEMALE</td>\n",
       "      <td>Other</td>\n",
       "      <td>2310</td>\n",
       "      <td>45072</td>\n",
       "    </tr>\n",
       "    <tr>\n",
       "      <th>13096</th>\n",
       "      <td>2016</td>\n",
       "      <td>90993</td>\n",
       "      <td>1876.24</td>\n",
       "      <td>NaN</td>\n",
       "      <td>1</td>\n",
       "      <td>NaN</td>\n",
       "      <td>7401</td>\n",
       "      <td>3</td>\n",
       "      <td>1</td>\n",
       "      <td>NaN</td>\n",
       "      <td>1876.24</td>\n",
       "      <td>FEMALE</td>\n",
       "      <td>White</td>\n",
       "      <td>800</td>\n",
       "      <td>72102</td>\n",
       "    </tr>\n",
       "    <tr>\n",
       "      <th>13099</th>\n",
       "      <td>2016</td>\n",
       "      <td>90994</td>\n",
       "      <td>1906.13</td>\n",
       "      <td>NaN</td>\n",
       "      <td>1</td>\n",
       "      <td>NaN</td>\n",
       "      <td>7401</td>\n",
       "      <td>3</td>\n",
       "      <td>1</td>\n",
       "      <td>NaN</td>\n",
       "      <td>1906.13</td>\n",
       "      <td>MALE</td>\n",
       "      <td>Other</td>\n",
       "      <td>1020</td>\n",
       "      <td>205002</td>\n",
       "    </tr>\n",
       "    <tr>\n",
       "      <th>13100</th>\n",
       "      <td>2016</td>\n",
       "      <td>90994</td>\n",
       "      <td>1906.13</td>\n",
       "      <td>NaN</td>\n",
       "      <td>1</td>\n",
       "      <td>NaN</td>\n",
       "      <td>7401</td>\n",
       "      <td>3</td>\n",
       "      <td>2</td>\n",
       "      <td>NaN</td>\n",
       "      <td>1906.13</td>\n",
       "      <td>FEMALE</td>\n",
       "      <td>Other</td>\n",
       "      <td>4830</td>\n",
       "      <td>20002</td>\n",
       "    </tr>\n",
       "    <tr>\n",
       "      <th>13102</th>\n",
       "      <td>2016</td>\n",
       "      <td>90995</td>\n",
       "      <td>1781.49</td>\n",
       "      <td>NaN</td>\n",
       "      <td>1</td>\n",
       "      <td>NaN</td>\n",
       "      <td>7401</td>\n",
       "      <td>3</td>\n",
       "      <td>1</td>\n",
       "      <td>NaN</td>\n",
       "      <td>1781.49</td>\n",
       "      <td>MALE</td>\n",
       "      <td>Other</td>\n",
       "      <td>1020</td>\n",
       "      <td>155034</td>\n",
       "    </tr>\n",
       "    <tr>\n",
       "      <th>13103</th>\n",
       "      <td>2016</td>\n",
       "      <td>90995</td>\n",
       "      <td>1781.49</td>\n",
       "      <td>NaN</td>\n",
       "      <td>1</td>\n",
       "      <td>NaN</td>\n",
       "      <td>7401</td>\n",
       "      <td>3</td>\n",
       "      <td>2</td>\n",
       "      <td>NaN</td>\n",
       "      <td>1781.49</td>\n",
       "      <td>FEMALE</td>\n",
       "      <td>Other</td>\n",
       "      <td>1020</td>\n",
       "      <td>127003</td>\n",
       "    </tr>\n",
       "    <tr>\n",
       "      <th>13106</th>\n",
       "      <td>2016</td>\n",
       "      <td>90996</td>\n",
       "      <td>1947.81</td>\n",
       "      <td>NaN</td>\n",
       "      <td>1</td>\n",
       "      <td>NaN</td>\n",
       "      <td>7401</td>\n",
       "      <td>3</td>\n",
       "      <td>1</td>\n",
       "      <td>NaN</td>\n",
       "      <td>1947.81</td>\n",
       "      <td>MALE</td>\n",
       "      <td>White</td>\n",
       "      <td>140</td>\n",
       "      <td>20703</td>\n",
       "    </tr>\n",
       "    <tr>\n",
       "      <th>13107</th>\n",
       "      <td>2016</td>\n",
       "      <td>90996</td>\n",
       "      <td>1947.81</td>\n",
       "      <td>NaN</td>\n",
       "      <td>1</td>\n",
       "      <td>NaN</td>\n",
       "      <td>7401</td>\n",
       "      <td>3</td>\n",
       "      <td>2</td>\n",
       "      <td>NaN</td>\n",
       "      <td>1947.81</td>\n",
       "      <td>FEMALE</td>\n",
       "      <td>Other</td>\n",
       "      <td>9920</td>\n",
       "      <td>8011</td>\n",
       "    </tr>\n",
       "    <tr>\n",
       "      <th>13108</th>\n",
       "      <td>2016</td>\n",
       "      <td>90997</td>\n",
       "      <td>1563.29</td>\n",
       "      <td>NaN</td>\n",
       "      <td>1</td>\n",
       "      <td>NaN</td>\n",
       "      <td>7401</td>\n",
       "      <td>3</td>\n",
       "      <td>1</td>\n",
       "      <td>NaN</td>\n",
       "      <td>1563.29</td>\n",
       "      <td>FEMALE</td>\n",
       "      <td>White</td>\n",
       "      <td>9920</td>\n",
       "      <td>23007</td>\n",
       "    </tr>\n",
       "    <tr>\n",
       "      <th>13109</th>\n",
       "      <td>2016</td>\n",
       "      <td>90998</td>\n",
       "      <td>1631.54</td>\n",
       "      <td>NaN</td>\n",
       "      <td>1</td>\n",
       "      <td>NaN</td>\n",
       "      <td>7401</td>\n",
       "      <td>3</td>\n",
       "      <td>1</td>\n",
       "      <td>NaN</td>\n",
       "      <td>1631.54</td>\n",
       "      <td>FEMALE</td>\n",
       "      <td>White</td>\n",
       "      <td>230</td>\n",
       "      <td>113208</td>\n",
       "    </tr>\n",
       "  </tbody>\n",
       "</table>\n",
       "<p>9041 rows × 15 columns</p>\n",
       "</div>"
      ],
      "text/plain": [
       "       YEAR  SERIAL  HWTSUPP         CPSID  ASECFLAG  HFLAG  METAREA  MONTH  \\\n",
       "0      2013   92957  2862.21  2.011120e+13         1    NaN     7365      3   \n",
       "1      2013   92957  2862.21  2.011120e+13         1    NaN     7365      3   \n",
       "2      2013   92957  2862.21  2.011120e+13         1    NaN     7365      3   \n",
       "3      2013   92957  2862.21  2.011120e+13         1    NaN     7365      3   \n",
       "4      2013   92959  2385.98  2.012120e+13         1    NaN     7365      3   \n",
       "5      2013   92959  2385.98  2.012120e+13         1    NaN     7365      3   \n",
       "7      2013   92963  3137.80  2.011120e+13         1    NaN     7365      3   \n",
       "8      2013   92963  3137.80  2.011120e+13         1    NaN     7365      3   \n",
       "9      2013   92963  3137.80  2.011120e+13         1    NaN     7365      3   \n",
       "10     2013   92964  2342.21  2.011120e+13         1    NaN     7365      3   \n",
       "11     2013   92964  2342.21  2.011120e+13         1    NaN     7365      3   \n",
       "12     2013   92965  3108.06  2.011120e+13         1    NaN     7365      3   \n",
       "13     2013   92965  3108.06  2.011120e+13         1    NaN     7365      3   \n",
       "15     2013   92966  1636.31  2.011120e+13         1    NaN     7365      3   \n",
       "16     2013   92966  1636.31  2.011120e+13         1    NaN     7365      3   \n",
       "17     2013   92966  1636.31  2.011120e+13         1    NaN     7365      3   \n",
       "23     2013   92967  3141.20  2.011120e+13         1    NaN     7365      3   \n",
       "24     2013   92967  3141.20  2.011120e+13         1    NaN     7365      3   \n",
       "26     2013   92968  3075.86  2.011120e+13         1    NaN     7365      3   \n",
       "27     2013   92968  3075.86  2.011120e+13         1    NaN     7365      3   \n",
       "28     2013   92969  3068.09  2.011120e+13         1    NaN     7365      3   \n",
       "29     2013   92969  3068.09  2.011120e+13         1    NaN     7365      3   \n",
       "30     2013   92970  2892.39  2.011120e+13         1    NaN     7365      3   \n",
       "31     2013   92970  2892.39  2.011120e+13         1    NaN     7365      3   \n",
       "32     2013   92971  3279.06  2.011120e+13         1    NaN     7365      3   \n",
       "33     2013   92972  1803.52  2.011120e+13         1    NaN     7365      3   \n",
       "34     2013   92973  1562.79  2.011120e+13         1    NaN     7365      3   \n",
       "35     2013   92973  1562.79  2.011120e+13         1    NaN     7365      3   \n",
       "38     2013   92973  1562.79  2.011120e+13         1    NaN     7365      3   \n",
       "39     2013   92974  1863.82  2.011120e+13         1    NaN     7365      3   \n",
       "...     ...     ...      ...           ...       ...    ...      ...    ...   \n",
       "13065  2016   90985  1806.95           NaN         1    NaN     7401      3   \n",
       "13066  2016   90985  1806.95           NaN         1    NaN     7401      3   \n",
       "13069  2016   90986  1812.02           NaN         1    NaN     7401      3   \n",
       "13070  2016   90987  1680.48           NaN         1    NaN     7401      3   \n",
       "13071  2016   90987  1680.48           NaN         1    NaN     7401      3   \n",
       "13074  2016   90988  1928.31           NaN         1    NaN     7401      3   \n",
       "13075  2016   90988  1928.31           NaN         1    NaN     7401      3   \n",
       "13076  2016   90989  1547.40           NaN         1    NaN     7401      3   \n",
       "13077  2016   90989  1547.40           NaN         1    NaN     7401      3   \n",
       "13080  2016   90989  1547.40           NaN         1    NaN     7401      3   \n",
       "13081  2016   90989  1547.40           NaN         1    NaN     7401      3   \n",
       "13083  2016   90990  1906.13           NaN         1    NaN     7401      3   \n",
       "13087  2016   90991  1697.40           NaN         1    NaN     7401      3   \n",
       "13088  2016   90991  1697.40           NaN         1    NaN     7401      3   \n",
       "13089  2016   90991  1697.40           NaN         1    NaN     7401      3   \n",
       "13090  2016   90992  1797.02           NaN         1    NaN     7401      3   \n",
       "13091  2016   90992  1797.02           NaN         1    NaN     7401      3   \n",
       "13092  2016   90992  1797.02           NaN         1    NaN     7401      3   \n",
       "13093  2016   90992  1797.02           NaN         1    NaN     7401      3   \n",
       "13094  2016   90992  1797.02           NaN         1    NaN     7401      3   \n",
       "13095  2016   90992  1797.02           NaN         1    NaN     7401      3   \n",
       "13096  2016   90993  1876.24           NaN         1    NaN     7401      3   \n",
       "13099  2016   90994  1906.13           NaN         1    NaN     7401      3   \n",
       "13100  2016   90994  1906.13           NaN         1    NaN     7401      3   \n",
       "13102  2016   90995  1781.49           NaN         1    NaN     7401      3   \n",
       "13103  2016   90995  1781.49           NaN         1    NaN     7401      3   \n",
       "13106  2016   90996  1947.81           NaN         1    NaN     7401      3   \n",
       "13107  2016   90996  1947.81           NaN         1    NaN     7401      3   \n",
       "13108  2016   90997  1563.29           NaN         1    NaN     7401      3   \n",
       "13109  2016   90998  1631.54           NaN         1    NaN     7401      3   \n",
       "\n",
       "       PERNUM        CPSIDP   WTSUPP     SEX   RACE  OCC2010  INCTOT  \n",
       "0           1  2.011120e+13  2862.21    MALE  White     9620   25000  \n",
       "1           2  2.011120e+13  4541.27    MALE  White     6260   12011  \n",
       "2           3  2.011120e+13  4513.16    MALE  White     6420   25000  \n",
       "3           4  2.011120e+13  4513.16    MALE  White     9130   10000  \n",
       "4           1  2.012120e+13  2385.98  FEMALE  Other     3530   53515  \n",
       "5           2  2.012120e+13  2385.98    MALE  Other     3110   71000  \n",
       "7           1  2.011120e+13  3137.80  FEMALE  White      430   77800  \n",
       "8           2  2.011120e+13  3309.68    MALE  White     4620   23520  \n",
       "9           3  2.011120e+13  3309.68    MALE  White     4700   14120  \n",
       "10          1  2.011120e+13  2342.21  FEMALE     NA     5700   49000  \n",
       "11          2  2.011120e+13  2342.21    MALE     NA     9920   77000  \n",
       "12          1  2.011120e+13  3108.06    MALE  White     9920   34715  \n",
       "13          2  2.011120e+13  3188.80    MALE  White     9920   18000  \n",
       "15          1  2.011120e+13  1636.31    MALE  White      220   74645  \n",
       "16          2  2.011120e+13  1636.31  FEMALE  White     9920   12000  \n",
       "17          3  2.011120e+13  1589.28  FEMALE  White     4110    6240  \n",
       "23          1  2.011120e+13  3141.20  FEMALE  White     5110   26593  \n",
       "24          2  2.011120e+13  3141.20    MALE  White     9920   36388  \n",
       "26          1  2.011120e+13  3075.86  FEMALE  White     9920   63828  \n",
       "27          2  2.011120e+13  3075.86    MALE  White     9920    3028  \n",
       "28          1  2.011120e+13  3068.09    MALE  White     1410  115421  \n",
       "29          2  2.011120e+13  3068.09  FEMALE  White     2330   22921  \n",
       "30          1  2.011120e+13  2892.39    MALE  White     1020  117865  \n",
       "31          2  2.011120e+13  3447.39  FEMALE  White     5400   23840  \n",
       "32          1  2.011120e+13  3279.06  FEMALE  White     4600   64083  \n",
       "33          1  2.011120e+13  1803.52    MALE  Black     9920   15599  \n",
       "34          1  2.011120e+13  1562.79    MALE  White     4220   29017  \n",
       "35          2  2.011120e+13  1562.79  FEMALE  White     2600   45000  \n",
       "38          5  2.011120e+13  1844.14    MALE  White     7840   75766  \n",
       "39          1  2.011120e+13  1863.82  FEMALE  Black     9920   38400  \n",
       "...       ...           ...      ...     ...    ...      ...     ...  \n",
       "13065       1           NaN  1806.95    MALE  Other      850   72883  \n",
       "13066       2           NaN  1806.95  FEMALE  Other      840   34078  \n",
       "13069       1           NaN  1812.02  FEMALE  Other     9920   74929  \n",
       "13070       1           NaN  1680.48  FEMALE  White     9920   45255  \n",
       "13071       2           NaN  1680.48    MALE  White      430  146280  \n",
       "13074       1           NaN  1928.31    MALE  Other     1020  254000  \n",
       "13075       2           NaN  1928.31  FEMALE  Other     9920   57000  \n",
       "13076       1           NaN  1547.40  FEMALE  Other      430   43008  \n",
       "13077       2           NaN  1547.40    MALE  Other     7200   68244  \n",
       "13080       5           NaN  2423.14  FEMALE  Other     9920   22139  \n",
       "13081       6           NaN  2423.14    MALE  Other     4920  111158  \n",
       "13083       2           NaN  1906.13    MALE  Other     1000  155702  \n",
       "13087       1           NaN  1697.40  FEMALE  Other      620   44000  \n",
       "13088       2           NaN  2023.64    MALE  Other     5510   20001  \n",
       "13089       3           NaN  2569.13    MALE  Other     5240   23005  \n",
       "13090       1           NaN  1797.02  FEMALE  Other     4610    1000  \n",
       "13091       2           NaN  1797.02    MALE  Other     5550   60219  \n",
       "13092       3           NaN  1900.56  FEMALE  Other     1530   60932  \n",
       "13093       4           NaN  2029.92  FEMALE  Other      310   28020  \n",
       "13094       5           NaN  2246.43    MALE  Other     1050   55144  \n",
       "13095       6           NaN  2114.32  FEMALE  Other     2310   45072  \n",
       "13096       1           NaN  1876.24  FEMALE  White      800   72102  \n",
       "13099       1           NaN  1906.13    MALE  Other     1020  205002  \n",
       "13100       2           NaN  1906.13  FEMALE  Other     4830   20002  \n",
       "13102       1           NaN  1781.49    MALE  Other     1020  155034  \n",
       "13103       2           NaN  1781.49  FEMALE  Other     1020  127003  \n",
       "13106       1           NaN  1947.81    MALE  White      140   20703  \n",
       "13107       2           NaN  1947.81  FEMALE  Other     9920    8011  \n",
       "13108       1           NaN  1563.29  FEMALE  White     9920   23007  \n",
       "13109       1           NaN  1631.54  FEMALE  White      230  113208  \n",
       "\n",
       "[9041 rows x 15 columns]"
      ]
     },
     "execution_count": 92,
     "metadata": {},
     "output_type": "execute_result"
    }
   ],
   "source": [
    "bay_area2 = bay_area.to_df().replace({\"RACE\": race_dict, \"SEX\": {1: \"MALE\", 2: \"FEMALE\"}})\n",
    "bay_area2 = bay_area2[bay_area2[\"INCTOT\"] != 0]\n",
    "bay_area2 = bay_area2[bay_area2[\"INCTOT\"] != 99999999]\n",
    "bay_area2"
   ]
  },
  {
   "cell_type": "markdown",
   "metadata": {},
   "source": [
    "Let's check to see what our sample contains in terms of `SEX` and `RACE`:"
   ]
  },
  {
   "cell_type": "code",
   "execution_count": 93,
   "metadata": {},
   "outputs": [
    {
     "data": {
      "text/plain": [
       "MALE      4575\n",
       "FEMALE    4466\n",
       "Name: SEX, dtype: int64"
      ]
     },
     "execution_count": 93,
     "metadata": {},
     "output_type": "execute_result"
    }
   ],
   "source": [
    "bay_area2['SEX'].value_counts()"
   ]
  },
  {
   "cell_type": "code",
   "execution_count": 94,
   "metadata": {},
   "outputs": [
    {
     "data": {
      "text/plain": [
       "<matplotlib.axes._subplots.AxesSubplot at 0x7f989fb574a8>"
      ]
     },
     "execution_count": 94,
     "metadata": {},
     "output_type": "execute_result"
    },
    {
     "data": {
      "image/png": "[encoded data removed]",
      "text/plain": [
       "<matplotlib.figure.Figure at 0x7f989fad7550>"
      ]
     },
     "metadata": {},
     "output_type": "display_data"
    }
   ],
   "source": [
    "bay_area2['SEX'].value_counts().plot.bar()"
   ]
  },
  {
   "cell_type": "code",
   "execution_count": 95,
   "metadata": {},
   "outputs": [
    {
     "data": {
      "text/plain": [
       "White         5307\n",
       "Other         2832\n",
       "Black          500\n",
       "NA             267\n",
       "Indigenous     135\n",
       "Name: RACE, dtype: int64"
      ]
     },
     "execution_count": 95,
     "metadata": {},
     "output_type": "execute_result"
    }
   ],
   "source": [
    "bay_area2['RACE'].value_counts()"
   ]
  },
  {
   "cell_type": "code",
   "execution_count": 96,
   "metadata": {},
   "outputs": [
    {
     "data": {
      "text/plain": [
       "<matplotlib.axes._subplots.AxesSubplot at 0x7f989fb606a0>"
      ]
     },
     "execution_count": 96,
     "metadata": {},
     "output_type": "execute_result"
    },
    {
     "data": {
      "image/png": "[encoded data removed]",
      "text/plain": [
       "<matplotlib.figure.Figure at 0x7f989f9cb080>"
      ]
     },
     "metadata": {},
     "output_type": "display_data"
    }
   ],
   "source": [
    "bay_area2['RACE'].value_counts().plot.bar()"
   ]
  },
  {
   "cell_type": "markdown",
   "metadata": {},
   "source": [
    "We can then look at income by `SEX` and `RACE`. Let's start with `SEX`.\n",
    "\n",
    "### `SEX`"
   ]
  },
  {
   "cell_type": "code",
   "execution_count": 97,
   "metadata": {},
   "outputs": [
    {
     "data": {
      "text/plain": [
       "SEX\n",
       "FEMALE    45616\n",
       "MALE      78807\n",
       "Name: INCTOT, dtype: int64"
      ]
     },
     "execution_count": 97,
     "metadata": {},
     "output_type": "execute_result"
    },
    {
     "data": {
      "image/png": "[encoded data removed]",
      "text/plain": [
       "<matplotlib.figure.Figure at 0x7f989fa79438>"
      ]
     },
     "metadata": {},
     "output_type": "display_data"
    }
   ],
   "source": [
    "bay_area_mean_sex = bay_area2.groupby(['SEX'])['INCTOT'].mean()\n",
    "bay_area_mean_sex.plot.bar()\n",
    "bay_area_mean_sex"
   ]
  },
  {
   "cell_type": "markdown",
   "metadata": {},
   "source": [
    "We'll recall that our biased subset had much higher means, but similar disparity:"
   ]
  },
  {
   "cell_type": "code",
   "execution_count": 98,
   "metadata": {},
   "outputs": [
    {
     "data": {
      "text/plain": [
       "SEX\n",
       "FEMALE     57354\n",
       "MALE      104469\n",
       "Name: INCTOT, dtype: int64"
      ]
     },
     "execution_count": 98,
     "metadata": {},
     "output_type": "execute_result"
    },
    {
     "data": {
      "image/png": "[encoded data removed]",
      "text/plain": [
       "<matplotlib.figure.Figure at 0x7f989fb3bb00>"
      ]
     },
     "metadata": {},
     "output_type": "display_data"
    }
   ],
   "source": [
    "# this plot is the same as the one in the previous section with job codes - copied here for your reference\n",
    "with_race_mean_sex = with_race.to_df().groupby(['SEX'])['INCTOT'].mean()\n",
    "with_race_mean_sex.plot.bar()\n",
    "with_race_mean_sex"
   ]
  },
  {
   "cell_type": "markdown",
   "metadata": {},
   "source": [
    "UCB is doing much better than both of these subsets:"
   ]
  },
  {
   "cell_type": "code",
   "execution_count": 99,
   "metadata": {},
   "outputs": [
    {
     "data": {
      "text/plain": [
       "Gender\n",
       "FEMALE    158435\n",
       "MALE      185467\n",
       "Name: Gross Pay, dtype: int64"
      ]
     },
     "execution_count": 99,
     "metadata": {},
     "output_type": "execute_result"
    },
    {
     "data": {
      "image/png": "[encoded data removed]",
      "text/plain": [
       "<matplotlib.figure.Figure at 0x7f989fd50ef0>"
      ]
     },
     "metadata": {},
     "output_type": "display_data"
    }
   ],
   "source": [
    "professors_mean_sex = professors.to_df().groupby(['Gender'])['Gross Pay'].mean()\n",
    "professors_mean_sex.plot.bar()\n",
    "professors_mean_sex"
   ]
  },
  {
   "cell_type": "markdown",
   "metadata": {},
   "source": [
    "We can put all of these bar charts together to get a better idea of how the numbers in each of these subsets relate to each other:"
   ]
  },
  {
   "cell_type": "code",
   "execution_count": 100,
   "metadata": {},
   "outputs": [
    {
     "data": {
      "text/plain": [
       "<matplotlib.axes._subplots.AxesSubplot at 0x7f989fc84550>"
      ]
     },
     "execution_count": 100,
     "metadata": {},
     "output_type": "execute_result"
    },
    {
     "data": {
      "image/png": "[encoded data removed]",
      "text/plain": [
       "<matplotlib.figure.Figure at 0x7f989fe0bd68>"
      ]
     },
     "metadata": {},
     "output_type": "display_data"
    }
   ],
   "source": [
    "b = pd.DataFrame([bay_area_mean_sex, with_race_mean_sex, professors_mean_sex], [\"Entire Bay Area\", \"Biased subset\", \"Professors\"])\n",
    "b.plot.bar()"
   ]
  },
  {
   "cell_type": "markdown",
   "metadata": {},
   "source": [
    "Again, combining the charts in a different way to group the numbers for each gender together:"
   ]
  },
  {
   "cell_type": "code",
   "execution_count": 101,
   "metadata": {},
   "outputs": [
    {
     "data": {
      "text/plain": [
       "<matplotlib.legend.Legend at 0x7f989f7ec518>"
      ]
     },
     "execution_count": 101,
     "metadata": {},
     "output_type": "execute_result"
    },
    {
     "data": {
      "image/png": "[encoded data removed]",
      "text/plain": [
       "<matplotlib.figure.Figure at 0x7f989f7ec588>"
      ]
     },
     "metadata": {},
     "output_type": "display_data"
    }
   ],
   "source": [
    "b2 = pd.DataFrame(list(zip(bay_area_mean_sex, with_race_mean_sex, professors_mean_sex)), bay_area_mean_sex.keys())\n",
    "ax = b2.plot.bar()\n",
    "ax.legend([\"Entire Bay Area\", \"Biased subset\", \"Professors\"], loc=4)"
   ]
  },
  {
   "cell_type": "markdown",
   "metadata": {},
   "source": [
    "The table below is the complete table with the wages of each gender for each group that we calculated above, which we used in the charts we just created."
   ]
  },
  {
   "cell_type": "code",
   "execution_count": 102,
   "metadata": {},
   "outputs": [
    {
     "data": {
      "text/html": [
       "<div>\n",
       "<table border=\"1\" class=\"dataframe\">\n",
       "  <thead>\n",
       "    <tr style=\"text-align: right;\">\n",
       "      <th></th>\n",
       "      <th>FEMALE</th>\n",
       "      <th>MALE</th>\n",
       "    </tr>\n",
       "  </thead>\n",
       "  <tbody>\n",
       "    <tr>\n",
       "      <th>Entire Bay Area</th>\n",
       "      <td>45616</td>\n",
       "      <td>78807</td>\n",
       "    </tr>\n",
       "    <tr>\n",
       "      <th>Biased subset</th>\n",
       "      <td>57354</td>\n",
       "      <td>104469</td>\n",
       "    </tr>\n",
       "    <tr>\n",
       "      <th>Professors</th>\n",
       "      <td>158435</td>\n",
       "      <td>185467</td>\n",
       "    </tr>\n",
       "  </tbody>\n",
       "</table>\n",
       "</div>"
      ],
      "text/plain": [
       "                 FEMALE    MALE\n",
       "Entire Bay Area   45616   78807\n",
       "Biased subset     57354  104469\n",
       "Professors       158435  185467"
      ]
     },
     "execution_count": 102,
     "metadata": {},
     "output_type": "execute_result"
    }
   ],
   "source": [
    "b"
   ]
  },
  {
   "cell_type": "markdown",
   "metadata": {},
   "source": [
    "We can also calculate the differences between average wages of males and females in each of our population subsets.\n",
    "\n",
    "To calculate the difference, we subtract the amount of each gender group's wages from each other, and get the numbers below. These numbers represent how much more males earn than females in each group."
   ]
  },
  {
   "cell_type": "code",
   "execution_count": 103,
   "metadata": {},
   "outputs": [
    {
     "data": {
      "text/plain": [
       "Entire Bay Area    33191\n",
       "Biased subset      47115\n",
       "Professors         27032\n",
       "dtype: int64"
      ]
     },
     "execution_count": 103,
     "metadata": {},
     "output_type": "execute_result"
    }
   ],
   "source": [
    "b['MALE'] - b['FEMALE']"
   ]
  },
  {
   "cell_type": "markdown",
   "metadata": {},
   "source": [
    "How about `FEMALE` as a percentage of `MALE`?"
   ]
  },
  {
   "cell_type": "code",
   "execution_count": 104,
   "metadata": {},
   "outputs": [
    {
     "data": {
      "text/plain": [
       "Entire Bay Area    0.578832\n",
       "Biased subset      0.549005\n",
       "Professors         0.854249\n",
       "dtype: float64"
      ]
     },
     "execution_count": 104,
     "metadata": {},
     "output_type": "execute_result"
    }
   ],
   "source": [
    "b['FEMALE'] / b['MALE']"
   ]
  },
  {
   "cell_type": "markdown",
   "metadata": {},
   "source": [
    "### `RACE`\n",
    "We can also look at `RACE` in the larger Bay Area subset:"
   ]
  },
  {
   "cell_type": "code",
   "execution_count": 105,
   "metadata": {},
   "outputs": [
    {
     "data": {
      "text/plain": [
       "RACE\n",
       "Black         46507.620000\n",
       "Indigenous    35791.237037\n",
       "NA            56991.700375\n",
       "Other         58965.673729\n",
       "White         66699.061805\n",
       "Name: INCTOT, dtype: float64"
      ]
     },
     "execution_count": 105,
     "metadata": {},
     "output_type": "execute_result"
    }
   ],
   "source": [
    "bay_area_mean_race = bay_area2.groupby(['RACE'])['INCTOT'].mean()\n",
    "bay_area_mean_race"
   ]
  },
  {
   "cell_type": "code",
   "execution_count": 106,
   "metadata": {},
   "outputs": [
    {
     "data": {
      "text/plain": [
       "<matplotlib.axes._subplots.AxesSubplot at 0x7f989fddcac8>"
      ]
     },
     "execution_count": 106,
     "metadata": {},
     "output_type": "execute_result"
    },
    {
     "data": {
      "image/png": "[encoded data removed]",
      "text/plain": [
       "<matplotlib.figure.Figure at 0x7f989fa81c50>"
      ]
     },
     "metadata": {},
     "output_type": "display_data"
    }
   ],
   "source": [
    "bay_area_mean_race.plot.bar()"
   ]
  },
  {
   "cell_type": "markdown",
   "metadata": {},
   "source": [
    "Our biased subset was also great here:"
   ]
  },
  {
   "cell_type": "code",
   "execution_count": 107,
   "metadata": {},
   "outputs": [
    {
     "data": {
      "text/plain": [
       "RACE\n",
       "Black         68431.408602\n",
       "Indigenous    35181.969697\n",
       "NA            63854.098361\n",
       "Other         85841.176471\n",
       "White         88473.216127\n",
       "Name: INCTOT, dtype: float64"
      ]
     },
     "execution_count": 107,
     "metadata": {},
     "output_type": "execute_result"
    }
   ],
   "source": [
    "with_race_mean_race = with_race.to_df().groupby(['RACE'])['INCTOT'].mean()\n",
    "with_race_mean_race"
   ]
  },
  {
   "cell_type": "code",
   "execution_count": 108,
   "metadata": {},
   "outputs": [
    {
     "data": {
      "text/plain": [
       "<matplotlib.axes._subplots.AxesSubplot at 0x7f989f6689b0>"
      ]
     },
     "execution_count": 108,
     "metadata": {},
     "output_type": "execute_result"
    },
    {
     "data": {
      "image/png": "[encoded data removed]",
      "text/plain": [
       "<matplotlib.figure.Figure at 0x7f989f690518>"
      ]
     },
     "metadata": {},
     "output_type": "display_data"
    }
   ],
   "source": [
    "with_race_mean_race.plot.bar()"
   ]
  },
  {
   "cell_type": "markdown",
   "metadata": {},
   "source": [
    "Again, we'll put these charts together so we can better compare how these different subsets' numbers relate to each other:"
   ]
  },
  {
   "cell_type": "code",
   "execution_count": 109,
   "metadata": {},
   "outputs": [
    {
     "data": {
      "text/plain": [
       "<matplotlib.legend.Legend at 0x7f989fa814a8>"
      ]
     },
     "execution_count": 109,
     "metadata": {},
     "output_type": "execute_result"
    },
    {
     "data": {
      "image/png": "[encoded data removed]",
      "text/plain": [
       "<matplotlib.figure.Figure at 0x7f989fc80828>"
      ]
     },
     "metadata": {},
     "output_type": "display_data"
    }
   ],
   "source": [
    "b = pd.DataFrame(list(zip(bay_area_mean_race, with_race_mean_race)), bay_area_mean_race.keys())\n",
    "ax = b.plot.bar(stacked=False)\n",
    "ax.legend([\"Entire Bay Area\", \"Biased subset\"])"
   ]
  },
  {
   "cell_type": "markdown",
   "metadata": {},
   "source": [
    "As we noted when we were investigating the data from workers in the Tech industry, it is more helpful to consider race and gender together:"
   ]
  },
  {
   "cell_type": "code",
   "execution_count": 110,
   "metadata": {},
   "outputs": [
    {
     "data": {
      "text/plain": [
       "<matplotlib.axes._subplots.AxesSubplot at 0x7f989f696c88>"
      ]
     },
     "execution_count": 110,
     "metadata": {},
     "output_type": "execute_result"
    },
    {
     "data": {
      "image/png": "[encoded data removed]",
      "text/plain": [
       "<matplotlib.figure.Figure at 0x7f989fb8bb38>"
      ]
     },
     "metadata": {},
     "output_type": "display_data"
    }
   ],
   "source": [
    "bay_area2.groupby(['RACE', 'SEX'])['INCTOT'].mean().unstack().plot.bar()"
   ]
  },
  {
   "cell_type": "code",
   "execution_count": 111,
   "metadata": {},
   "outputs": [
    {
     "data": {
      "text/plain": [
       "<matplotlib.axes._subplots.AxesSubplot at 0x7f989f417710>"
      ]
     },
     "execution_count": 111,
     "metadata": {},
     "output_type": "execute_result"
    },
    {
     "data": {
      "image/png": "[encoded data removed]",
      "text/plain": [
       "<matplotlib.figure.Figure at 0x7f989f417f28>"
      ]
     },
     "metadata": {},
     "output_type": "display_data"
    }
   ],
   "source": [
    "with_race.to_df().groupby(['RACE', 'SEX'])['INCTOT'].mean().unstack().plot.bar()"
   ]
  },
  {
   "cell_type": "markdown",
   "metadata": {},
   "source": [
    "#### Question: Where are the disparities the worst?"
   ]
  },
  {
   "cell_type": "raw",
   "metadata": {},
   "source": []
  },
  {
   "cell_type": "markdown",
   "metadata": {},
   "source": [
    "---\n",
    "\n",
    "***Please fill out our [modules feedback survey](https://goo.gl/forms/QCgq3B5uA5npe5ja2)!***"
   ]
  }
 ],
 "metadata": {
  "anaconda-cloud": {},
  "kernelspec": {
   "display_name": "Python 3",
   "language": "python",
   "name": "python3"
  },
  "language_info": {
   "codemirror_mode": {
    "name": "ipython",
    "version": 3
   },
   "file_extension": ".py",
   "mimetype": "text/x-python",
   "name": "python",
   "nbconvert_exporter": "python",
   "pygments_lexer": "ipython3",
   "version": "3.6.1"
  },
  "widgets": {
   "state": {
    "696945be5fcf43ca9858c908cc010ef1": {
     "views": [
      {
       "cell_index": 52
      }
     ]
    }
   },
   "version": "1.2.0"
  }
 },
 "nbformat": 4,
 "nbformat_minor": 2
}
