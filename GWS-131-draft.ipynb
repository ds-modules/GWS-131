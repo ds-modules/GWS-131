{
 "cells": [
  {
   "cell_type": "code",
   "execution_count": 2,
   "metadata": {
    "collapsed": true
   },
   "outputs": [],
   "source": [
    "from datascience import *\n",
    "import numpy as np\n",
    "import math"
   ]
  },
  {
   "cell_type": "markdown",
   "metadata": {},
   "source": [
    "# Welcome to GWS-131's Data Science Module!"
   ]
  },
  {
   "cell_type": "markdown",
   "metadata": {},
   "source": [
    "These data are compiled from EEO-1 reports from Apple, Twitter, Salesforce, Facebook, Microsoft, and Intel. The EEO-1 is a document required by the federal government that provides the raw numbers of employees in each of the categories below. We summed the most recent data (all from 2014-16) for these companies to get the table below."
   ]
  },
  {
   "cell_type": "code",
   "execution_count": 5,
   "metadata": {},
   "outputs": [
    {
     "data": {
      "text/html": [
       "<table border=\"1\" class=\"dataframe\">\n",
       "    <thead>\n",
       "        <tr>\n",
       "            <th>Job Categories</th> <th>Hispanic or Latino Male</th> <th>Hispanic or Latino Female</th> <th>White Male</th> <th>Black or African American Male</th> <th>Native Hawaiian or Pacific Islander Male</th> <th>Asian Male</th> <th>American Indian or Alaska Native Male</th> <th>Two or More Races Male</th> <th>White Female</th> <th>Black or African American Female</th> <th>Native Hawaiian or Pacific Islander Female</th> <th>Asian Female</th> <th>American Indian or Alaska Native Feale</th> <th>Two or More Races Female</th>\n",
       "        </tr>\n",
       "    </thead>\n",
       "    <tbody>\n",
       "        <tr>\n",
       "            <td>Executive/Senior Officials and Managers</td> <td>21                     </td> <td>6                        </td> <td>554       </td> <td>10                            </td> <td>1                                       </td> <td>117       </td> <td>2                                    </td> <td>6                     </td> <td>140         </td> <td>4                               </td> <td>0                                         </td> <td>34          </td> <td>0                                     </td> <td>2                       </td>\n",
       "        </tr>\n",
       "    </tbody>\n",
       "        <tr>\n",
       "            <td>First/mid Officials and Managers       </td> <td>1160                   </td> <td>401                      </td> <td>14628     </td> <td>494                           </td> <td>31                                      </td> <td>5320      </td> <td>71                                   </td> <td>197                   </td> <td>4807        </td> <td>245                             </td> <td>21                                        </td> <td>1640        </td> <td>13                                    </td> <td>95                      </td>\n",
       "        </tr>\n",
       "    </tbody>\n",
       "        <tr>\n",
       "            <td>Professionals                          </td> <td>4789                   </td> <td>1793                     </td> <td>50183     </td> <td>2330                          </td> <td>165                                     </td> <td>33459     </td> <td>325                                  </td> <td>1200                  </td> <td>14440       </td> <td>1034                            </td> <td>77                                        </td> <td>12771       </td> <td>118                                   </td> <td>546                     </td>\n",
       "        </tr>\n",
       "    </tbody>\n",
       "        <tr>\n",
       "            <td>Technicians                            </td> <td>2868                   </td> <td>853                      </td> <td>12444     </td> <td>1891                          </td> <td>93                                      </td> <td>1585      </td> <td>159                                  </td> <td>414                   </td> <td>3314        </td> <td>1296                            </td> <td>32                                        </td> <td>576         </td> <td>49                                    </td> <td>233                     </td>\n",
       "        </tr>\n",
       "    </tbody>\n",
       "        <tr>\n",
       "            <td>Sales Workers                          </td> <td>3008                   </td> <td>1534                     </td> <td>13491     </td> <td>2349                          </td> <td>125                                     </td> <td>1559      </td> <td>68                                   </td> <td>502                   </td> <td>5807        </td> <td>1268                            </td> <td>62                                        </td> <td>896         </td> <td>42                                    </td> <td>310                     </td>\n",
       "        </tr>\n",
       "    </tbody>\n",
       "        <tr>\n",
       "            <td>Administrative Support                 </td> <td>703                    </td> <td>907                      </td> <td>2140      </td> <td>358                           </td> <td>31                                      </td> <td>411       </td> <td>14                                   </td> <td>90                    </td> <td>3339        </td> <td>530                             </td> <td>40                                        </td> <td>762         </td> <td>34                                    </td> <td>155                     </td>\n",
       "        </tr>\n",
       "    </tbody>\n",
       "        <tr>\n",
       "            <td>Craft Workers                          </td> <td>89                     </td> <td>4                        </td> <td>398       </td> <td>26                            </td> <td>0                                       </td> <td>34        </td> <td>9                                    </td> <td>7                     </td> <td>23          </td> <td>3                               </td> <td>0                                         </td> <td>2           </td> <td>2                                     </td> <td>0                       </td>\n",
       "        </tr>\n",
       "    </tbody>\n",
       "        <tr>\n",
       "            <td>Operatives                             </td> <td>0                      </td> <td>0                        </td> <td>0         </td> <td>0                             </td> <td>0                                       </td> <td>0         </td> <td>0                                    </td> <td>0                     </td> <td>0           </td> <td>0                               </td> <td>0                                         </td> <td>0           </td> <td>0                                     </td> <td>0                       </td>\n",
       "        </tr>\n",
       "    </tbody>\n",
       "        <tr>\n",
       "            <td>Laborers and Helpers                   </td> <td>0                      </td> <td>0                        </td> <td>0         </td> <td>1                             </td> <td>0                                       </td> <td>0         </td> <td>0                                    </td> <td>0                     </td> <td>0           </td> <td>0                               </td> <td>0                                         </td> <td>0           </td> <td>0                                     </td> <td>0                       </td>\n",
       "        </tr>\n",
       "    </tbody>\n",
       "        <tr>\n",
       "            <td>Service Workers                        </td> <td>133                    </td> <td>97                       </td> <td>76        </td> <td>12                            </td> <td>6                                       </td> <td>46        </td> <td>1                                    </td> <td>6                     </td> <td>27          </td> <td>12                              </td> <td>2                                         </td> <td>16          </td> <td>0                                     </td> <td>3                       </td>\n",
       "        </tr>\n",
       "    </tbody>\n",
       "        <tr>\n",
       "            <td>Total                                  </td> <td>12771                  </td> <td>5595                     </td> <td>93914     </td> <td>7471                          </td> <td>452                                     </td> <td>42531     </td> <td>649                                  </td> <td>2422                  </td> <td>31897       </td> <td>4392                            </td> <td>234                                       </td> <td>16697       </td> <td>258                                   </td> <td>1344                    </td>\n",
       "        </tr>\n",
       "    </tbody>\n",
       "        <tr>\n",
       "            <td>Previous Report Total                  </td> <td>11843                  </td> <td>4907                     </td> <td>89740     </td> <td>6879                          </td> <td>425                                     </td> <td>36825     </td> <td>609                                  </td> <td>2059                  </td> <td>29584       </td> <td>3705                            </td> <td>218                                       </td> <td>14157       </td> <td>257                                   </td> <td>1046                    </td>\n",
       "        </tr>\n",
       "    </tbody>\n",
       "</table>"
      ],
      "text/plain": [
       "<IPython.core.display.HTML object>"
      ]
     },
     "metadata": {},
     "output_type": "display_data"
    }
   ],
   "source": [
    "# load data\n",
    "tech_data = Table.read_table('data/Total-compiled_EEO-1.csv')\n",
    "tech_data.show()"
   ]
  },
  {
   "cell_type": "code",
   "execution_count": 6,
   "metadata": {
    "collapsed": true
   },
   "outputs": [],
   "source": [
    "tech_data.hist(1) # WHY"
   ]
  },
  {
   "attachments": {},
   "cell_type": "markdown",
   "metadata": {
    "collapsed": true
   },
   "source": [
    "UCB data is from Fall 2015.\n",
    "\n",
    "Source: UC Corporate Personnel System\n",
    "\n",
    "Note: STEM includes engineering and computer science, life sciences, math, medicine, other health sciences and physical sciences.\t\t\t\t\t\t"
   ]
  },
  {
   "cell_type": "code",
   "execution_count": null,
   "metadata": {
    "collapsed": true
   },
   "outputs": [],
   "source": []
  }
 ],
 "metadata": {
  "kernelspec": {
   "display_name": "Python 3",
   "language": "python",
   "name": "python3"
  },
  "language_info": {
   "codemirror_mode": {
    "name": "ipython",
    "version": 3
   },
   "file_extension": ".py",
   "mimetype": "text/x-python",
   "name": "python",
   "nbconvert_exporter": "python",
   "pygments_lexer": "ipython3",
   "version": "3.5.2"
  }
 },
 "nbformat": 4,
 "nbformat_minor": 2
}
