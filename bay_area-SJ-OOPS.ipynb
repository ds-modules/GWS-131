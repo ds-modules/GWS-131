{
 "cells": [
  {
   "cell_type": "markdown",
   "metadata": {},
   "source": [
    "Running the programs below allow the notebook to run properly. "
   ]
  },
  {
   "cell_type": "code",
   "execution_count": 3,
   "metadata": {
    "collapsed": true
   },
   "outputs": [],
   "source": [
    "from datascience import *\n",
    "import numpy as np\n",
    "import math\n",
    "%matplotlib inline"
   ]
  },
  {
   "cell_type": "markdown",
   "metadata": {},
   "source": [
    "First, we read in our data by using the function: Table().read_table(csv name). "
   ]
  },
  {
   "cell_type": "code",
   "execution_count": 4,
   "metadata": {},
   "outputs": [
    {
     "ename": "FileNotFoundError",
     "evalue": "File b'data/bay_area_data.csv' does not exist",
     "output_type": "error",
     "traceback": [
      "\u001b[0;31m---------------------------------------------------------------------------\u001b[0m",
      "\u001b[0;31mFileNotFoundError\u001b[0m                         Traceback (most recent call last)",
      "\u001b[0;32m<ipython-input-4-3223564b2963>\u001b[0m in \u001b[0;36m<module>\u001b[0;34m()\u001b[0m\n\u001b[0;32m----> 1\u001b[0;31m \u001b[0mbay_area\u001b[0m \u001b[0;34m=\u001b[0m \u001b[0mTable\u001b[0m\u001b[0;34m(\u001b[0m\u001b[0;34m)\u001b[0m\u001b[0;34m.\u001b[0m\u001b[0mread_table\u001b[0m\u001b[0;34m(\u001b[0m\u001b[0;34m'data/bay_area_data.csv'\u001b[0m\u001b[0;34m)\u001b[0m\u001b[0;34m\u001b[0m\u001b[0m\n\u001b[0m\u001b[1;32m      2\u001b[0m \u001b[0mbay_area\u001b[0m\u001b[0;34m\u001b[0m\u001b[0m\n",
      "\u001b[0;32m/anaconda/lib/python3.6/site-packages/datascience/tables.py\u001b[0m in \u001b[0;36mread_table\u001b[0;34m(cls, filepath_or_buffer, *args, **vargs)\u001b[0m\n\u001b[1;32m    130\u001b[0m         \u001b[0;32mexcept\u001b[0m \u001b[0mAttributeError\u001b[0m\u001b[0;34m:\u001b[0m\u001b[0;34m\u001b[0m\u001b[0m\n\u001b[1;32m    131\u001b[0m             \u001b[0;32mpass\u001b[0m\u001b[0;34m\u001b[0m\u001b[0m\n\u001b[0;32m--> 132\u001b[0;31m         \u001b[0mdf\u001b[0m \u001b[0;34m=\u001b[0m \u001b[0mpandas\u001b[0m\u001b[0;34m.\u001b[0m\u001b[0mread_table\u001b[0m\u001b[0;34m(\u001b[0m\u001b[0mfilepath_or_buffer\u001b[0m\u001b[0;34m,\u001b[0m \u001b[0;34m*\u001b[0m\u001b[0margs\u001b[0m\u001b[0;34m,\u001b[0m \u001b[0;34m**\u001b[0m\u001b[0mvargs\u001b[0m\u001b[0;34m)\u001b[0m\u001b[0;34m\u001b[0m\u001b[0m\n\u001b[0m\u001b[1;32m    133\u001b[0m         \u001b[0;32mreturn\u001b[0m \u001b[0mcls\u001b[0m\u001b[0;34m.\u001b[0m\u001b[0mfrom_df\u001b[0m\u001b[0;34m(\u001b[0m\u001b[0mdf\u001b[0m\u001b[0;34m)\u001b[0m\u001b[0;34m\u001b[0m\u001b[0m\n\u001b[1;32m    134\u001b[0m \u001b[0;34m\u001b[0m\u001b[0m\n",
      "\u001b[0;32m/anaconda/lib/python3.6/site-packages/pandas/io/parsers.py\u001b[0m in \u001b[0;36mparser_f\u001b[0;34m(filepath_or_buffer, sep, delimiter, header, names, index_col, usecols, squeeze, prefix, mangle_dupe_cols, dtype, engine, converters, true_values, false_values, skipinitialspace, skiprows, nrows, na_values, keep_default_na, na_filter, verbose, skip_blank_lines, parse_dates, infer_datetime_format, keep_date_col, date_parser, dayfirst, iterator, chunksize, compression, thousands, decimal, lineterminator, quotechar, quoting, escapechar, comment, encoding, dialect, tupleize_cols, error_bad_lines, warn_bad_lines, skipfooter, skip_footer, doublequote, delim_whitespace, as_recarray, compact_ints, use_unsigned, low_memory, buffer_lines, memory_map, float_precision)\u001b[0m\n\u001b[1;32m    653\u001b[0m                     skip_blank_lines=skip_blank_lines)\n\u001b[1;32m    654\u001b[0m \u001b[0;34m\u001b[0m\u001b[0m\n\u001b[0;32m--> 655\u001b[0;31m         \u001b[0;32mreturn\u001b[0m \u001b[0m_read\u001b[0m\u001b[0;34m(\u001b[0m\u001b[0mfilepath_or_buffer\u001b[0m\u001b[0;34m,\u001b[0m \u001b[0mkwds\u001b[0m\u001b[0;34m)\u001b[0m\u001b[0;34m\u001b[0m\u001b[0m\n\u001b[0m\u001b[1;32m    656\u001b[0m \u001b[0;34m\u001b[0m\u001b[0m\n\u001b[1;32m    657\u001b[0m     \u001b[0mparser_f\u001b[0m\u001b[0;34m.\u001b[0m\u001b[0m__name__\u001b[0m \u001b[0;34m=\u001b[0m \u001b[0mname\u001b[0m\u001b[0;34m\u001b[0m\u001b[0m\n",
      "\u001b[0;32m/anaconda/lib/python3.6/site-packages/pandas/io/parsers.py\u001b[0m in \u001b[0;36m_read\u001b[0;34m(filepath_or_buffer, kwds)\u001b[0m\n\u001b[1;32m    403\u001b[0m \u001b[0;34m\u001b[0m\u001b[0m\n\u001b[1;32m    404\u001b[0m     \u001b[0;31m# Create the parser.\u001b[0m\u001b[0;34m\u001b[0m\u001b[0;34m\u001b[0m\u001b[0m\n\u001b[0;32m--> 405\u001b[0;31m     \u001b[0mparser\u001b[0m \u001b[0;34m=\u001b[0m \u001b[0mTextFileReader\u001b[0m\u001b[0;34m(\u001b[0m\u001b[0mfilepath_or_buffer\u001b[0m\u001b[0;34m,\u001b[0m \u001b[0;34m**\u001b[0m\u001b[0mkwds\u001b[0m\u001b[0;34m)\u001b[0m\u001b[0;34m\u001b[0m\u001b[0m\n\u001b[0m\u001b[1;32m    406\u001b[0m \u001b[0;34m\u001b[0m\u001b[0m\n\u001b[1;32m    407\u001b[0m     \u001b[0;32mif\u001b[0m \u001b[0mchunksize\u001b[0m \u001b[0;32mor\u001b[0m \u001b[0miterator\u001b[0m\u001b[0;34m:\u001b[0m\u001b[0;34m\u001b[0m\u001b[0m\n",
      "\u001b[0;32m/anaconda/lib/python3.6/site-packages/pandas/io/parsers.py\u001b[0m in \u001b[0;36m__init__\u001b[0;34m(self, f, engine, **kwds)\u001b[0m\n\u001b[1;32m    760\u001b[0m             \u001b[0mself\u001b[0m\u001b[0;34m.\u001b[0m\u001b[0moptions\u001b[0m\u001b[0;34m[\u001b[0m\u001b[0;34m'has_index_names'\u001b[0m\u001b[0;34m]\u001b[0m \u001b[0;34m=\u001b[0m \u001b[0mkwds\u001b[0m\u001b[0;34m[\u001b[0m\u001b[0;34m'has_index_names'\u001b[0m\u001b[0;34m]\u001b[0m\u001b[0;34m\u001b[0m\u001b[0m\n\u001b[1;32m    761\u001b[0m \u001b[0;34m\u001b[0m\u001b[0m\n\u001b[0;32m--> 762\u001b[0;31m         \u001b[0mself\u001b[0m\u001b[0;34m.\u001b[0m\u001b[0m_make_engine\u001b[0m\u001b[0;34m(\u001b[0m\u001b[0mself\u001b[0m\u001b[0;34m.\u001b[0m\u001b[0mengine\u001b[0m\u001b[0;34m)\u001b[0m\u001b[0;34m\u001b[0m\u001b[0m\n\u001b[0m\u001b[1;32m    763\u001b[0m \u001b[0;34m\u001b[0m\u001b[0m\n\u001b[1;32m    764\u001b[0m     \u001b[0;32mdef\u001b[0m \u001b[0mclose\u001b[0m\u001b[0;34m(\u001b[0m\u001b[0mself\u001b[0m\u001b[0;34m)\u001b[0m\u001b[0;34m:\u001b[0m\u001b[0;34m\u001b[0m\u001b[0m\n",
      "\u001b[0;32m/anaconda/lib/python3.6/site-packages/pandas/io/parsers.py\u001b[0m in \u001b[0;36m_make_engine\u001b[0;34m(self, engine)\u001b[0m\n\u001b[1;32m    964\u001b[0m     \u001b[0;32mdef\u001b[0m \u001b[0m_make_engine\u001b[0m\u001b[0;34m(\u001b[0m\u001b[0mself\u001b[0m\u001b[0;34m,\u001b[0m \u001b[0mengine\u001b[0m\u001b[0;34m=\u001b[0m\u001b[0;34m'c'\u001b[0m\u001b[0;34m)\u001b[0m\u001b[0;34m:\u001b[0m\u001b[0;34m\u001b[0m\u001b[0m\n\u001b[1;32m    965\u001b[0m         \u001b[0;32mif\u001b[0m \u001b[0mengine\u001b[0m \u001b[0;34m==\u001b[0m \u001b[0;34m'c'\u001b[0m\u001b[0;34m:\u001b[0m\u001b[0;34m\u001b[0m\u001b[0m\n\u001b[0;32m--> 966\u001b[0;31m             \u001b[0mself\u001b[0m\u001b[0;34m.\u001b[0m\u001b[0m_engine\u001b[0m \u001b[0;34m=\u001b[0m \u001b[0mCParserWrapper\u001b[0m\u001b[0;34m(\u001b[0m\u001b[0mself\u001b[0m\u001b[0;34m.\u001b[0m\u001b[0mf\u001b[0m\u001b[0;34m,\u001b[0m \u001b[0;34m**\u001b[0m\u001b[0mself\u001b[0m\u001b[0;34m.\u001b[0m\u001b[0moptions\u001b[0m\u001b[0;34m)\u001b[0m\u001b[0;34m\u001b[0m\u001b[0m\n\u001b[0m\u001b[1;32m    967\u001b[0m         \u001b[0;32melse\u001b[0m\u001b[0;34m:\u001b[0m\u001b[0;34m\u001b[0m\u001b[0m\n\u001b[1;32m    968\u001b[0m             \u001b[0;32mif\u001b[0m \u001b[0mengine\u001b[0m \u001b[0;34m==\u001b[0m \u001b[0;34m'python'\u001b[0m\u001b[0;34m:\u001b[0m\u001b[0;34m\u001b[0m\u001b[0m\n",
      "\u001b[0;32m/anaconda/lib/python3.6/site-packages/pandas/io/parsers.py\u001b[0m in \u001b[0;36m__init__\u001b[0;34m(self, src, **kwds)\u001b[0m\n\u001b[1;32m   1580\u001b[0m         \u001b[0mkwds\u001b[0m\u001b[0;34m[\u001b[0m\u001b[0;34m'allow_leading_cols'\u001b[0m\u001b[0;34m]\u001b[0m \u001b[0;34m=\u001b[0m \u001b[0mself\u001b[0m\u001b[0;34m.\u001b[0m\u001b[0mindex_col\u001b[0m \u001b[0;32mis\u001b[0m \u001b[0;32mnot\u001b[0m \u001b[0;32mFalse\u001b[0m\u001b[0;34m\u001b[0m\u001b[0m\n\u001b[1;32m   1581\u001b[0m \u001b[0;34m\u001b[0m\u001b[0m\n\u001b[0;32m-> 1582\u001b[0;31m         \u001b[0mself\u001b[0m\u001b[0;34m.\u001b[0m\u001b[0m_reader\u001b[0m \u001b[0;34m=\u001b[0m \u001b[0mparsers\u001b[0m\u001b[0;34m.\u001b[0m\u001b[0mTextReader\u001b[0m\u001b[0;34m(\u001b[0m\u001b[0msrc\u001b[0m\u001b[0;34m,\u001b[0m \u001b[0;34m**\u001b[0m\u001b[0mkwds\u001b[0m\u001b[0;34m)\u001b[0m\u001b[0;34m\u001b[0m\u001b[0m\n\u001b[0m\u001b[1;32m   1583\u001b[0m \u001b[0;34m\u001b[0m\u001b[0m\n\u001b[1;32m   1584\u001b[0m         \u001b[0;31m# XXX\u001b[0m\u001b[0;34m\u001b[0m\u001b[0;34m\u001b[0m\u001b[0m\n",
      "\u001b[0;32mpandas/_libs/parsers.pyx\u001b[0m in \u001b[0;36mpandas._libs.parsers.TextReader.__cinit__ (pandas/_libs/parsers.c:4209)\u001b[0;34m()\u001b[0m\n",
      "\u001b[0;32mpandas/_libs/parsers.pyx\u001b[0m in \u001b[0;36mpandas._libs.parsers.TextReader._setup_parser_source (pandas/_libs/parsers.c:8873)\u001b[0;34m()\u001b[0m\n",
      "\u001b[0;31mFileNotFoundError\u001b[0m: File b'data/bay_area_data.csv' does not exist"
     ]
    }
   ],
   "source": [
    "bay_area = Table().read_table('data/bay_area_data.csv')\n",
    "bay_area"
   ]
  },
  {
   "cell_type": "code",
   "execution_count": null,
   "metadata": {
    "collapsed": true
   },
   "outputs": [],
   "source": [
    "# check to confirm that values are ints\n",
    "type(bay_area.column(13).item(3))"
   ]
  },
  {
   "cell_type": "markdown",
   "metadata": {},
   "source": [
    "To separate job sector, we need to first filter for jobs we want to focus on. "
   ]
  },
  {
   "cell_type": "code",
   "execution_count": null,
   "metadata": {
    "collapsed": true
   },
   "outputs": [],
   "source": [
    "# array of all relevant job codes\n",
    "# matching job categories are in Occupations spreadsheet in Google Drive\n",
    "job_codes = make_array(10, 20, 30, 100, 110, 120, 130, 140, 150, 160, 220, 300, 310, 330, 350, 360, 410, 420,\n",
    "                      620, 700, 710, 720, 730, 800, 820, 940, 950, 1000, 1010, 1020, 1050, 1060, 1100, 1200, 1220,\n",
    "                       1230, 1240, 1350, 1360, 1400, 1410, 1420, 1430, 1450, 1460, 1540, 1550, 1720, 1910, 1920,\n",
    "                       1980, 2840, 2900, 4000, 4010, 4030, 4050, 4060, 4110, 4120, 4130, 4140, 4150, 4200, 4210,\n",
    "                       4220, 4230, 4250, 4720, 5000, 7720, 7730, 7900, 8000, 8010, 8030, 8060, 8800, 8830, 7700,\n",
    "                       9620, 9630, 9640)\n",
    "job_codes"
   ]
  },
  {
   "cell_type": "code",
   "execution_count": null,
   "metadata": {
    "collapsed": true
   },
   "outputs": [],
   "source": [
    "jobs = Table().with_column('Jobs', job_codes)\n",
    "jobs"
   ]
  },
  {
   "cell_type": "code",
   "execution_count": null,
   "metadata": {
    "collapsed": true
   },
   "outputs": [],
   "source": [
    "import pandas as pd\n",
    "\n",
    "df = bay_area.to_df()\n",
    "bay_area = Table.from_df(df.loc[df['OCC2010'].isin(job_codes)])\n",
    "bay_area"
   ]
  },
  {
   "cell_type": "code",
   "execution_count": null,
   "metadata": {
    "collapsed": true
   },
   "outputs": [],
   "source": [
    "cut_bay_area= bay_area.drop(\"CPSID\",\"ASECFLAG\",\"HWTSUPP\", \"HFLAG\", \"MONTH\", \"PERNUM\", \"CPSIDP\",\"WTSUPP\")\n",
    "cut_bay_area"
   ]
  },
  {
   "cell_type": "code",
   "execution_count": null,
   "metadata": {
    "collapsed": true
   },
   "outputs": [],
   "source": [
    "STEM_codes= make_array(700, 1000, 1010, 1020, 1050, 1220, 1230, 1240, 1350, 1360, 1400, 1410, 1420, 1430,\n",
    "    1450,1460, 1540, 1550, 1720, 1910, 1920, 1980,2840, 2900,7720, 7730, 7900, 8000, 8010,8030,\n",
    "    8060, 8800, 8830)\n",
    "SERVICE_codes= make_array(7700, 9620, 9630, 9640, 4000, 4010, 4030, 4050, 4060, 4110, 4120, 4130, 4140, 4150, 4720, \n",
    "    7700,9620,9630,9640)\n",
    "FINANCIAL_codes= make_array(120, 800, 820, 940, 950)\n",
    "CUSTODIAL_codes= make_array(4200, 4210, 4220, 4230, 4250)\n",
    "MANAGEMENT_codes= make_array(130, 150, 160, 220, 30, 100, 410, 420)\n",
    "STEM_MANAGER_codes=make_array(140,300,330, 350, 360, 1060, 1100)\n",
    "ADMINISTRATOR_codes= make_array(10,20)\n",
    "sector=list()\n",
    "def job_categories2(x): \n",
    "    if any(x == i for i in STEM_codes):\n",
    "        sector.append(\"STEM\")\n",
    "    elif any(x == i for i in SERVICE_codes):\n",
    "        sector.append(\"SERVICE\")\n",
    "    elif any(x == i for i in FINANCIAL_codes):\n",
    "        sector.append(\"FINANCIAL\")\n",
    "    elif any(x == i for i in CUSTODIAL_codes):\n",
    "        sector.append(\"CUSTODIAL\")\n",
    "    elif any(x == i for i in MANAGEMENT_codes):\n",
    "        sector.append(\"MANAGEMENT\")\n",
    "    elif any(x == i for i in ADMINISTRATOR_codes):\n",
    "        sector.append(\"ADMINISTRATOR\")\n",
    "    elif any(x == i for i in STEM_MANAGER_codes):\n",
    "        sector.append(\"STEM MANAGER\")\n",
    "    else: \n",
    "        sector.append(\"UNKNOWN\")\n",
    "\n",
    "\n",
    "for job in cut_bay_area.column(\"OCC2010\"):\n",
    "    job_categories2(job)\n",
    "    \n",
    "sector"
   ]
  },
  {
   "cell_type": "code",
   "execution_count": null,
   "metadata": {
    "collapsed": true
   },
   "outputs": [],
   "source": [
    "#sector_df = sector.to_df\n",
    "with_sector = cut_bay_area.with_column('SECTOR', sector)\n",
    "with_sector"
   ]
  },
  {
   "cell_type": "markdown",
   "metadata": {},
   "source": [
    "Let's change race codes into what they mean. To do this, we make a dictionary. "
   ]
  },
  {
   "cell_type": "code",
   "execution_count": null,
   "metadata": {
    "collapsed": true
   },
   "outputs": [],
   "source": [
    "dict = {100: 'White', 200: \"Black\", 300: 'Indigenous',650:\"Asian Pacific Islander\" }\n",
    "for k, v in dict.iteritems():\n",
    "    if v is None:\n",
    "        dict [k] = 'Other'"
   ]
  },
  {
   "cell_type": "code",
   "execution_count": null,
   "metadata": {
    "collapsed": true
   },
   "outputs": [],
   "source": [
    "# plot sector+race\n",
    "t = with_sector.drop(\"INCTOT\", \"METAREA\", \"SERIAL\",\"YEAR\",\"OCC2010\", 'SEX')\n",
    "t = t.pivot(\"RACE\", \"SECTOR\")\n",
    "t.barh('SECTOR')"
   ]
  },
  {
   "cell_type": "code",
   "execution_count": null,
   "metadata": {
    "collapsed": true
   },
   "outputs": [],
   "source": [
    "management_jobs = with_sector.where(\"SECTOR\", are.equal_to(\"MANAGEMENT\")).drop(\"INCTOT\", \"SECTOR\", \"METAREA\", \"SERIAL\",\"YEAR\",\"OCC2010\")\n",
    "management_jobs = management_jobs.pivot(\"SEX\", \"RACE\").relabel(\"1\", \"MALE\"). relabel(\"2\", \"FEMALE\")\n",
    "management_jobs.barh('RACE')"
   ]
  },
  {
   "cell_type": "code",
   "execution_count": null,
   "metadata": {
    "collapsed": true
   },
   "outputs": [],
   "source": [
    "stem_jobs = with_sector.where(\"SECTOR\", are.equal_to(\"STEM\")).drop(\"INCTOT\", \"SECTOR\", \"METAREA\", \"SERIAL\",\"YEAR\",\"OCC2010\")\n",
    "stem_jobs = stem_jobs.pivot(\"SEX\", \"RACE\").relabel(\"1\", \"MALE\"). relabel(\"2\", \"FEMALE\")\n",
    "stem_jobs.barh('RACE')"
   ]
  },
  {
   "cell_type": "code",
   "execution_count": null,
   "metadata": {
    "collapsed": true
   },
   "outputs": [],
   "source": [
    "custodial_jobs = with_sector.where(\"SECTOR\", are.equal_to(\"MANAGEMENT\")).drop(\"INCTOT\", \"SECTOR\", \"METAREA\", \"SERIAL\",\"YEAR\",\"OCC2010\")\n",
    "custodial_jobs = custodial_jobs.pivot(\"SEX\", \"RACE\").relabel(\"1\", \"MALE\"). relabel(\"2\", \"FEMALE\")\n",
    "custodial_jobs.barh('RACE')"
   ]
  },
  {
   "cell_type": "code",
   "execution_count": null,
   "metadata": {
    "collapsed": true
   },
   "outputs": [],
   "source": [
    "service_jobs = with_sector.where(\"SECTOR\", are.equal_to(\"SERVICE\")).drop(\"INCTOT\", \"SECTOR\", \"METAREA\", \"SERIAL\",\"YEAR\",\"OCC2010\")\n",
    "service_jobs = service_jobs.pivot(\"SEX\", \"RACE\").relabel(\"1\", \"MALE\"). relabel(\"2\", \"FEMALE\")\n",
    "service_jobs.barh('RACE')"
   ]
  },
  {
   "cell_type": "code",
   "execution_count": null,
   "metadata": {
    "collapsed": true
   },
   "outputs": [],
   "source": [
    "financial_jobs = with_sector.where(\"SECTOR\", are.equal_to(\"FINANCIAL\")).drop(\"INCTOT\", \"SECTOR\", \"METAREA\", \"SERIAL\",\"YEAR\",\"OCC2010\")\n",
    "financial_jobs = financial_jobs.pivot(\"SEX\", \"RACE\").relabel(\"1\", \"MALE\"). relabel(\"2\", \"FEMALE\")\n",
    "financial_jobs.barh('RACE')"
   ]
  },
  {
   "cell_type": "code",
   "execution_count": null,
   "metadata": {
    "collapsed": true
   },
   "outputs": [],
   "source": [
    "stemmanager_jobs = with_sector.where(\"SECTOR\", are.equal_to(\"STEM MANAGER\")).drop(\"INCTOT\", \"SECTOR\", \"METAREA\", \"SERIAL\",\"YEAR\",\"OCC2010\")\n",
    "stemmanager_jobs = stemmanager_jobs.pivot(\"SEX\", \"RACE\").relabel(\"1\", \"MALE\"). relabel(\"2\", \"FEMALE\")\n",
    "stemmanager_jobs.barh('RACE')"
   ]
  },
  {
   "cell_type": "code",
   "execution_count": null,
   "metadata": {
    "collapsed": true
   },
   "outputs": [],
   "source": [
    "administrator_jobs = with_sector.where(\"SECTOR\", are.equal_to(\"ADMINISTRATOR\")).drop(\"INCTOT\", \"SECTOR\", \"METAREA\", \"SERIAL\",\"YEAR\",\"OCC2010\")\n",
    "administrator_jobs = administrator_jobs.pivot(\"SEX\", \"RACE\").relabel(\"1\", \"MALE\"). relabel(\"2\", \"FEMALE\")\n",
    "administrator_jobs.barh('RACE')"
   ]
  },
  {
   "cell_type": "markdown",
   "metadata": {
    "collapsed": true
   },
   "source": [
    "By looking at the average mean of each part of the sample, we see some differences. "
   ]
  },
  {
   "cell_type": "code",
   "execution_count": null,
   "metadata": {
    "collapsed": true
   },
   "outputs": [],
   "source": [
    "men_income= with_sector.where(\"SEX\", are.equal_to(1)).column(6)\n",
    "np.mean(men_income)"
   ]
  },
  {
   "cell_type": "code",
   "execution_count": null,
   "metadata": {
    "collapsed": true
   },
   "outputs": [],
   "source": [
    "white_men_income=women_income= with_sector.where(\"SEX\", are.equal_to(1)).where(\"RACE\", are.equal_to(100)).column(6)\n",
    "np.mean(white_men_income)"
   ]
  },
  {
   "cell_type": "code",
   "execution_count": null,
   "metadata": {
    "collapsed": true
   },
   "outputs": [],
   "source": [
    "women_income= with_sector.where(\"SEX\", are.equal_to(2)).column(6)\n",
    "np.mean(women_income)"
   ]
  },
  {
   "cell_type": "code",
   "execution_count": null,
   "metadata": {
    "collapsed": true
   },
   "outputs": [],
   "source": [
    "white_women_income=with_sector.where(\"RACE\", are.equal_to(100)).where(\"SEX\", are.equal_to(2)).column(6)\n",
    "np.mean(white_women_income)"
   ]
  },
  {
   "cell_type": "markdown",
   "metadata": {},
   "source": [
    "This type of comparison isn't very reliable. We will perform a p-value test to determine if the change of income across races/ sex is statistically significant. To do this we first need to bootstrap our sample to make a 95% confidnece interval of the estimated population mean. "
   ]
  },
  {
   "cell_type": "code",
   "execution_count": null,
   "metadata": {
    "collapsed": true
   },
   "outputs": [],
   "source": [
    "def bootstrap_median(original_sample, label, replications):\n",
    "    \"\"\"Returns an array of bootstrapped sample medians:\n",
    "    original_sample: table containing the original sample\n",
    "    label: label of column containing the variable\n",
    "    replications: number of bootstrap samples\n",
    "    \"\"\"\n",
    "    just_one_column = original_sample.select(label)\n",
    "    medians = make_array()\n",
    "    for i in np.arange(replications):\n",
    "        bootstrap_sample = just_one_column.sample()\n",
    "        resampled_median = percentile(50, bootstrap_sample.column(0))\n",
    "        medians = np.append(medians, resampled_median)\n",
    "\n",
    "    return medians"
   ]
  },
  {
   "cell_type": "code",
   "execution_count": null,
   "metadata": {
    "collapsed": true
   },
   "outputs": [],
   "source": [
    "all_income_medians= bootstrap_median(with_sector, \"INCTOT\", 1000)\n",
    "l_all_income_medians = percentile(2.5, all_income_medians)\n",
    "r_all_income_medians = percentile(97.5, all_income_medians)\n",
    "make_array(l_all_income_medians, r_all_income_medians)\n"
   ]
  },
  {
   "cell_type": "code",
   "execution_count": null,
   "metadata": {
    "collapsed": true
   },
   "outputs": [],
   "source": [
    "men=with_sector.where(\"SEX\", are.equal_to(1))\n",
    "leftmen = percentile(2.5, men)\n",
    "rightmen = percentile(97.5, men)\n",
    "make_array(leftmen, rightmen)\n",
    "\n",
    "women=with_sector.where(\"SEX\", are.equal_to(2))\n",
    "leftwomen = percentile(2.5, women)\n",
    "rightwomen = percentile(97.5, women)\n",
    "make_array(leftwomen, rightwomen)\n",
    "\n",
    "white_men=men.where(\"RACE\", are.equal_to(100))\n",
    "leftwhite_men = percentile(2.5,white_men)\n",
    "rightwhite_men = percentile(97.5, white_men)\n",
    "make_array(leftwhite_men, rightwhite_men)\n",
    "\n",
    "white_women=women.where(\"RACE\", are.equal_to(100))\n",
    "leftwhite_women = percentile(2.5, white_women)\n",
    "rightwhite_women = percentile(97.5, white_women)\n",
    "make_array(leftwhite_women, rightwhite_women)\n",
    "\n",
    "black_men=men.where(\"RACE\", are.equal_to(200))\n",
    "leftblack_men = percentile(2.5, black_men)\n",
    "rightblack_men = percentile(97.5, black_men)\n",
    "make_array(leftblack_men, rightblack_men)\n",
    "\n",
    "black_women=women.where(\"RACE\", are.equal_to(200))\n",
    "leftblack_women = percentile(2.5, black_women)\n",
    "rightblack_women = percentile(97.5, black_women)\n",
    "make_array(leftblack_women, rightblack_women)\n",
    "\n",
    "asian_men=men.where(\"RACE\", are.equal_to(650))\n",
    "leftasian_men = percentile(2.5, asian_men)\n",
    "rightasian_men = percentile(97.5, asian_men)\n",
    "make_array(leftasian_men, rightasian_men)\n",
    "\n",
    "asian_women=women.where(\"RACE\", are.equal_to(650))\n",
    "leftasian_women = percentile(2.5, asian_women)\n",
    "rightasian_women = percentile(97.5, asian_women)\n",
    "make_array(leftasian_women, rightasian_women)\n",
    "\n",
    "other_men=men.where(\"RACE\", are.above(650))\n",
    "leftother_men = percentile(2.5, other_men)\n",
    "rightother_men = percentile(97.5, other_men)\n",
    "make_array(leftother_men, rightother_men)\n",
    "\n",
    "other_women=women.where(\"RACE\", are.above(650))\n",
    "leftother_women = percentile(2.5, other_women)\n",
    "rightother_women = percentile(97.5, other_women)\n",
    "make_array(leftother_women, rightother_women)\n",
    "\n"
   ]
  },
  {
   "cell_type": "code",
   "execution_count": null,
   "metadata": {
    "collapsed": true
   },
   "outputs": [],
   "source": [
    "#overlap intervals in a graph"
   ]
  },
  {
   "cell_type": "markdown",
   "metadata": {},
   "source": [
    "p-value tests\n",
    "According to these 95% confidence intervals, the median for . . . is statistically significant . . . "
   ]
  },
  {
   "cell_type": "markdown",
   "metadata": {},
   "source": [
    "Now, let's compare incomes over sector. Is the wage gap more visible for STEM jobs or for service jobs? "
   ]
  },
  {
   "cell_type": "code",
   "execution_count": null,
   "metadata": {
    "collapsed": true
   },
   "outputs": [],
   "source": [
    "#histograms based off sector and gender only "
   ]
  },
  {
   "cell_type": "code",
   "execution_count": null,
   "metadata": {
    "collapsed": true
   },
   "outputs": [],
   "source": []
  }
 ],
 "metadata": {
  "anaconda-cloud": {},
  "kernelspec": {
   "display_name": "Python 3",
   "language": "python",
   "name": "python3"
  },
  "language_info": {
   "codemirror_mode": {
    "name": "ipython",
    "version": 3
   },
   "file_extension": ".py",
   "mimetype": "text/x-python",
   "name": "python",
   "nbconvert_exporter": "python",
   "pygments_lexer": "ipython3",
   "version": "3.6.1"
  }
 },
 "nbformat": 4,
 "nbformat_minor": 2
}
