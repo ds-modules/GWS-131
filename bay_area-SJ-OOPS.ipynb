{
 "cells": [
  {
   "cell_type": "markdown",
   "metadata": {},
   "source": [
    "Running the programs below allow the notebook to run properly. "
   ]
  },
  {
   "cell_type": "code",
   "execution_count": null,
   "metadata": {
    "collapsed": true
   },
   "outputs": [],
   "source": [
    "from datascience import *\n",
    "import numpy as np\n",
    "import math\n",
    "import matplotlib.pyplot as plots\n",
    "%matplotlib inline"
   ]
  },
  {
   "cell_type": "markdown",
   "metadata": {},
   "source": [
    "First, we read in our data by using the function: Table().read_table(csv name). "
   ]
  },
  {
   "cell_type": "code",
   "execution_count": null,
   "metadata": {},
   "outputs": [],
   "source": [
    "bay_area = Table().read_table('data/bay_area_data.csv')\n",
    "bay_area"
   ]
  },
  {
   "cell_type": "code",
   "execution_count": null,
   "metadata": {},
   "outputs": [],
   "source": [
    "# check to confirm that values are ints\n",
    "type(bay_area.column(13).item(3))"
   ]
  },
  {
   "cell_type": "markdown",
   "metadata": {},
   "source": [
    "To separate job sector, we need to first filter for jobs we want to focus on. "
   ]
  },
  {
   "cell_type": "code",
   "execution_count": null,
   "metadata": {},
   "outputs": [],
   "source": [
    "# array of all relevant job codes\n",
    "# matching job categories are in Occupations spreadsheet in Google Drive\n",
    "job_codes = make_array(10, 20, 30, 100, 110, 120, 130, 140, 150, 160, 220, 300, 310, 330, 350, 360, 410, 420,\n",
    "                      620, 700, 710, 720, 730, 800, 820, 940, 950, 1000, 1010, 1020, 1050, 1060, 1100, 1200, 1220,\n",
    "                       1230, 1240, 1350, 1360, 1400, 1410, 1420, 1430, 1450, 1460, 1540, 1550, 1720, 1910, 1920,\n",
    "                       1980, 2840, 2900, 4000, 4010, 4030, 4050, 4060, 4110, 4120, 4130, 4140, 4150, 4200, 4210,\n",
    "                       4220, 4230, 4250, 4720, 5000, 7720, 7730, 7900, 8000, 8010, 8030, 8060, 8800, 8830, 7700,\n",
    "                       9620, 9630, 9640)\n",
    "job_codes"
   ]
  },
  {
   "cell_type": "code",
   "execution_count": null,
   "metadata": {
    "collapsed": true
   },
   "outputs": [],
   "source": [
    "jobs = Table().with_column('Jobs', job_codes)\n"
   ]
  },
  {
   "cell_type": "code",
   "execution_count": null,
   "metadata": {},
   "outputs": [],
   "source": [
    "import pandas as pd\n",
    "\n",
    "df = bay_area.to_df()\n",
    "bay_area = Table.from_df(df.loc[df['OCC2010'].isin(job_codes)])\n",
    "bay_area"
   ]
  },
  {
   "cell_type": "code",
   "execution_count": null,
   "metadata": {},
   "outputs": [],
   "source": [
    "cut_bay_area= bay_area.drop(\"CPSID\",\"ASECFLAG\",\"HWTSUPP\", \"HFLAG\", \"MONTH\", \"PERNUM\", \"CPSIDP\",\"WTSUPP\")\n",
    "cut_bay_area"
   ]
  },
  {
   "cell_type": "code",
   "execution_count": null,
   "metadata": {},
   "outputs": [],
   "source": [
    "STEM_codes= make_array(700, 1000, 1010, 1020, 1050, 1220, 1230, 1240, 1350, 1360, 1400, 1410, 1420, 1430,\n",
    "    1450,1460, 1540, 1550, 1720, 1910, 1920, 1980,2840, 2900,7720, 7730, 7900, 8000, 8010,8030,\n",
    "    8060, 8800, 8830)\n",
    "SERVICE_codes= make_array(7700, 9620, 9630, 9640, 4000, 4010, 4030, 4050, 4060, 4110, 4120, 4130, 4140, 4150, 4720, \n",
    "    7700,9620,9630,9640)\n",
    "FINANCIAL_codes= make_array(120, 800, 820, 940, 950)\n",
    "CUSTODIAL_codes= make_array(4200, 4210, 4220, 4230, 4250)\n",
    "MANAGEMENT_codes= make_array(130, 150, 160, 220, 30, 100, 410, 420)\n",
    "STEM_MANAGER_codes=make_array(140,300,330, 350, 360, 1060, 1100)\n",
    "ADMINISTRATOR_codes= make_array(10,20)\n",
    "sector=list()\n",
    "def job_categories2(x): \n",
    "    if any(x == i for i in STEM_codes):\n",
    "        sector.append(\"STEM\")\n",
    "    elif any(x == i for i in SERVICE_codes):\n",
    "        sector.append(\"SERVICE\")\n",
    "    elif any(x == i for i in FINANCIAL_codes):\n",
    "        sector.append(\"FINANCIAL\")\n",
    "    elif any(x == i for i in CUSTODIAL_codes):\n",
    "        sector.append(\"CUSTODIAL\")\n",
    "    elif any(x == i for i in MANAGEMENT_codes):\n",
    "        sector.append(\"MANAGEMENT\")\n",
    "    elif any(x == i for i in ADMINISTRATOR_codes):\n",
    "        sector.append(\"ADMINISTRATOR\")\n",
    "    elif any(x == i for i in STEM_MANAGER_codes):\n",
    "        sector.append(\"STEM MANAGER\")\n",
    "    else: \n",
    "        sector.append(\"UNKNOWN\")\n",
    "\n",
    "\n",
    "for job in cut_bay_area.column(\"OCC2010\"):\n",
    "    job_categories2(job)\n",
    "    \n",
    "sector"
   ]
  },
  {
   "cell_type": "code",
   "execution_count": null,
   "metadata": {},
   "outputs": [],
   "source": [
    "#sector_df = sector.to_df\n",
    "with_sector = cut_bay_area.with_column('SECTOR', sector)\n",
    "with_sector"
   ]
  },
  {
   "cell_type": "markdown",
   "metadata": {},
   "source": [
    "Let's change race codes into what they mean. To do this, we make a dictionary. "
   ]
  },
  {
   "cell_type": "code",
   "execution_count": null,
   "metadata": {},
   "outputs": [],
   "source": [
    "from collections import defaultdict\n",
    "race_dict = {100: 'White', 200: \"Black\", 300: 'Indigenous',650:\"Asian Pacific Islander\" }\n",
    "race_dict = defaultdict(lambda: 'Other', race_dict)\n",
    "race = list()\n",
    "#for k, v in race_dict.iteritems():\n",
    "    #if v is None:\n",
    "        #dict [k] = 'Other'\n",
    "for count, k in enumerate(with_sector.column(\"RACE\")):\n",
    "    #print(k)\n",
    "    #print(race_dict[with_sector.column(\"RACE\")[count]])\n",
    "    race.append(race_dict[with_sector.column(\"RACE\")[count]])\n",
    "\n",
    "with_race = with_sector.with_column('RACE', race)\n",
    "with_race\n",
    "    \n"
   ]
  },
  {
   "cell_type": "code",
   "execution_count": null,
   "metadata": {},
   "outputs": [],
   "source": [
    "# plot sector+race\n",
    "t = with_race.drop(\"INCTOT\", \"METAREA\", \"SERIAL\",\"YEAR\",\"OCC2010\", 'SEX')\n",
    "t = t.pivot(\"RACE\", \"SECTOR\")\n",
    "t.barh('SECTOR')"
   ]
  },
  {
   "cell_type": "code",
   "execution_count": null,
   "metadata": {},
   "outputs": [],
   "source": [
    "management_jobs = with_race.where(\"SECTOR\", are.equal_to(\"MANAGEMENT\")).drop(\"INCTOT\", \"SECTOR\", \"METAREA\", \"SERIAL\",\"YEAR\",\"OCC2010\")\n",
    "management_jobs = management_jobs.pivot(\"SEX\", \"RACE\").relabel(\"1\", \"MALE\"). relabel(\"2\", \"FEMALE\")\n",
    "management_jobs.barh('RACE')"
   ]
  },
  {
   "cell_type": "code",
   "execution_count": null,
   "metadata": {},
   "outputs": [],
   "source": [
    "stem_jobs = with_race.where(\"SECTOR\", are.equal_to(\"STEM\")).drop(\"INCTOT\", \"SECTOR\", \"METAREA\", \"SERIAL\",\"YEAR\",\"OCC2010\")\n",
    "stem_jobs = stem_jobs.pivot(\"SEX\", \"RACE\").relabel(\"1\", \"MALE\"). relabel(\"2\", \"FEMALE\")\n",
    "stem_jobs.barh('RACE')"
   ]
  },
  {
   "cell_type": "code",
   "execution_count": null,
   "metadata": {},
   "outputs": [],
   "source": [
    "custodial_jobs = with_race.where(\"SECTOR\", are.equal_to(\"MANAGEMENT\")).drop(\"INCTOT\", \"SECTOR\", \"METAREA\", \"SERIAL\",\"YEAR\",\"OCC2010\")\n",
    "custodial_jobs = custodial_jobs.pivot(\"SEX\", \"RACE\").relabel(\"1\", \"MALE\"). relabel(\"2\", \"FEMALE\")\n",
    "custodial_jobs.barh('RACE')"
   ]
  },
  {
   "cell_type": "code",
   "execution_count": null,
   "metadata": {},
   "outputs": [],
   "source": [
    "service_jobs = with_race.where(\"SECTOR\", are.equal_to(\"SERVICE\")).drop(\"INCTOT\", \"SECTOR\", \"METAREA\", \"SERIAL\",\"YEAR\",\"OCC2010\")\n",
    "service_jobs = service_jobs.pivot(\"SEX\", \"RACE\").relabel(\"1\", \"MALE\"). relabel(\"2\", \"FEMALE\")\n",
    "service_jobs.barh('RACE')"
   ]
  },
  {
   "cell_type": "code",
   "execution_count": null,
   "metadata": {},
   "outputs": [],
   "source": [
    "financial_jobs = with_race.where(\"SECTOR\", are.equal_to(\"FINANCIAL\")).drop(\"INCTOT\", \"SECTOR\", \"METAREA\", \"SERIAL\",\"YEAR\",\"OCC2010\")\n",
    "financial_jobs = financial_jobs.pivot(\"SEX\", \"RACE\").relabel(\"1\", \"MALE\"). relabel(\"2\", \"FEMALE\")\n",
    "financial_jobs.barh('RACE')"
   ]
  },
  {
   "cell_type": "code",
   "execution_count": null,
   "metadata": {},
   "outputs": [],
   "source": [
    "stemmanager_jobs = with_race.where(\"SECTOR\", are.equal_to(\"STEM MANAGER\")).drop(\"INCTOT\", \"SECTOR\", \"METAREA\", \"SERIAL\",\"YEAR\",\"OCC2010\")\n",
    "stemmanager_jobs = stemmanager_jobs.pivot(\"SEX\", \"RACE\").relabel(\"1\", \"MALE\"). relabel(\"2\", \"FEMALE\")\n",
    "stemmanager_jobs.barh('RACE')"
   ]
  },
  {
   "cell_type": "code",
   "execution_count": null,
   "metadata": {},
   "outputs": [],
   "source": [
    "administrator_jobs = with_race.where(\"SECTOR\", are.equal_to(\"ADMINISTRATOR\")).drop(\"INCTOT\", \"SECTOR\", \"METAREA\", \"SERIAL\",\"YEAR\",\"OCC2010\")\n",
    "administrator_jobs = administrator_jobs.pivot(\"SEX\", \"RACE\").relabel(\"1\", \"MALE\"). relabel(\"2\", \"FEMALE\")\n",
    "administrator_jobs.barh('RACE')"
   ]
  },
  {
   "cell_type": "markdown",
   "metadata": {
    "collapsed": true
   },
   "source": [
    "By looking at the average mean of each part of the sample, we see some differences. "
   ]
  },
  {
   "cell_type": "code",
   "execution_count": null,
   "metadata": {},
   "outputs": [],
   "source": [
    "men_income= with_race.where(\"SEX\", are.equal_to(1)).column(6)\n",
    "np.mean(men_income)"
   ]
  },
  {
   "cell_type": "code",
   "execution_count": null,
   "metadata": {},
   "outputs": [],
   "source": [
    "white_men_income=with_sector.where(\"SEX\", are.equal_to(1)).where(\"RACE\", are.equal_to(100)).column(6)\n",
    "np.mean(white_men_income)"
   ]
  },
  {
   "cell_type": "code",
   "execution_count": null,
   "metadata": {},
   "outputs": [],
   "source": [
    "women_income= with_sector.where(\"SEX\", are.equal_to(2)).column(6)\n",
    "np.mean(women_income)"
   ]
  },
  {
   "cell_type": "code",
   "execution_count": null,
   "metadata": {},
   "outputs": [],
   "source": [
    "white_women_income=with_sector.where(\"RACE\", are.equal_to(100)).where(\"SEX\", are.equal_to(2)).column(6)\n",
    "np.mean(white_women_income)"
   ]
  },
  {
   "cell_type": "markdown",
   "metadata": {},
   "source": [
    "This type of comparison isn't very reliable. We will perform a p-value test to determine if the change of income across races/ sex is statistically significant. To do this we first need to bootstrap our sample to make a 95% confidnece interval of the estimated population mean. "
   ]
  },
  {
   "cell_type": "code",
   "execution_count": null,
   "metadata": {
    "collapsed": true
   },
   "outputs": [],
   "source": [
    "def bootstrap_median(original_sample, label, replications):\n",
    "    \"\"\"Returns an array of bootstrapped sample medians:\n",
    "    original_sample: table containing the original sample\n",
    "    label: label of column containing the variable\n",
    "    replications: number of bootstrap samples\n",
    "    \"\"\"\n",
    "    just_one_column = original_sample.select(label)\n",
    "    medians = make_array()\n",
    "    for i in np.arange(replications):\n",
    "        bootstrap_sample = just_one_column.sample()\n",
    "        resampled_median = percentile(50, bootstrap_sample.column(0))\n",
    "        medians = np.append(medians, resampled_median)\n",
    "\n",
    "    return medians"
   ]
  },
  {
   "cell_type": "code",
   "execution_count": null,
   "metadata": {},
   "outputs": [],
   "source": [
    "all_income_medians= bootstrap_median(with_sector, \"INCTOT\", 1000)\n",
    "l_all_income_medians = percentile(2.5, all_income_medians)\n",
    "r_all_income_medians = percentile(97.5, all_income_medians)\n",
    "make_array(l_all_income_medians, r_all_income_medians)\n"
   ]
  },
  {
   "cell_type": "code",
   "execution_count": null,
   "metadata": {
    "collapsed": true
   },
   "outputs": [],
   "source": [
    "men=with_sector.where(\"SEX\", are.equal_to(1))\n",
    "men_medians= bootstrap_median(men, \"INCTOT\", 1000)\n",
    "leftmen = percentile(2.5, men_medians)\n",
    "rightmen = percentile(97.5, men_medians)\n",
    "menCI= make_array(leftmen, rightmen)\n",
    "\n",
    "women=with_sector.where(\"SEX\", are.equal_to(2))\n",
    "women_medians= bootstrap_median(women, \"INCTOT\", 1000)\n",
    "leftwomen = percentile(2.5, women_medians)\n",
    "rightwomen = percentile(97.5, women_medians)\n",
    "womenCI= make_array(leftwomen, rightwomen)\n",
    "\n",
    "white_men=men.where(\"RACE\", are.equal_to(100))\n",
    "white_men_medians= bootstrap_median(white_men, \"INCTOT\", 1000)\n",
    "leftwhite_men = percentile(2.5,white_men_medians)\n",
    "rightwhite_men = percentile(97.5, white_men_medians)\n",
    "white_menCI= make_array(leftwhite_men, rightwhite_men)\n",
    "\n",
    "white_women=women.where(\"RACE\", are.equal_to(100))\n",
    "white_women_medians= bootstrap_median(white_women, \"INCTOT\", 1000)\n",
    "leftwhite_women = percentile(2.5, white_women_medians)\n",
    "rightwhite_women = percentile(97.5, white_women_medians)\n",
    "white_womenCI= make_array(leftwhite_women, rightwhite_women)\n",
    "\n",
    "black_men=men.where(\"RACE\", are.equal_to(200))\n",
    "black_men_medians= bootstrap_median(black_men, \"INCTOT\", 1000)\n",
    "leftblack_men = percentile(2.5, black_men_medians)\n",
    "rightblack_men = percentile(97.5, black_men_medians)\n",
    "black_menCI= make_array(leftblack_men, rightblack_men)\n",
    "\n",
    "black_women=women.where(\"RACE\", are.equal_to(200))\n",
    "black_women_medians= bootstrap_median(black_women, \"INCTOT\", 1000)\n",
    "leftblack_women = percentile(2.5, black_women_medians)\n",
    "rightblack_women = percentile(97.5, black_women_medians)\n",
    "black_womenCI= make_array(leftblack_women, rightblack_women)\n",
    "\n",
    "asian_men=men.where(\"RACE\", are.equal_to(651))\n",
    "asian_men_medians= bootstrap_median(asian_men, \"INCTOT\", 1000)\n",
    "leftasian_men = percentile(2.5, asian_men_medians)\n",
    "rightasian_men = percentile(97.5, asian_men_medians)\n",
    "asian_menCI= make_array(leftasian_men, rightasian_men)\n",
    "\n",
    "asian_women=women.where(\"RACE\", are.equal_to(651))\n",
    "asian_women_medians= bootstrap_median(asian_women, \"INCTOT\", 1000)\n",
    "leftasian_women = percentile(2.5, asian_women_medians)\n",
    "rightasian_women = percentile(97.5, asian_women_medians)\n",
    "asian_womenCI= make_array(leftasian_women, rightasian_women)\n",
    "\n",
    "other_men=men.where(\"RACE\", are.above(651))\n",
    "other_men_medians= bootstrap_median(other_men, \"INCTOT\", 1000)\n",
    "leftother_men = percentile(2.5, other_men_medians)\n",
    "rightother_men = percentile(97.5, other_men_medians)\n",
    "other_menCI= make_array(leftother_men, rightother_men)\n",
    "\n",
    "other_women=women.where(\"RACE\", are.above(651))\n",
    "other_women_medians= bootstrap_median(other_women, \"INCTOT\", 1000)\n",
    "leftother_women = percentile(2.5, other_women_medians)\n",
    "rightother_women = percentile(97.5, other_women_medians)\n",
    "other_womenCI= make_array(leftother_women, rightother_women)\n"
   ]
  },
  {
   "cell_type": "code",
   "execution_count": null,
   "metadata": {},
   "outputs": [],
   "source": [
    "print(\"For men, the median 95% Confidence Interval is\", menCI)\n",
    "print(\"For women, the median 95% Confidence Interval is\", womenCI)\n",
    "print(\"For White men, the median 95% Confidence Interval is\", white_menCI)\n",
    "print(\"For White women, the median 95% Confidence Interval is\", white_womenCI)\n",
    "print(\"For Black men, the median 95% Confidence Interval is\", black_menCI)\n",
    "print(\"For Black women, the median 95% Confidence Interval is\", black_womenCI)\n",
    "print(\"For Asian PI men, the median 95% Confidence Interval is\", asian_menCI)\n",
    "print(\"For Asian PI women, the median 95% Confidence Interval is\", asian_womenCI)\n",
    "print(\"For men of other races, the median 95% Confidence Interval is\", other_menCI)\n",
    "print(\"For women of other races, the median 95% Confidence Interval is\", other_womenCI)"
   ]
  },
  {
   "cell_type": "code",
   "execution_count": null,
   "metadata": {},
   "outputs": [],
   "source": [
    "plots.plot(menCI, make_array(1, 1), color='yellow', lw=10)\n",
    "plots.plot(womenCI, make_array(2, 2), color='lavender', lw=10)\n",
    "plots.plot(white_menCI, make_array(0, 0), color='pink', lw=8)\n",
    "plots.plot(white_womenCI, make_array(3, 3), color='b', lw=8)\n",
    "plots.plot(black_menCI, make_array(4, 4), color='g', lw=8)\n",
    "plots.plot(black_womenCI, make_array(5, 5), color='grey', lw=8)\n",
    "plots.plot(asian_menCI, make_array(6,6), color='black', lw=8)\n",
    "plots.plot(asian_womenCI, make_array(7, 7), color='lightblue', lw=8)\n",
    "plots.plot(other_menCI, make_array(8, 8), color='orange', lw=8)\n",
    "plots.plot(other_womenCI, make_array(9, 9), color='navy', lw=8)"
   ]
  },
  {
   "cell_type": "markdown",
   "metadata": {},
   "source": [
    "Markdown about the variance of CI dependent on sample size but differences are low key clear. "
   ]
  },
  {
   "cell_type": "markdown",
   "metadata": {},
   "source": [
    "p-value tests\n",
    "According to these 95% confidence intervals, the median for . . . is statistically significant . . . "
   ]
  },
  {
   "cell_type": "code",
   "execution_count": null,
   "metadata": {
    "collapsed": true
   },
   "outputs": [],
   "source": []
  }
 ],
 "metadata": {
  "anaconda-cloud": {},
  "kernelspec": {
   "display_name": "Python 3",
   "language": "python",
   "name": "python3"
  },
  "language_info": {
   "codemirror_mode": {
    "name": "ipython",
    "version": 3
   },
   "file_extension": ".py",
   "mimetype": "text/x-python",
   "name": "python",
   "nbconvert_exporter": "python",
   "pygments_lexer": "ipython3",
   "version": "3.6.1"
  }
 },
 "nbformat": 4,
 "nbformat_minor": 2
}
