{
 "cells": [
  {
   "cell_type": "code",
   "execution_count": 2,
   "metadata": {},
   "outputs": [],
   "source": [
    "from datascience import *\n",
    "import numpy as np\n",
    "import math"
   ]
  },
  {
   "cell_type": "code",
   "execution_count": 24,
   "metadata": {},
   "outputs": [],
   "source": [
    "UCB_data = Table.read_table('UCOP.csv')\n",
    "professors = UCB_data.where(\"Title\", are.equal_to(\"PROF-AY\"))"
   ]
  },
  {
   "cell_type": "code",
   "execution_count": 36,
   "metadata": {},
   "outputs": [
    {
     "data": {
      "text/html": [
       "<table border=\"1\" class=\"dataframe\">\n",
       "    <thead>\n",
       "        <tr>\n",
       "            <th>First Name</th> <th>Last Name</th> <th>Title</th> <th>Gross Pay</th>\n",
       "        </tr>\n",
       "    </thead>\n",
       "    <tbody>\n",
       "        <tr>\n",
       "            <td> ALLISON   </td> <td>LILJEDAHL</td> <td>EHS SPEC 4         </td> <td>99998    </td>\n",
       "        </tr>\n",
       "    </tbody>\n",
       "        <tr>\n",
       "            <td>*****      </td> <td>*****    </td> <td>GSR-PARTIAL FEE REM</td> <td>9999     </td>\n",
       "        </tr>\n",
       "    </tbody>\n",
       "        <tr>\n",
       "            <td> PATRICIA  </td> <td>CRAWFORD </td> <td>SPECIALIST COOP EXT</td> <td>99983    </td>\n",
       "        </tr>\n",
       "    </tbody>\n",
       "        <tr>\n",
       "            <td> CAROL     </td> <td>SIRNEY   </td> <td>ADMIN OFCR 3       </td> <td>99980    </td>\n",
       "        </tr>\n",
       "    </tbody>\n",
       "        <tr>\n",
       "            <td>*****      </td> <td>*****    </td> <td>LAB AST 2          </td> <td>9998     </td>\n",
       "        </tr>\n",
       "    </tbody>\n",
       "        <tr>\n",
       "            <td> MARY      </td> <td>COCOMA   </td> <td>FUNDRAISING MGR 1  </td> <td>99979    </td>\n",
       "        </tr>\n",
       "    </tbody>\n",
       "        <tr>\n",
       "            <td> ADAM      </td> <td>GERMEK   </td> <td>SYS ADM 3          </td> <td>99978    </td>\n",
       "        </tr>\n",
       "    </tbody>\n",
       "        <tr>\n",
       "            <td> DAVID     </td> <td>ROMPS    </td> <td>ASST PROF-AY       </td> <td>99974    </td>\n",
       "        </tr>\n",
       "    </tbody>\n",
       "        <tr>\n",
       "            <td> KATHERINE </td> <td>RINNE    </td> <td>LECT-AY-1/9        </td> <td>9997     </td>\n",
       "        </tr>\n",
       "    </tbody>\n",
       "        <tr>\n",
       "            <td> MARGUERITE</td> <td>JACOBS   </td> <td>BLANK AST 2        </td> <td>9997     </td>\n",
       "        </tr>\n",
       "    </tbody>\n",
       "</table>\n",
       "<p>... (35363 rows omitted)</p"
      ],
      "text/plain": [
       "First Name  | Last Name | Title               | Gross Pay\n",
       " ALLISON    | LILJEDAHL | EHS SPEC 4          | 99998\n",
       "*****       | *****     | GSR-PARTIAL FEE REM | 9999\n",
       " PATRICIA   | CRAWFORD  | SPECIALIST COOP EXT | 99983\n",
       " CAROL      | SIRNEY    | ADMIN OFCR 3        | 99980\n",
       "*****       | *****     | LAB AST 2           | 9998\n",
       " MARY       | COCOMA    | FUNDRAISING MGR 1   | 99979\n",
       " ADAM       | GERMEK    | SYS ADM 3           | 99978\n",
       " DAVID      | ROMPS     | ASST PROF-AY        | 99974\n",
       " KATHERINE  | RINNE     | LECT-AY-1/9         | 9997\n",
       " MARGUERITE | JACOBS    | BLANK AST 2         | 9997\n",
       "... (35363 rows omitted)"
      ]
     },
     "execution_count": 36,
     "metadata": {},
     "output_type": "execute_result"
    }
   ],
   "source": [
    "UCB_data.select(2,3,4,5)"
   ]
  },
  {
   "cell_type": "code",
   "execution_count": 26,
   "metadata": {},
   "outputs": [
    {
     "data": {
      "text/html": [
       "<table border=\"1\" class=\"dataframe\">\n",
       "    <thead>\n",
       "        <tr>\n",
       "            <th>Year</th> <th>Location</th> <th>First Name</th> <th>Last Name</th> <th>Title</th> <th> Gross Pay </th> <th>Regular Pay</th> <th>Overtime Pay</th> <th>Other Pay</th>\n",
       "        </tr>\n",
       "    </thead>\n",
       "    <tbody>\n",
       "        <tr>\n",
       "            <td>2015</td> <td>Berkeley</td> <td> MILTON   </td> <td>AZEVEDO  </td> <td>PROF-AY</td> <td> 99,275    </td> <td>99,275     </td> <td>0           </td> <td>0        </td>\n",
       "        </tr>\n",
       "    </tbody>\n",
       "        <tr>\n",
       "            <td>2015</td> <td>Berkeley</td> <td> MICHAEL  </td> <td>MARLETTA </td> <td>PROF-AY</td> <td> 98,542    </td> <td>98,542     </td> <td>0           </td> <td>0        </td>\n",
       "        </tr>\n",
       "    </tbody>\n",
       "        <tr>\n",
       "            <td>2015</td> <td>Berkeley</td> <td> ROY      </td> <td>CALDWELL </td> <td>PROF-AY</td> <td> 92,496    </td> <td>92,496     </td> <td>0           </td> <td>0        </td>\n",
       "        </tr>\n",
       "    </tbody>\n",
       "        <tr>\n",
       "            <td>2015</td> <td>Berkeley</td> <td> ELIZABETH</td> <td>DEAKIN   </td> <td>PROF-AY</td> <td> 91,985    </td> <td>70,067     </td> <td>0           </td> <td>21,918   </td>\n",
       "        </tr>\n",
       "    </tbody>\n",
       "        <tr>\n",
       "            <td>2015</td> <td>Berkeley</td> <td> YASUNORI </td> <td>NOMURA   </td> <td>PROF-AY</td> <td> 91,673    </td> <td>64,875     </td> <td>0           </td> <td>26,798   </td>\n",
       "        </tr>\n",
       "    </tbody>\n",
       "        <tr>\n",
       "            <td>2015</td> <td>Berkeley</td> <td> STEVEN   </td> <td>LEHMAN   </td> <td>PROF-AY</td> <td> 9,491     </td> <td>9,491      </td> <td>0           </td> <td>0        </td>\n",
       "        </tr>\n",
       "    </tbody>\n",
       "        <tr>\n",
       "            <td>2015</td> <td>Berkeley</td> <td> CHARLAN  </td> <td>NEMETH   </td> <td>PROF-AY</td> <td> 89,076    </td> <td>89,076     </td> <td>0           </td> <td>0        </td>\n",
       "        </tr>\n",
       "    </tbody>\n",
       "        <tr>\n",
       "            <td>2015</td> <td>Berkeley</td> <td> DANA     </td> <td>BUNTROCK </td> <td>PROF-AY</td> <td> 88,801    </td> <td>88,801     </td> <td>0           </td> <td>0        </td>\n",
       "        </tr>\n",
       "    </tbody>\n",
       "        <tr>\n",
       "            <td>2015</td> <td>Berkeley</td> <td> MARK     </td> <td>DANNER   </td> <td>PROF-AY</td> <td> 87,558    </td> <td>66,550     </td> <td>0           </td> <td>21,008   </td>\n",
       "        </tr>\n",
       "    </tbody>\n",
       "        <tr>\n",
       "            <td>2015</td> <td>Berkeley</td> <td> ARTHUR   </td> <td>SHIMAMURA</td> <td>PROF-AY</td> <td> 86,963    </td> <td>78,992     </td> <td>0           </td> <td>7,971    </td>\n",
       "        </tr>\n",
       "    </tbody>\n",
       "</table>\n",
       "<p>... (549 rows omitted)</p"
      ],
      "text/plain": [
       "Year | Location | First Name | Last Name | Title   |  Gross Pay  | Regular Pay | Overtime Pay | Other Pay\n",
       "2015 | Berkeley |  MILTON    | AZEVEDO   | PROF-AY |  99,275     | 99,275      | 0            | 0\n",
       "2015 | Berkeley |  MICHAEL   | MARLETTA  | PROF-AY |  98,542     | 98,542      | 0            | 0\n",
       "2015 | Berkeley |  ROY       | CALDWELL  | PROF-AY |  92,496     | 92,496      | 0            | 0\n",
       "2015 | Berkeley |  ELIZABETH | DEAKIN    | PROF-AY |  91,985     | 70,067      | 0            | 21,918\n",
       "2015 | Berkeley |  YASUNORI  | NOMURA    | PROF-AY |  91,673     | 64,875      | 0            | 26,798\n",
       "2015 | Berkeley |  STEVEN    | LEHMAN    | PROF-AY |  9,491      | 9,491       | 0            | 0\n",
       "2015 | Berkeley |  CHARLAN   | NEMETH    | PROF-AY |  89,076     | 89,076      | 0            | 0\n",
       "2015 | Berkeley |  DANA      | BUNTROCK  | PROF-AY |  88,801     | 88,801      | 0            | 0\n",
       "2015 | Berkeley |  MARK      | DANNER    | PROF-AY |  87,558     | 66,550      | 0            | 21,008\n",
       "2015 | Berkeley |  ARTHUR    | SHIMAMURA | PROF-AY |  86,963     | 78,992      | 0            | 7,971\n",
       "... (549 rows omitted)"
      ]
     },
     "execution_count": 26,
     "metadata": {},
     "output_type": "execute_result"
    }
   ],
   "source": [
    "professors.sort(' Gross Pay ', descending=True)"
   ]
  },
  {
   "cell_type": "code",
   "execution_count": null,
   "metadata": {
    "collapsed": true
   },
   "outputs": [],
   "source": [
    "U"
   ]
  }
 ],
 "metadata": {
  "kernelspec": {
   "display_name": "Python 3",
   "language": "python",
   "name": "python3"
  },
  "language_info": {
   "codemirror_mode": {
    "name": "ipython",
    "version": 3
   },
   "file_extension": ".py",
   "mimetype": "text/x-python",
   "name": "python",
   "nbconvert_exporter": "python",
   "pygments_lexer": "ipython3",
   "version": "3.6.1"
  }
 },
 "nbformat": 4,
 "nbformat_minor": 2
}
