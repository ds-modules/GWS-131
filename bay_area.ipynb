{
 "cells": [
  {
   "cell_type": "code",
   "execution_count": null,
   "metadata": {
    "collapsed": true
   },
   "outputs": [],
   "source": [
    "from datascience import *\n",
    "import numpy as np\n",
    "import math\n",
    "%matplotlib inline"
   ]
  },
  {
   "cell_type": "code",
   "execution_count": null,
   "metadata": {
    "collapsed": true
   },
   "outputs": [],
   "source": [
    "# old cleaning process to generate bay_area_data.csv\n",
    "# data = Table().read_table('data/cps_00002.csv')"
   ]
  },
  {
   "cell_type": "code",
   "execution_count": null,
   "metadata": {
    "collapsed": true
   },
   "outputs": [],
   "source": [
    "# extract San Francisco Metropolitan Area\n",
    "#sf = data.where('METAREA', are.equal_to(7365))"
   ]
  },
  {
   "cell_type": "code",
   "execution_count": null,
   "metadata": {
    "collapsed": true
   },
   "outputs": [],
   "source": [
    "# Extract Silicon Valley/San Jose Metropolitan Area\n",
    "#sv = data.where('METAREA', are.equal_to(7401))"
   ]
  },
  {
   "cell_type": "code",
   "execution_count": null,
   "metadata": {
    "collapsed": true
   },
   "outputs": [],
   "source": [
    "# bay_area = sf.append(sv)"
   ]
  },
  {
   "cell_type": "code",
   "execution_count": null,
   "metadata": {
    "collapsed": true
   },
   "outputs": [],
   "source": [
    "# bay_area.to_df().to_csv('bay_area_data.csv', index=False)"
   ]
  },
  {
   "cell_type": "code",
   "execution_count": null,
   "metadata": {},
   "outputs": [],
   "source": [
    "bay_area = Table().read_table('data/bay_area_data.csv')\n",
    "bay_area"
   ]
  },
  {
   "cell_type": "code",
   "execution_count": null,
   "metadata": {},
   "outputs": [],
   "source": [
    "# check to confirm that values are ints\n",
    "type(bay_area.column(13).item(3))"
   ]
  },
  {
   "cell_type": "markdown",
   "metadata": {},
   "source": [
    "Trying to make new table with only relevant jobs, then add corresponding Job Categories."
   ]
  },
  {
   "cell_type": "code",
   "execution_count": null,
   "metadata": {},
   "outputs": [],
   "source": [
    "# array of all relevant job codes\n",
    "# matching job categories are in Occupations spreadsheet in Google Drive\n",
    "job_codes = make_array(10, 20, 30, 100, 110, 120, 130, 140, 150, 160, 220, 300, 310, 330, 350, 360, 410, 420,\n",
    "                      620, 700, 710, 720, 730, 800, 820, 940, 950, 1000, 1010, 1020, 1050, 1060, 1100, 1200, 1220,\n",
    "                       1230, 1240, 1350, 1360, 1400, 1410, 1420, 1430, 1450, 1460, 1540, 1550, 1720, 1910, 1920,\n",
    "                       1980, 2840, 2900, 4000, 4010, 4030, 4050, 4060, 4110, 4120, 4130, 4140, 4150, 4200, 4210,\n",
    "                       4220, 4230, 4250, 4720, 5000, 7720, 7730, 7900, 8000, 8010, 8030, 8060, 8800, 8830, 7700,\n",
    "                       9620, 9630, 9640)\n",
    "job_codes"
   ]
  },
  {
   "cell_type": "code",
   "execution_count": null,
   "metadata": {},
   "outputs": [],
   "source": [
    "jobs = Table().with_column('Jobs', job_codes)\n",
    "jobs"
   ]
  },
  {
   "cell_type": "code",
   "execution_count": null,
   "metadata": {},
   "outputs": [],
   "source": [
    "import pandas as pd\n",
    "\n",
    "df = bay_area.to_df()\n",
    "bay_area = Table.from_df(df.loc[df['OCC2010'].isin(job_codes)])\n",
    "bay_area"
   ]
  },
  {
   "cell_type": "code",
   "execution_count": null,
   "metadata": {},
   "outputs": [],
   "source": [
    "cut_bay_area= bay_area.drop(\"CPSID\",\"ASECFLAG\",\"HWTSUPP\", \"HFLAG\", \"MONTH\", \"PERNUM\", \"CPSIDP\",\"WTSUPP\")\n",
    "cut_bay_area"
   ]
  },
  {
   "cell_type": "code",
   "execution_count": null,
   "metadata": {},
   "outputs": [],
   "source": [
    "STEM_codes= make_array(700, 1000, 1010, 1020, 1050, 1220, 1230, 1240, 1350, 1360, 1400, 1410, 1420, 1430,\n",
    "    1450,1460, 1540, 1550, 1720, 1910, 1920, 1980,2840, 2900,7720, 7730, 7900, 8000, 8010,8030,\n",
    "    8060, 8800, 8830)\n",
    "SERVICE_codes= make_array(7700, 9620, 9630, 9640, 4000, 4010, 4030, 4050, 4060, 4110, 4120, 4130, 4140, 4150, 4720, \n",
    "    7700,9620,9630,9640)\n",
    "FINANCIAL_codes= make_array(120, 800, 820, 940, 950)\n",
    "CUSTODIAL_codes= make_array(4200, 4210, 4220, 4230, 4250)\n",
    "MANAGEMENT_codes= make_array(130, 150, 160, 220, 30, 100, 410, 420)\n",
    "STEM_MANAGER_codes=make_array(140,300,330, 350, 360, 1060, 1100)\n",
    "ADMINISTRATOR_codes= make_array(10,20)\n",
    "sector=list()\n",
    "def job_categories2(x): \n",
    "    if any(x == i for i in STEM_codes):\n",
    "        sector.append(\"STEM\")\n",
    "    elif any(x == i for i in SERVICE_codes):\n",
    "        sector.append(\"SERVICE\")\n",
    "    elif any(x == i for i in FINANCIAL_codes):\n",
    "        sector.append(\"FINANCIAL\")\n",
    "    elif any(x == i for i in CUSTODIAL_codes):\n",
    "        sector.append(\"CUSTODIAL\")\n",
    "    elif any(x == i for i in MANAGEMENT_codes):\n",
    "        sector.append(\"MANAGEMENT\")\n",
    "    elif any(x == i for i in ADMINISTRATOR_codes):\n",
    "        sector.append(\"ADMINISTRATOR\")\n",
    "    elif any(x == i for i in STEM_MANAGER_codes):\n",
    "        sector.append(\"STEM MANAGER\")\n",
    "    else: \n",
    "        sector.append(\"UNKNOWN\")\n",
    "\n",
    "\n",
    "for job in cut_bay_area.column(\"OCC2010\"):\n",
    "    job_categories2(job)\n",
    "    \n",
    "sector"
   ]
  },
  {
   "cell_type": "code",
   "execution_count": null,
   "metadata": {},
   "outputs": [],
   "source": [
    "#sector_df = sector.to_df\n",
    "with_sector = cut_bay_area.with_column('SECTOR', sector)\n",
    "men_sector= with_sector.where(\"SEX\", are.equal_to(\"1\"))\n",
    "men_scatter=men_sector.scatter(\"INCTOT\", \"RACE\")\n",
    "women_sector=with_sector.where(\"SEX\", are.equal_to(\"2\"))\n",
    "women_scatter=women_sector.scatter(\"INCTOT\", \"RACE\")"
   ]
  },
  {
   "cell_type": "code",
   "execution_count": null,
   "metadata": {},
   "outputs": [],
   "source": [
    "management_jobs=with_sector.where(\"SECTOR\", are.equal_to(\"MANAGEMENT\"))\n",
    "women_in_management=management_jobs.where(\"SEX\", are.equal_to(\"2\")).barh(\"SEX\", \"RACE\")\n",
    "men_in_management=management_jobs.where(\"SEX\", are.equal_to(\"1\")).barh(\"SEX\", \"RACE\")\n"
   ]
  },
  {
   "cell_type": "code",
   "execution_count": null,
   "metadata": {},
   "outputs": [],
   "source": [
    "stem_jobs=with_sector.where(\"SECTOR\", are.equal_to(\"STEM\"))\n",
    "stem_jobs"
   ]
  },
  {
   "cell_type": "code",
   "execution_count": null,
   "metadata": {},
   "outputs": [],
   "source": [
    "custodial_jobs=with_sector.where(\"SECTOR\", are.equal_to(\"CUSTODIAL\"))\n",
    "custodial_jobs"
   ]
  },
  {
   "cell_type": "code",
   "execution_count": null,
   "metadata": {},
   "outputs": [],
   "source": [
    "service_jobs=with_sector.where(\"SECTOR\", are.equal_to(\"SERVICE\"))\n",
    "service_jobs"
   ]
  },
  {
   "cell_type": "code",
   "execution_count": null,
   "metadata": {},
   "outputs": [],
   "source": [
    "financial_jobs=with_sector.where(\"SECTOR\", are.equal_to(\"FINANCIAL\"))\n",
    "financial_jobs"
   ]
  },
  {
   "cell_type": "code",
   "execution_count": null,
   "metadata": {},
   "outputs": [],
   "source": [
    "stemmanager_jobs=with_sector.where(\"SECTOR\", are.equal_to(\"STEM MANAGER\"))\n",
    "stemmanager_jobs"
   ]
  },
  {
   "cell_type": "code",
   "execution_count": null,
   "metadata": {},
   "outputs": [],
   "source": [
    "administrator_jobs=with_sector.where(\"SECTOR\", are.equal_to(\"ADMINISTRATOR\"))\n",
    "administrator_jobs"
   ]
  },
  {
   "cell_type": "code",
   "execution_count": null,
   "metadata": {},
   "outputs": [],
   "source": [
    "management_jobs.barh(\"SEX\")"
   ]
  },
  {
   "cell_type": "code",
   "execution_count": null,
   "metadata": {
    "collapsed": true
   },
   "outputs": [],
   "source": []
  },
  {
   "cell_type": "code",
   "execution_count": null,
   "metadata": {
    "collapsed": true
   },
   "outputs": [],
   "source": []
  }
 ],
 "metadata": {
  "anaconda-cloud": {},
  "kernelspec": {
   "display_name": "Python 3",
   "language": "python",
   "name": "python3"
  },
  "language_info": {
   "codemirror_mode": {
    "name": "ipython",
    "version": 3
   },
   "file_extension": ".py",
   "mimetype": "text/x-python",
   "name": "python",
   "nbconvert_exporter": "python",
   "pygments_lexer": "ipython3",
   "version": "3.6.1"
  }
 },
 "nbformat": 4,
 "nbformat_minor": 2
}
