{
 "cells": [
  {
   "cell_type": "code",
   "execution_count": 1,
   "metadata": {
    "collapsed": true
   },
   "outputs": [],
   "source": [
    "from datascience import *\n",
    "import numpy as np\n",
    "import math\n",
    "%matplotlib inline"
   ]
  },
  {
   "cell_type": "code",
   "execution_count": 2,
   "metadata": {
    "collapsed": true
   },
   "outputs": [],
   "source": [
    "# no longer relevant\n",
    "# old cleaning process to generate bay_area_data.csv\n",
    "# data = Table().read_table('data/cps_00002.csv')"
   ]
  },
  {
   "cell_type": "code",
   "execution_count": 3,
   "metadata": {
    "collapsed": true
   },
   "outputs": [],
   "source": [
    "# extract San Francisco Metropolitan Area\n",
    "# sf = data.where('METAREA', are.equal_to(7365))"
   ]
  },
  {
   "cell_type": "code",
   "execution_count": 4,
   "metadata": {
    "collapsed": true
   },
   "outputs": [],
   "source": [
    "# Extract Silicon Valley/San Jose Metropolitan Area\n",
    "# sv = data.where('METAREA', are.equal_to(7401))"
   ]
  },
  {
   "cell_type": "code",
   "execution_count": 5,
   "metadata": {
    "collapsed": true
   },
   "outputs": [],
   "source": [
    "# bay_area = sf.append(sv)"
   ]
  },
  {
   "cell_type": "code",
   "execution_count": 6,
   "metadata": {
    "collapsed": true
   },
   "outputs": [],
   "source": [
    "# bay_area.to_df().to_csv('bay_area_data.csv', index=False)"
   ]
  },
  {
   "cell_type": "code",
   "execution_count": 7,
   "metadata": {
    "collapsed": false
   },
   "outputs": [
    {
     "data": {
      "text/html": [
       "<table border=\"1\" class=\"dataframe\">\n",
       "    <thead>\n",
       "        <tr>\n",
       "            <th>YEAR</th> <th>SERIAL</th> <th>HWTSUPP</th> <th>CPSID</th> <th>ASECFLAG</th> <th>HFLAG</th> <th>METAREA</th> <th>MONTH</th> <th>PERNUM</th> <th>CPSIDP</th> <th>WTSUPP</th> <th>SEX</th> <th>RACE</th> <th>OCC2010</th> <th>INCTOT</th>\n",
       "        </tr>\n",
       "    </thead>\n",
       "    <tbody>\n",
       "        <tr>\n",
       "            <td>2013</td> <td>92957 </td> <td>2862.21</td> <td>2.01112e+13</td> <td>1       </td> <td>nan  </td> <td>7365   </td> <td>3    </td> <td>1     </td> <td>2.01112e+13</td> <td>2862.21</td> <td>1   </td> <td>100 </td> <td>9620   </td> <td>25000   </td>\n",
       "        </tr>\n",
       "    </tbody>\n",
       "        <tr>\n",
       "            <td>2013</td> <td>92957 </td> <td>2862.21</td> <td>2.01112e+13</td> <td>1       </td> <td>nan  </td> <td>7365   </td> <td>3    </td> <td>2     </td> <td>2.01112e+13</td> <td>4541.27</td> <td>1   </td> <td>100 </td> <td>6260   </td> <td>12011   </td>\n",
       "        </tr>\n",
       "    </tbody>\n",
       "        <tr>\n",
       "            <td>2013</td> <td>92957 </td> <td>2862.21</td> <td>2.01112e+13</td> <td>1       </td> <td>nan  </td> <td>7365   </td> <td>3    </td> <td>3     </td> <td>2.01112e+13</td> <td>4513.16</td> <td>1   </td> <td>100 </td> <td>6420   </td> <td>25000   </td>\n",
       "        </tr>\n",
       "    </tbody>\n",
       "        <tr>\n",
       "            <td>2013</td> <td>92957 </td> <td>2862.21</td> <td>2.01112e+13</td> <td>1       </td> <td>nan  </td> <td>7365   </td> <td>3    </td> <td>4     </td> <td>2.01112e+13</td> <td>4513.16</td> <td>1   </td> <td>100 </td> <td>9130   </td> <td>10000   </td>\n",
       "        </tr>\n",
       "    </tbody>\n",
       "        <tr>\n",
       "            <td>2013</td> <td>92959 </td> <td>2385.98</td> <td>2.01212e+13</td> <td>1       </td> <td>nan  </td> <td>7365   </td> <td>3    </td> <td>1     </td> <td>2.01212e+13</td> <td>2385.98</td> <td>2   </td> <td>652 </td> <td>3530   </td> <td>53515   </td>\n",
       "        </tr>\n",
       "    </tbody>\n",
       "        <tr>\n",
       "            <td>2013</td> <td>92959 </td> <td>2385.98</td> <td>2.01212e+13</td> <td>1       </td> <td>nan  </td> <td>7365   </td> <td>3    </td> <td>2     </td> <td>2.01212e+13</td> <td>2385.98</td> <td>1   </td> <td>652 </td> <td>3110   </td> <td>71000   </td>\n",
       "        </tr>\n",
       "    </tbody>\n",
       "        <tr>\n",
       "            <td>2013</td> <td>92959 </td> <td>2385.98</td> <td>2.01212e+13</td> <td>1       </td> <td>nan  </td> <td>7365   </td> <td>3    </td> <td>3     </td> <td>2.01212e+13</td> <td>1661.4 </td> <td>2   </td> <td>652 </td> <td>9920   </td> <td>99999999</td>\n",
       "        </tr>\n",
       "    </tbody>\n",
       "        <tr>\n",
       "            <td>2013</td> <td>92963 </td> <td>3137.8 </td> <td>2.01112e+13</td> <td>1       </td> <td>nan  </td> <td>7365   </td> <td>3    </td> <td>1     </td> <td>2.01112e+13</td> <td>3137.8 </td> <td>2   </td> <td>100 </td> <td>430    </td> <td>77800   </td>\n",
       "        </tr>\n",
       "    </tbody>\n",
       "        <tr>\n",
       "            <td>2013</td> <td>92963 </td> <td>3137.8 </td> <td>2.01112e+13</td> <td>1       </td> <td>nan  </td> <td>7365   </td> <td>3    </td> <td>2     </td> <td>2.01112e+13</td> <td>3309.68</td> <td>1   </td> <td>100 </td> <td>4620   </td> <td>23520   </td>\n",
       "        </tr>\n",
       "    </tbody>\n",
       "        <tr>\n",
       "            <td>2013</td> <td>92963 </td> <td>3137.8 </td> <td>2.01112e+13</td> <td>1       </td> <td>nan  </td> <td>7365   </td> <td>3    </td> <td>3     </td> <td>2.01112e+13</td> <td>3309.68</td> <td>1   </td> <td>100 </td> <td>4700   </td> <td>14120   </td>\n",
       "        </tr>\n",
       "    </tbody>\n",
       "</table>\n",
       "<p>... (13100 rows omitted)</p"
      ],
      "text/plain": [
       "YEAR | SERIAL | HWTSUPP | CPSID       | ASECFLAG | HFLAG | METAREA | MONTH | PERNUM | CPSIDP      | WTSUPP  | SEX  | RACE | OCC2010 | INCTOT\n",
       "2013 | 92957  | 2862.21 | 2.01112e+13 | 1        | nan   | 7365    | 3     | 1      | 2.01112e+13 | 2862.21 | 1    | 100  | 9620    | 25000\n",
       "2013 | 92957  | 2862.21 | 2.01112e+13 | 1        | nan   | 7365    | 3     | 2      | 2.01112e+13 | 4541.27 | 1    | 100  | 6260    | 12011\n",
       "2013 | 92957  | 2862.21 | 2.01112e+13 | 1        | nan   | 7365    | 3     | 3      | 2.01112e+13 | 4513.16 | 1    | 100  | 6420    | 25000\n",
       "2013 | 92957  | 2862.21 | 2.01112e+13 | 1        | nan   | 7365    | 3     | 4      | 2.01112e+13 | 4513.16 | 1    | 100  | 9130    | 10000\n",
       "2013 | 92959  | 2385.98 | 2.01212e+13 | 1        | nan   | 7365    | 3     | 1      | 2.01212e+13 | 2385.98 | 2    | 652  | 3530    | 53515\n",
       "2013 | 92959  | 2385.98 | 2.01212e+13 | 1        | nan   | 7365    | 3     | 2      | 2.01212e+13 | 2385.98 | 1    | 652  | 3110    | 71000\n",
       "2013 | 92959  | 2385.98 | 2.01212e+13 | 1        | nan   | 7365    | 3     | 3      | 2.01212e+13 | 1661.4  | 2    | 652  | 9920    | 99999999\n",
       "2013 | 92963  | 3137.8  | 2.01112e+13 | 1        | nan   | 7365    | 3     | 1      | 2.01112e+13 | 3137.8  | 2    | 100  | 430     | 77800\n",
       "2013 | 92963  | 3137.8  | 2.01112e+13 | 1        | nan   | 7365    | 3     | 2      | 2.01112e+13 | 3309.68 | 1    | 100  | 4620    | 23520\n",
       "2013 | 92963  | 3137.8  | 2.01112e+13 | 1        | nan   | 7365    | 3     | 3      | 2.01112e+13 | 3309.68 | 1    | 100  | 4700    | 14120\n",
       "... (13100 rows omitted)"
      ]
     },
     "execution_count": 7,
     "metadata": {},
     "output_type": "execute_result"
    }
   ],
   "source": [
    "bay_area = Table().read_table('data/bay_area_data.csv')\n",
    "bay_area"
   ]
  },
  {
   "cell_type": "code",
   "execution_count": 8,
   "metadata": {
    "collapsed": false
   },
   "outputs": [
    {
     "data": {
      "text/plain": [
       "int"
      ]
     },
     "execution_count": 8,
     "metadata": {},
     "output_type": "execute_result"
    }
   ],
   "source": [
    "# check to confirm that values are ints\n",
    "type(bay_area.column(13).item(3))"
   ]
  },
  {
   "cell_type": "markdown",
   "metadata": {},
   "source": [
    "Trying to make new table with only relevant jobs, then add corresponding Job Categories."
   ]
  },
  {
   "cell_type": "code",
   "execution_count": 24,
   "metadata": {
    "collapsed": true
   },
   "outputs": [],
   "source": [
    "# array of all relevant job codes\n",
    "# matching job categories are in Occupations spreadsheet in Google Drive\n",
    "job_codes = make_array(10, 20, 30, 100, 110, 120, 130, 140, 150, 160, 220, 300, 310, 330, 350, 360, 410, 420,\n",
    "                      620, 700, 710, 720, 730, 800, 820, 940, 950, 1000, 1010, 1020, 1050, 1060, 1100, 1200, 1220,\n",
    "                       1230, 1240, 1350, 1360, 1400, 1410, 1420, 1430, 1450, 1460, 1540, 1550, 1720, 1910, 1920,\n",
    "                       1980, 2840, 2900, 4000, 4010, 4030, 4050, 4060, 4110, 4120, 4130, 4140, 4150, 4200, 4210,\n",
    "                       4220, 4230, 4250, 4720, 5000, 7720, 7730, 7900, 8000, 8010, 8030, 8060, 8800, 8830, 7700,\n",
    "                       9620, 9630, 9640)"
   ]
  },
  {
   "cell_type": "code",
   "execution_count": 19,
   "metadata": {
    "collapsed": false
   },
   "outputs": [
    {
     "data": {
      "text/plain": [
       "array([  10,   20,   30,  100,  110,  120,  130,  140,  150,  160,  220,\n",
       "        300,  310,  330,  350,  360,  410,  420,  620,  700,  710,  720,\n",
       "        730,  800,  820,  940,  950, 1000, 1010, 1020, 1050, 1060, 1100,\n",
       "       1200, 1220, 1230, 1240, 1350, 1360, 1400, 1410, 1420, 1430, 1450,\n",
       "       1460, 1540, 1550, 1720, 1910, 1920, 1980, 2840, 2900, 4000, 4010,\n",
       "       4030, 4050, 4060, 4110, 4120, 4130, 4140, 4150, 4200, 4210, 4220,\n",
       "       4230, 4250, 4720, 5000, 7720, 7730, 7900, 8000, 8010, 8030, 8060,\n",
       "       8800, 8830, 7700, 9620, 9630, 9640])"
      ]
     },
     "execution_count": 19,
     "metadata": {},
     "output_type": "execute_result"
    }
   ],
   "source": [
    "job_codes"
   ]
  },
  {
   "cell_type": "code",
   "execution_count": 10,
   "metadata": {
    "collapsed": false
   },
   "outputs": [
    {
     "data": {
      "text/html": [
       "<table border=\"1\" class=\"dataframe\">\n",
       "    <thead>\n",
       "        <tr>\n",
       "            <th>Jobs</th>\n",
       "        </tr>\n",
       "    </thead>\n",
       "    <tbody>\n",
       "        <tr>\n",
       "            <td>10  </td>\n",
       "        </tr>\n",
       "    </tbody>\n",
       "        <tr>\n",
       "            <td>20  </td>\n",
       "        </tr>\n",
       "    </tbody>\n",
       "        <tr>\n",
       "            <td>30  </td>\n",
       "        </tr>\n",
       "    </tbody>\n",
       "        <tr>\n",
       "            <td>100 </td>\n",
       "        </tr>\n",
       "    </tbody>\n",
       "        <tr>\n",
       "            <td>110 </td>\n",
       "        </tr>\n",
       "    </tbody>\n",
       "        <tr>\n",
       "            <td>120 </td>\n",
       "        </tr>\n",
       "    </tbody>\n",
       "        <tr>\n",
       "            <td>130 </td>\n",
       "        </tr>\n",
       "    </tbody>\n",
       "        <tr>\n",
       "            <td>140 </td>\n",
       "        </tr>\n",
       "    </tbody>\n",
       "        <tr>\n",
       "            <td>150 </td>\n",
       "        </tr>\n",
       "    </tbody>\n",
       "        <tr>\n",
       "            <td>160 </td>\n",
       "        </tr>\n",
       "    </tbody>\n",
       "</table>\n",
       "<p>... (73 rows omitted)</p"
      ],
      "text/plain": [
       "Jobs\n",
       "10\n",
       "20\n",
       "30\n",
       "100\n",
       "110\n",
       "120\n",
       "130\n",
       "140\n",
       "150\n",
       "160\n",
       "... (73 rows omitted)"
      ]
     },
     "execution_count": 10,
     "metadata": {},
     "output_type": "execute_result"
    }
   ],
   "source": [
    "jobs = Table().with_column('Jobs', job_codes)\n",
    "jobs"
   ]
  },
  {
   "cell_type": "code",
   "execution_count": 50,
   "metadata": {
    "collapsed": false
   },
   "outputs": [
    {
     "data": {
      "text/html": [
       "<table border=\"1\" class=\"dataframe\">\n",
       "    <thead>\n",
       "        <tr>\n",
       "            <th>YEAR</th> <th>SERIAL</th> <th>HWTSUPP</th> <th>CPSID</th> <th>ASECFLAG</th> <th>HFLAG</th> <th>METAREA</th> <th>MONTH</th> <th>PERNUM</th> <th>CPSIDP</th> <th>WTSUPP</th> <th>SEX</th> <th>RACE</th> <th>OCC2010</th> <th>INCTOT</th>\n",
       "        </tr>\n",
       "    </thead>\n",
       "    <tbody>\n",
       "        <tr>\n",
       "            <td>2013</td> <td>92957 </td> <td>2862.21</td> <td>2.01112e+13</td> <td>1       </td> <td>nan  </td> <td>7365   </td> <td>3    </td> <td>1     </td> <td>2.01112e+13</td> <td>2862.21</td> <td>1   </td> <td>100 </td> <td>9620   </td> <td>25000 </td>\n",
       "        </tr>\n",
       "    </tbody>\n",
       "        <tr>\n",
       "            <td>2013</td> <td>92966 </td> <td>1636.31</td> <td>2.01112e+13</td> <td>1       </td> <td>nan  </td> <td>7365   </td> <td>3    </td> <td>1     </td> <td>2.01112e+13</td> <td>1636.31</td> <td>1   </td> <td>100 </td> <td>220    </td> <td>74645 </td>\n",
       "        </tr>\n",
       "    </tbody>\n",
       "        <tr>\n",
       "            <td>2013</td> <td>92966 </td> <td>1636.31</td> <td>2.01112e+13</td> <td>1       </td> <td>nan  </td> <td>7365   </td> <td>3    </td> <td>3     </td> <td>2.01112e+13</td> <td>1589.28</td> <td>2   </td> <td>100 </td> <td>4110   </td> <td>6240  </td>\n",
       "        </tr>\n",
       "    </tbody>\n",
       "        <tr>\n",
       "            <td>2013</td> <td>92967 </td> <td>3141.2 </td> <td>2.01112e+13</td> <td>1       </td> <td>nan  </td> <td>7365   </td> <td>3    </td> <td>3     </td> <td>2.01112e+13</td> <td>3384.73</td> <td>1   </td> <td>100 </td> <td>1050   </td> <td>0     </td>\n",
       "        </tr>\n",
       "    </tbody>\n",
       "        <tr>\n",
       "            <td>2013</td> <td>92969 </td> <td>3068.09</td> <td>2.01112e+13</td> <td>1       </td> <td>nan  </td> <td>7365   </td> <td>3    </td> <td>1     </td> <td>2.01112e+13</td> <td>3068.09</td> <td>1   </td> <td>100 </td> <td>1410   </td> <td>115421</td>\n",
       "        </tr>\n",
       "    </tbody>\n",
       "        <tr>\n",
       "            <td>2013</td> <td>92970 </td> <td>2892.39</td> <td>2.01112e+13</td> <td>1       </td> <td>nan  </td> <td>7365   </td> <td>3    </td> <td>1     </td> <td>2.01112e+13</td> <td>2892.39</td> <td>1   </td> <td>100 </td> <td>1020   </td> <td>117865</td>\n",
       "        </tr>\n",
       "    </tbody>\n",
       "        <tr>\n",
       "            <td>2013</td> <td>92973 </td> <td>1562.79</td> <td>2.01112e+13</td> <td>1       </td> <td>nan  </td> <td>7365   </td> <td>3    </td> <td>1     </td> <td>2.01112e+13</td> <td>1562.79</td> <td>1   </td> <td>100 </td> <td>4220   </td> <td>29017 </td>\n",
       "        </tr>\n",
       "    </tbody>\n",
       "        <tr>\n",
       "            <td>2013</td> <td>92976 </td> <td>1748.64</td> <td>2.01112e+13</td> <td>1       </td> <td>nan  </td> <td>7365   </td> <td>3    </td> <td>1     </td> <td>2.01112e+13</td> <td>1748.64</td> <td>2   </td> <td>651 </td> <td>350    </td> <td>130030</td>\n",
       "        </tr>\n",
       "    </tbody>\n",
       "        <tr>\n",
       "            <td>2013</td> <td>92980 </td> <td>1684.33</td> <td>2.01112e+13</td> <td>1       </td> <td>nan  </td> <td>7365   </td> <td>3    </td> <td>3     </td> <td>2.01112e+13</td> <td>2157.3 </td> <td>2   </td> <td>651 </td> <td>720    </td> <td>571   </td>\n",
       "        </tr>\n",
       "    </tbody>\n",
       "        <tr>\n",
       "            <td>2013</td> <td>92983 </td> <td>3266.71</td> <td>2.01112e+13</td> <td>1       </td> <td>nan  </td> <td>7365   </td> <td>3    </td> <td>2     </td> <td>2.01112e+13</td> <td>3406.81</td> <td>1   </td> <td>100 </td> <td>9620   </td> <td>19825 </td>\n",
       "        </tr>\n",
       "    </tbody>\n",
       "</table>\n",
       "<p>... (2540 rows omitted)</p"
      ],
      "text/plain": [
       "YEAR | SERIAL | HWTSUPP | CPSID       | ASECFLAG | HFLAG | METAREA | MONTH | PERNUM | CPSIDP      | WTSUPP  | SEX  | RACE | OCC2010 | INCTOT\n",
       "2013 | 92957  | 2862.21 | 2.01112e+13 | 1        | nan   | 7365    | 3     | 1      | 2.01112e+13 | 2862.21 | 1    | 100  | 9620    | 25000\n",
       "2013 | 92966  | 1636.31 | 2.01112e+13 | 1        | nan   | 7365    | 3     | 1      | 2.01112e+13 | 1636.31 | 1    | 100  | 220     | 74645\n",
       "2013 | 92966  | 1636.31 | 2.01112e+13 | 1        | nan   | 7365    | 3     | 3      | 2.01112e+13 | 1589.28 | 2    | 100  | 4110    | 6240\n",
       "2013 | 92967  | 3141.2  | 2.01112e+13 | 1        | nan   | 7365    | 3     | 3      | 2.01112e+13 | 3384.73 | 1    | 100  | 1050    | 0\n",
       "2013 | 92969  | 3068.09 | 2.01112e+13 | 1        | nan   | 7365    | 3     | 1      | 2.01112e+13 | 3068.09 | 1    | 100  | 1410    | 115421\n",
       "2013 | 92970  | 2892.39 | 2.01112e+13 | 1        | nan   | 7365    | 3     | 1      | 2.01112e+13 | 2892.39 | 1    | 100  | 1020    | 117865\n",
       "2013 | 92973  | 1562.79 | 2.01112e+13 | 1        | nan   | 7365    | 3     | 1      | 2.01112e+13 | 1562.79 | 1    | 100  | 4220    | 29017\n",
       "2013 | 92976  | 1748.64 | 2.01112e+13 | 1        | nan   | 7365    | 3     | 1      | 2.01112e+13 | 1748.64 | 2    | 651  | 350     | 130030\n",
       "2013 | 92980  | 1684.33 | 2.01112e+13 | 1        | nan   | 7365    | 3     | 3      | 2.01112e+13 | 2157.3  | 2    | 651  | 720     | 571\n",
       "2013 | 92983  | 3266.71 | 2.01112e+13 | 1        | nan   | 7365    | 3     | 2      | 2.01112e+13 | 3406.81 | 1    | 100  | 9620    | 19825\n",
       "... (2540 rows omitted)"
      ]
     },
     "execution_count": 50,
     "metadata": {},
     "output_type": "execute_result"
    }
   ],
   "source": [
    "import pandas as pd\n",
    "\n",
    "df = bay_area.to_df()\n",
    "bay_area = Table.from_df(df.loc[df['OCC2010'].isin(job_codes)])\n",
    "bay_area"
   ]
  },
  {
   "cell_type": "code",
   "execution_count": null,
   "metadata": {
    "collapsed": true
   },
   "outputs": [],
   "source": []
  },
  {
   "cell_type": "code",
   "execution_count": 37,
   "metadata": {
    "collapsed": true
   },
   "outputs": [],
   "source": [
    "bay_area.where?"
   ]
  },
  {
   "cell_type": "code",
   "execution_count": 18,
   "metadata": {
    "collapsed": false
   },
   "outputs": [
    {
     "data": {
      "text/plain": [
       "datascience.tables.Table"
      ]
     },
     "execution_count": 18,
     "metadata": {},
     "output_type": "execute_result"
    }
   ],
   "source": [
    "type(bay_area)"
   ]
  },
  {
   "cell_type": "code",
   "execution_count": 22,
   "metadata": {
    "collapsed": false
   },
   "outputs": [
    {
     "ename": "Exception",
     "evalue": "Row should have 15 columns",
     "output_type": "error",
     "traceback": [
      "\u001b[0;31m---------------------------------------------------------------------------\u001b[0m",
      "\u001b[0;31mException\u001b[0m                                 Traceback (most recent call last)",
      "\u001b[0;32m<ipython-input-22-fb90307b90cd>\u001b[0m in \u001b[0;36m<module>\u001b[0;34m()\u001b[0m\n\u001b[1;32m      3\u001b[0m \u001b[0ma\u001b[0m \u001b[0;34m=\u001b[0m \u001b[0mbay_area\u001b[0m\u001b[0;34m.\u001b[0m\u001b[0mwhere\u001b[0m\u001b[0;34m(\u001b[0m\u001b[0;34m'OCC2010'\u001b[0m\u001b[0;34m)\u001b[0m\u001b[0;34m,\u001b[0m \u001b[0mare\u001b[0m\u001b[0;34m.\u001b[0m\u001b[0mequal_to\u001b[0m\u001b[0;34m(\u001b[0m\u001b[0mjob_codes\u001b[0m\u001b[0;34m)\u001b[0m\u001b[0;34m\u001b[0m\u001b[0m\n\u001b[1;32m      4\u001b[0m \u001b[0;32mfor\u001b[0m \u001b[0mi\u001b[0m \u001b[0;32min\u001b[0m \u001b[0mjob_codes\u001b[0m\u001b[0;34m:\u001b[0m\u001b[0;34m\u001b[0m\u001b[0m\n\u001b[0;32m----> 5\u001b[0;31m     \u001b[0mt\u001b[0m\u001b[0;34m.\u001b[0m\u001b[0mappend\u001b[0m\u001b[0;34m(\u001b[0m\u001b[0ma\u001b[0m\u001b[0;34m)\u001b[0m\u001b[0;34m\u001b[0m\u001b[0m\n\u001b[0m\u001b[1;32m      6\u001b[0m \u001b[0mt\u001b[0m\u001b[0;34m\u001b[0m\u001b[0m\n\u001b[1;32m      7\u001b[0m \u001b[0;34m\u001b[0m\u001b[0m\n",
      "\u001b[0;32m/anaconda/lib/python3.6/site-packages/datascience/tables.py\u001b[0m in \u001b[0;36mappend\u001b[0;34m(self, row_or_table)\u001b[0m\n\u001b[1;32m    404\u001b[0m         \u001b[0;32melse\u001b[0m\u001b[0;34m:\u001b[0m\u001b[0;34m\u001b[0m\u001b[0m\n\u001b[1;32m    405\u001b[0m             \u001b[0;32mif\u001b[0m \u001b[0;34m(\u001b[0m\u001b[0mlen\u001b[0m\u001b[0;34m(\u001b[0m\u001b[0mlist\u001b[0m\u001b[0;34m(\u001b[0m\u001b[0mrow_or_table\u001b[0m\u001b[0;34m)\u001b[0m\u001b[0;34m)\u001b[0m \u001b[0;34m!=\u001b[0m \u001b[0mself\u001b[0m\u001b[0;34m.\u001b[0m\u001b[0mnum_columns\u001b[0m\u001b[0;34m)\u001b[0m\u001b[0;34m:\u001b[0m\u001b[0;34m\u001b[0m\u001b[0m\n\u001b[0;32m--> 406\u001b[0;31m                 \u001b[0;32mraise\u001b[0m \u001b[0mException\u001b[0m\u001b[0;34m(\u001b[0m\u001b[0;34m'Row should have '\u001b[0m\u001b[0;34m+\u001b[0m \u001b[0mstr\u001b[0m\u001b[0;34m(\u001b[0m\u001b[0mself\u001b[0m\u001b[0;34m.\u001b[0m\u001b[0mnum_columns\u001b[0m\u001b[0;34m)\u001b[0m \u001b[0;34m+\u001b[0m \u001b[0;34m\" columns\"\u001b[0m\u001b[0;34m)\u001b[0m\u001b[0;34m\u001b[0m\u001b[0m\n\u001b[0m\u001b[1;32m    407\u001b[0m             \u001b[0mcolumns\u001b[0m\u001b[0;34m,\u001b[0m \u001b[0mn\u001b[0m \u001b[0;34m=\u001b[0m \u001b[0;34m[\u001b[0m\u001b[0;34m[\u001b[0m\u001b[0mvalue\u001b[0m\u001b[0;34m]\u001b[0m \u001b[0;32mfor\u001b[0m \u001b[0mvalue\u001b[0m \u001b[0;32min\u001b[0m \u001b[0mrow_or_table\u001b[0m\u001b[0;34m]\u001b[0m\u001b[0;34m,\u001b[0m \u001b[0;36m1\u001b[0m\u001b[0;34m\u001b[0m\u001b[0m\n\u001b[1;32m    408\u001b[0m         \u001b[0;32mfor\u001b[0m \u001b[0mi\u001b[0m\u001b[0;34m,\u001b[0m \u001b[0mcolumn\u001b[0m \u001b[0;32min\u001b[0m \u001b[0menumerate\u001b[0m\u001b[0;34m(\u001b[0m\u001b[0mself\u001b[0m\u001b[0;34m.\u001b[0m\u001b[0m_columns\u001b[0m\u001b[0;34m)\u001b[0m\u001b[0;34m:\u001b[0m\u001b[0;34m\u001b[0m\u001b[0m\n",
      "\u001b[0;31mException\u001b[0m: Row should have 15 columns"
     ]
    }
   ],
   "source": [
    "# some variation of this should work\n",
    "#t = Table(make_array(bay_area.labels)[0])\n",
    "#a = bay_area.where('OCC2010'), are.equal_to(job_codes)\n",
    "#for i in job_codes:\n",
    "    #t.append(a)\n",
    "#t\n",
    "    "
   ]
  },
  {
   "cell_type": "code",
   "execution_count": 19,
   "metadata": {
    "collapsed": false
   },
   "outputs": [
    {
     "data": {
      "text/html": [
       "<table border=\"1\" class=\"dataframe\">\n",
       "    <thead>\n",
       "        <tr>\n",
       "            <th>YEAR</th> <th>SERIAL</th> <th>HWTSUPP</th> <th>CPSID</th> <th>ASECFLAG</th> <th>HFLAG</th> <th>METAREA</th> <th>MONTH</th> <th>PERNUM</th> <th>CPSIDP</th> <th>WTSUPP</th> <th>SEX</th> <th>RACE</th> <th>OCC2010</th> <th>INCTOT</th>\n",
       "        </tr>\n",
       "    </thead>\n",
       "    <tbody>\n",
       "        <tr>\n",
       "            <td>2013</td> <td>93310 </td> <td>1822.77</td> <td>0          </td> <td>1       </td> <td>nan  </td> <td>7365   </td> <td>3    </td> <td>2     </td> <td>0          </td> <td>1822.77</td> <td>2   </td> <td>100 </td> <td>10     </td> <td>77200 </td>\n",
       "        </tr>\n",
       "    </tbody>\n",
       "        <tr>\n",
       "            <td>2013</td> <td>93328 </td> <td>1630.06</td> <td>2.01112e+13</td> <td>1       </td> <td>nan  </td> <td>7365   </td> <td>3    </td> <td>1     </td> <td>2.01112e+13</td> <td>1630.06</td> <td>2   </td> <td>100 </td> <td>10     </td> <td>15903 </td>\n",
       "        </tr>\n",
       "    </tbody>\n",
       "        <tr>\n",
       "            <td>2013</td> <td>93389 </td> <td>3205.94</td> <td>2.01202e+13</td> <td>1       </td> <td>nan  </td> <td>7365   </td> <td>3    </td> <td>1     </td> <td>2.01202e+13</td> <td>3205.94</td> <td>1   </td> <td>100 </td> <td>10     </td> <td>91800 </td>\n",
       "        </tr>\n",
       "    </tbody>\n",
       "        <tr>\n",
       "            <td>2013</td> <td>93392 </td> <td>3330.06</td> <td>2.01203e+13</td> <td>1       </td> <td>nan  </td> <td>7365   </td> <td>3    </td> <td>2     </td> <td>2.01203e+13</td> <td>3330.06</td> <td>1   </td> <td>100 </td> <td>10     </td> <td>289999</td>\n",
       "        </tr>\n",
       "    </tbody>\n",
       "        <tr>\n",
       "            <td>2013</td> <td>93419 </td> <td>3137.8 </td> <td>2.01212e+13</td> <td>1       </td> <td>nan  </td> <td>7365   </td> <td>3    </td> <td>1     </td> <td>2.01212e+13</td> <td>3137.8 </td> <td>1   </td> <td>100 </td> <td>10     </td> <td>331170</td>\n",
       "        </tr>\n",
       "    </tbody>\n",
       "        <tr>\n",
       "            <td>2013</td> <td>93422 </td> <td>3141.2 </td> <td>2.01212e+13</td> <td>1       </td> <td>nan  </td> <td>7365   </td> <td>3    </td> <td>2     </td> <td>2.01212e+13</td> <td>3141.2 </td> <td>1   </td> <td>100 </td> <td>10     </td> <td>405677</td>\n",
       "        </tr>\n",
       "    </tbody>\n",
       "        <tr>\n",
       "            <td>2013</td> <td>93453 </td> <td>1635.74</td> <td>2.01302e+13</td> <td>1       </td> <td>nan  </td> <td>7365   </td> <td>3    </td> <td>1     </td> <td>2.01302e+13</td> <td>1635.74</td> <td>1   </td> <td>803 </td> <td>10     </td> <td>158650</td>\n",
       "        </tr>\n",
       "    </tbody>\n",
       "        <tr>\n",
       "            <td>2013</td> <td>93454 </td> <td>1709.83</td> <td>2.01302e+13</td> <td>1       </td> <td>nan  </td> <td>7365   </td> <td>3    </td> <td>1     </td> <td>2.01302e+13</td> <td>1709.83</td> <td>1   </td> <td>100 </td> <td>10     </td> <td>277744</td>\n",
       "        </tr>\n",
       "    </tbody>\n",
       "        <tr>\n",
       "            <td>2013</td> <td>93454 </td> <td>1709.83</td> <td>2.01302e+13</td> <td>1       </td> <td>nan  </td> <td>7365   </td> <td>3    </td> <td>2     </td> <td>2.01302e+13</td> <td>1709.83</td> <td>2   </td> <td>100 </td> <td>10     </td> <td>82000 </td>\n",
       "        </tr>\n",
       "    </tbody>\n",
       "        <tr>\n",
       "            <td>2013</td> <td>93473 </td> <td>1634.97</td> <td>2.01303e+13</td> <td>1       </td> <td>nan  </td> <td>7365   </td> <td>3    </td> <td>2     </td> <td>2.01303e+13</td> <td>1634.97</td> <td>2   </td> <td>100 </td> <td>10     </td> <td>70500 </td>\n",
       "        </tr>\n",
       "    </tbody>\n",
       "</table>\n",
       "<p>... (107 rows omitted)</p"
      ],
      "text/plain": [
       "YEAR | SERIAL | HWTSUPP | CPSID       | ASECFLAG | HFLAG | METAREA | MONTH | PERNUM | CPSIDP      | WTSUPP  | SEX  | RACE | OCC2010 | INCTOT\n",
       "2013 | 93310  | 1822.77 | 0           | 1        | nan   | 7365    | 3     | 2      | 0           | 1822.77 | 2    | 100  | 10      | 77200\n",
       "2013 | 93328  | 1630.06 | 2.01112e+13 | 1        | nan   | 7365    | 3     | 1      | 2.01112e+13 | 1630.06 | 2    | 100  | 10      | 15903\n",
       "2013 | 93389  | 3205.94 | 2.01202e+13 | 1        | nan   | 7365    | 3     | 1      | 2.01202e+13 | 3205.94 | 1    | 100  | 10      | 91800\n",
       "2013 | 93392  | 3330.06 | 2.01203e+13 | 1        | nan   | 7365    | 3     | 2      | 2.01203e+13 | 3330.06 | 1    | 100  | 10      | 289999\n",
       "2013 | 93419  | 3137.8  | 2.01212e+13 | 1        | nan   | 7365    | 3     | 1      | 2.01212e+13 | 3137.8  | 1    | 100  | 10      | 331170\n",
       "2013 | 93422  | 3141.2  | 2.01212e+13 | 1        | nan   | 7365    | 3     | 2      | 2.01212e+13 | 3141.2  | 1    | 100  | 10      | 405677\n",
       "2013 | 93453  | 1635.74 | 2.01302e+13 | 1        | nan   | 7365    | 3     | 1      | 2.01302e+13 | 1635.74 | 1    | 803  | 10      | 158650\n",
       "2013 | 93454  | 1709.83 | 2.01302e+13 | 1        | nan   | 7365    | 3     | 1      | 2.01302e+13 | 1709.83 | 1    | 100  | 10      | 277744\n",
       "2013 | 93454  | 1709.83 | 2.01302e+13 | 1        | nan   | 7365    | 3     | 2      | 2.01302e+13 | 1709.83 | 2    | 100  | 10      | 82000\n",
       "2013 | 93473  | 1634.97 | 2.01303e+13 | 1        | nan   | 7365    | 3     | 2      | 2.01303e+13 | 1634.97 | 2    | 100  | 10      | 70500\n",
       "... (107 rows omitted)"
      ]
     },
     "execution_count": 19,
     "metadata": {},
     "output_type": "execute_result"
    }
   ],
   "source": [
    "# THIS WORKS\n",
    "# so above code is close!\n",
    "ten = bay_area.where('OCC2010', are.equal_to(10))\n",
    "t.append(ten)"
   ]
  },
  {
   "cell_type": "code",
   "execution_count": null,
   "metadata": {
    "collapsed": true
   },
   "outputs": [],
   "source": []
  }
 ],
 "metadata": {
  "anaconda-cloud": {},
  "kernelspec": {
   "display_name": "Python [default]",
   "language": "python",
   "name": "python3"
  },
  "language_info": {
   "codemirror_mode": {
    "name": "ipython",
    "version": 3
   },
   "file_extension": ".py",
   "mimetype": "text/x-python",
   "name": "python",
   "nbconvert_exporter": "python",
   "pygments_lexer": "ipython3",
   "version": "3.5.2"
  }
 },
 "nbformat": 4,
 "nbformat_minor": 2
}
