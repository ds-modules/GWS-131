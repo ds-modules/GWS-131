{
 "cells": [
  {
   "cell_type": "code",
   "execution_count": 1,
   "metadata": {
    "collapsed": true
   },
   "outputs": [],
   "source": [
    "from datascience import *\n",
    "import numpy as np\n",
    "import math\n",
    "%matplotlib inline"
   ]
  },
  {
   "cell_type": "code",
   "execution_count": 2,
   "metadata": {
    "collapsed": true
   },
   "outputs": [],
   "source": [
    "data = Table().read_table('data/cps_00002.csv')"
   ]
  },
  {
   "cell_type": "code",
   "execution_count": 9,
   "metadata": {},
   "outputs": [
    {
     "data": {
      "text/html": [
       "<table border=\"1\" class=\"dataframe\">\n",
       "    <thead>\n",
       "        <tr>\n",
       "            <th>YEAR</th> <th>SERIAL</th> <th>HWTSUPP</th> <th>CPSID</th> <th>ASECFLAG</th> <th>HFLAG</th> <th>METAREA</th> <th>MONTH</th> <th>PERNUM</th> <th>CPSIDP</th> <th>WTSUPP</th> <th>SEX</th> <th>RACE</th> <th>OCC2010</th> <th>INCTOT</th>\n",
       "        </tr>\n",
       "    </thead>\n",
       "    <tbody>\n",
       "        <tr>\n",
       "            <td>2013</td> <td>3     </td> <td>616.97 </td> <td>2.01112e+13</td> <td>1       </td> <td>nan  </td> <td>9998   </td> <td>3    </td> <td>1     </td> <td>2.01112e+13</td> <td>616.97</td> <td>1   </td> <td>100 </td> <td>9920   </td> <td>20196 </td>\n",
       "        </tr>\n",
       "    </tbody>\n",
       "        <tr>\n",
       "            <td>2013</td> <td>5     </td> <td>591.14 </td> <td>2.01112e+13</td> <td>1       </td> <td>nan  </td> <td>9998   </td> <td>3    </td> <td>1     </td> <td>2.01112e+13</td> <td>591.14</td> <td>2   </td> <td>100 </td> <td>9100   </td> <td>25200 </td>\n",
       "        </tr>\n",
       "    </tbody>\n",
       "        <tr>\n",
       "            <td>2013</td> <td>5     </td> <td>591.14 </td> <td>2.01112e+13</td> <td>1       </td> <td>nan  </td> <td>9998   </td> <td>3    </td> <td>2     </td> <td>2.01112e+13</td> <td>591.14</td> <td>1   </td> <td>100 </td> <td>7220   </td> <td>26000 </td>\n",
       "        </tr>\n",
       "    </tbody>\n",
       "        <tr>\n",
       "            <td>2013</td> <td>5     </td> <td>591.14 </td> <td>2.01112e+13</td> <td>1       </td> <td>nan  </td> <td>9998   </td> <td>3    </td> <td>3     </td> <td>2.01112e+13</td> <td>514.79</td> <td>1   </td> <td>100 </td> <td>9920   </td> <td>13200 </td>\n",
       "        </tr>\n",
       "    </tbody>\n",
       "        <tr>\n",
       "            <td>2013</td> <td>7     </td> <td>613.14 </td> <td>2.01201e+13</td> <td>1       </td> <td>nan  </td> <td>9998   </td> <td>3    </td> <td>1     </td> <td>2.01201e+13</td> <td>613.14</td> <td>1   </td> <td>100 </td> <td>6230   </td> <td>9000  </td>\n",
       "        </tr>\n",
       "    </tbody>\n",
       "        <tr>\n",
       "            <td>2013</td> <td>7     </td> <td>613.14 </td> <td>2.01201e+13</td> <td>1       </td> <td>nan  </td> <td>9998   </td> <td>3    </td> <td>2     </td> <td>2.01201e+13</td> <td>613.14</td> <td>2   </td> <td>100 </td> <td>9920   </td> <td>0     </td>\n",
       "        </tr>\n",
       "    </tbody>\n",
       "        <tr>\n",
       "            <td>2013</td> <td>9     </td> <td>656.54 </td> <td>2.01201e+13</td> <td>1       </td> <td>nan  </td> <td>9998   </td> <td>3    </td> <td>1     </td> <td>2.01201e+13</td> <td>656.54</td> <td>2   </td> <td>100 </td> <td>3130   </td> <td>45184 </td>\n",
       "        </tr>\n",
       "    </tbody>\n",
       "        <tr>\n",
       "            <td>2013</td> <td>9     </td> <td>656.54 </td> <td>2.01201e+13</td> <td>1       </td> <td>nan  </td> <td>9998   </td> <td>3    </td> <td>2     </td> <td>2.01201e+13</td> <td>656.54</td> <td>1   </td> <td>100 </td> <td>2310   </td> <td>28126 </td>\n",
       "        </tr>\n",
       "    </tbody>\n",
       "        <tr>\n",
       "            <td>2013</td> <td>10    </td> <td>347.43 </td> <td>2.01201e+13</td> <td>1       </td> <td>nan  </td> <td>9998   </td> <td>3    </td> <td>1     </td> <td>2.01201e+13</td> <td>347.43</td> <td>1   </td> <td>100 </td> <td>7220   </td> <td>40000 </td>\n",
       "        </tr>\n",
       "    </tbody>\n",
       "        <tr>\n",
       "            <td>2013</td> <td>10    </td> <td>347.43 </td> <td>2.01201e+13</td> <td>1       </td> <td>nan  </td> <td>9998   </td> <td>3    </td> <td>2     </td> <td>2.01201e+13</td> <td>347.43</td> <td>2   </td> <td>100 </td> <td>9920   </td> <td>3472  </td>\n",
       "        </tr>\n",
       "    </tbody>\n",
       "</table>\n",
       "<p>... (786691 rows omitted)</p"
      ],
      "text/plain": [
       "YEAR | SERIAL | HWTSUPP | CPSID       | ASECFLAG | HFLAG | METAREA | MONTH | PERNUM | CPSIDP      | WTSUPP | SEX  | RACE | OCC2010 | INCTOT\n",
       "2013 | 3      | 616.97  | 2.01112e+13 | 1        | nan   | 9998    | 3     | 1      | 2.01112e+13 | 616.97 | 1    | 100  | 9920    | 20196\n",
       "2013 | 5      | 591.14  | 2.01112e+13 | 1        | nan   | 9998    | 3     | 1      | 2.01112e+13 | 591.14 | 2    | 100  | 9100    | 25200\n",
       "2013 | 5      | 591.14  | 2.01112e+13 | 1        | nan   | 9998    | 3     | 2      | 2.01112e+13 | 591.14 | 1    | 100  | 7220    | 26000\n",
       "2013 | 5      | 591.14  | 2.01112e+13 | 1        | nan   | 9998    | 3     | 3      | 2.01112e+13 | 514.79 | 1    | 100  | 9920    | 13200\n",
       "2013 | 7      | 613.14  | 2.01201e+13 | 1        | nan   | 9998    | 3     | 1      | 2.01201e+13 | 613.14 | 1    | 100  | 6230    | 9000\n",
       "2013 | 7      | 613.14  | 2.01201e+13 | 1        | nan   | 9998    | 3     | 2      | 2.01201e+13 | 613.14 | 2    | 100  | 9920    | 0\n",
       "2013 | 9      | 656.54  | 2.01201e+13 | 1        | nan   | 9998    | 3     | 1      | 2.01201e+13 | 656.54 | 2    | 100  | 3130    | 45184\n",
       "2013 | 9      | 656.54  | 2.01201e+13 | 1        | nan   | 9998    | 3     | 2      | 2.01201e+13 | 656.54 | 1    | 100  | 2310    | 28126\n",
       "2013 | 10     | 347.43  | 2.01201e+13 | 1        | nan   | 9998    | 3     | 1      | 2.01201e+13 | 347.43 | 1    | 100  | 7220    | 40000\n",
       "2013 | 10     | 347.43  | 2.01201e+13 | 1        | nan   | 9998    | 3     | 2      | 2.01201e+13 | 347.43 | 2    | 100  | 9920    | 3472\n",
       "... (786691 rows omitted)"
      ]
     },
     "execution_count": 9,
     "metadata": {},
     "output_type": "execute_result"
    }
   ],
   "source": [
    "data"
   ]
  },
  {
   "cell_type": "code",
   "execution_count": 3,
   "metadata": {
    "collapsed": true
   },
   "outputs": [],
   "source": [
    "# extract San Francisco Metropolitan Area\n",
    "sf = data.where('METAREA', are.equal_to(7365))"
   ]
  },
  {
   "cell_type": "code",
   "execution_count": 4,
   "metadata": {
    "collapsed": true
   },
   "outputs": [],
   "source": [
    "# Extract Silicon Valley/San Jose Metropolitan Area\n",
    "sv = data.where('METAREA', are.equal_to(7401))"
   ]
  },
  {
   "cell_type": "code",
   "execution_count": 5,
   "metadata": {
    "collapsed": true
   },
   "outputs": [],
   "source": [
    "bay_area = sf.append(sv)"
   ]
  },
  {
   "cell_type": "code",
   "execution_count": 7,
   "metadata": {
    "collapsed": true
   },
   "outputs": [],
   "source": [
    "bay_area.to_df().to_csv('bay_area_data.csv', index=False)"
   ]
  },
  {
   "cell_type": "code",
   "execution_count": null,
   "metadata": {
    "collapsed": true
   },
   "outputs": [],
   "source": []
  },
  {
   "cell_type": "code",
   "execution_count": null,
   "metadata": {
    "collapsed": true
   },
   "outputs": [],
   "source": []
  }
 ],
 "metadata": {
  "kernelspec": {
   "display_name": "Python 3",
   "language": "python",
   "name": "python3"
  },
  "language_info": {
   "codemirror_mode": {
    "name": "ipython",
    "version": 3
   },
   "file_extension": ".py",
   "mimetype": "text/x-python",
   "name": "python",
   "nbconvert_exporter": "python",
   "pygments_lexer": "ipython3",
   "version": "3.5.2"
  }
 },
 "nbformat": 4,
 "nbformat_minor": 2
}
